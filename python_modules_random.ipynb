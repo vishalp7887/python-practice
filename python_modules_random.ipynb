{
 "cells": [
  {
   "cell_type": "code",
   "execution_count": 1,
   "id": "d328a827",
   "metadata": {},
   "outputs": [],
   "source": [
    "import random"
   ]
  },
  {
   "cell_type": "code",
   "execution_count": 2,
   "id": "5a863dda",
   "metadata": {},
   "outputs": [
    {
     "data": {
      "text/plain": [
       "0.7929681505056938"
      ]
     },
     "execution_count": 2,
     "metadata": {},
     "output_type": "execute_result"
    }
   ],
   "source": [
    "random.random()"
   ]
  },
  {
   "cell_type": "code",
   "execution_count": 3,
   "id": "8fe79e03",
   "metadata": {},
   "outputs": [
    {
     "data": {
      "text/plain": [
       "0.18709007557401436"
      ]
     },
     "execution_count": 3,
     "metadata": {},
     "output_type": "execute_result"
    }
   ],
   "source": [
    "random.random()"
   ]
  },
  {
   "cell_type": "code",
   "execution_count": 4,
   "id": "efcd4fa6",
   "metadata": {},
   "outputs": [
    {
     "data": {
      "text/plain": [
       "2"
      ]
     },
     "execution_count": 4,
     "metadata": {},
     "output_type": "execute_result"
    }
   ],
   "source": [
    "random.randrange(10)"
   ]
  },
  {
   "cell_type": "code",
   "execution_count": 5,
   "id": "acb254ee",
   "metadata": {},
   "outputs": [
    {
     "data": {
      "text/plain": [
       "6"
      ]
     },
     "execution_count": 5,
     "metadata": {},
     "output_type": "execute_result"
    }
   ],
   "source": [
    "random.randrange(1,10)"
   ]
  },
  {
   "cell_type": "code",
   "execution_count": 7,
   "id": "f8362a1f",
   "metadata": {},
   "outputs": [
    {
     "data": {
      "text/plain": [
       "4"
      ]
     },
     "execution_count": 7,
     "metadata": {},
     "output_type": "execute_result"
    }
   ],
   "source": [
    "random.randrange(10,3,-1)"
   ]
  },
  {
   "cell_type": "code",
   "execution_count": 8,
   "id": "55c0996c",
   "metadata": {},
   "outputs": [
    {
     "name": "stdout",
     "output_type": "stream",
     "text": [
      "['BPF', 'LOG4', 'NV_MAGICCONST', 'RECIP_BPF', 'Random', 'SG_MAGICCONST', 'SystemRandom', 'TWOPI', '_Sequence', '_Set', '__all__', '__builtins__', '__cached__', '__doc__', '__file__', '__loader__', '__name__', '__package__', '__spec__', '_accumulate', '_acos', '_bisect', '_ceil', '_cos', '_e', '_exp', '_floor', '_inst', '_log', '_os', '_pi', '_random', '_repeat', '_sha512', '_sin', '_sqrt', '_test', '_test_generator', '_urandom', '_warn', 'betavariate', 'choice', 'choices', 'expovariate', 'gammavariate', 'gauss', 'getrandbits', 'getstate', 'lognormvariate', 'normalvariate', 'paretovariate', 'randbytes', 'randint', 'random', 'randrange', 'sample', 'seed', 'setstate', 'shuffle', 'triangular', 'uniform', 'vonmisesvariate', 'weibullvariate']\n"
     ]
    }
   ],
   "source": [
    "print(dir(random))"
   ]
  },
  {
   "cell_type": "code",
   "execution_count": 9,
   "id": "b1e37132",
   "metadata": {},
   "outputs": [
    {
     "data": {
      "text/plain": [
       "29"
      ]
     },
     "execution_count": 9,
     "metadata": {},
     "output_type": "execute_result"
    }
   ],
   "source": [
    "random.randrange(10,99)"
   ]
  },
  {
   "cell_type": "code",
   "execution_count": 10,
   "id": "90a58f3c",
   "metadata": {},
   "outputs": [
    {
     "data": {
      "text/plain": [
       "18"
      ]
     },
     "execution_count": 10,
     "metadata": {},
     "output_type": "execute_result"
    }
   ],
   "source": [
    "random.randint(11,19)"
   ]
  },
  {
   "cell_type": "code",
   "execution_count": 13,
   "id": "64c08f6c",
   "metadata": {},
   "outputs": [
    {
     "data": {
      "text/plain": [
       "84"
      ]
     },
     "execution_count": 13,
     "metadata": {},
     "output_type": "execute_result"
    }
   ],
   "source": [
    "random.randint(10,99)"
   ]
  },
  {
   "cell_type": "code",
   "execution_count": 14,
   "id": "a7826752",
   "metadata": {},
   "outputs": [
    {
     "data": {
      "text/plain": [
       "'l'"
      ]
     },
     "execution_count": 14,
     "metadata": {},
     "output_type": "execute_result"
    }
   ],
   "source": [
    "random.choice('hello')"
   ]
  },
  {
   "cell_type": "code",
   "execution_count": 16,
   "id": "0357a63f",
   "metadata": {},
   "outputs": [
    {
     "data": {
      "text/plain": [
       "'l'"
      ]
     },
     "execution_count": 16,
     "metadata": {},
     "output_type": "execute_result"
    }
   ],
   "source": [
    "random.choice('hello')"
   ]
  },
  {
   "cell_type": "code",
   "execution_count": 17,
   "id": "e163bc21",
   "metadata": {},
   "outputs": [
    {
     "data": {
      "text/plain": [
       "'h'"
      ]
     },
     "execution_count": 17,
     "metadata": {},
     "output_type": "execute_result"
    }
   ],
   "source": [
    "random.choice('hello')"
   ]
  },
  {
   "cell_type": "code",
   "execution_count": 18,
   "id": "60826830",
   "metadata": {},
   "outputs": [
    {
     "data": {
      "text/plain": [
       "'he'"
      ]
     },
     "execution_count": 18,
     "metadata": {},
     "output_type": "execute_result"
    }
   ],
   "source": [
    "random.choice(['he','jn','oj'])"
   ]
  },
  {
   "cell_type": "code",
   "execution_count": 24,
   "id": "3a56f991",
   "metadata": {},
   "outputs": [
    {
     "name": "stdout",
     "output_type": "stream",
     "text": [
      "1\n",
      "1\n",
      "5\n",
      "1\n",
      "1\n",
      "2\n",
      "6\n",
      "6\n",
      "2\n",
      "5\n"
     ]
    }
   ],
   "source": [
    "for i in range(10):\n",
    "    print(random.choice([1,4,6,2,5]))"
   ]
  },
  {
   "cell_type": "code",
   "execution_count": 27,
   "id": "54c512b7",
   "metadata": {},
   "outputs": [
    {
     "name": "stdout",
     "output_type": "stream",
     "text": [
      "a b a b a b a b a b "
     ]
    }
   ],
   "source": [
    "l = ['a','b']\n",
    "for i in range(1,6):\n",
    "    for x in l:\n",
    "        print(x, end=' ')"
   ]
  },
  {
   "cell_type": "code",
   "execution_count": 29,
   "id": "e3f72bd8",
   "metadata": {},
   "outputs": [
    {
     "name": "stdout",
     "output_type": "stream",
     "text": [
      "a: 4\n",
      "b: 6\n",
      "a: 5\n",
      "b: 4\n",
      "a: 6\n",
      "b: 4\n",
      "a: 2\n",
      "b: 4\n",
      "a: 5\n",
      "b: 5\n"
     ]
    }
   ],
   "source": [
    "for i in range(1,6):\n",
    "    for x in l:\n",
    "        print(f\"{x}: {random.choice([1,2,3,4,5,6])}\")"
   ]
  },
  {
   "cell_type": "code",
   "execution_count": 32,
   "id": "8f6aa72f",
   "metadata": {},
   "outputs": [
    {
     "data": {
      "text/plain": [
       "['n', 'o']"
      ]
     },
     "execution_count": 32,
     "metadata": {},
     "output_type": "execute_result"
    }
   ],
   "source": [
    "random.choices('python',k=2)"
   ]
  },
  {
   "cell_type": "code",
   "execution_count": 34,
   "id": "617244d0",
   "metadata": {},
   "outputs": [
    {
     "data": {
      "text/plain": [
       "['o', 'o', 'y', 'h', 't', 'y', 'y', 't', 'n', 'p']"
      ]
     },
     "execution_count": 34,
     "metadata": {},
     "output_type": "execute_result"
    }
   ],
   "source": [
    "random.choices('python',k=10)"
   ]
  },
  {
   "cell_type": "code",
   "execution_count": 35,
   "id": "c242a5d9",
   "metadata": {},
   "outputs": [],
   "source": [
    "# password genetor"
   ]
  },
  {
   "cell_type": "code",
   "execution_count": 36,
   "id": "afaaa027",
   "metadata": {},
   "outputs": [],
   "source": [
    "password = ''\n",
    "for i in range(97,123):\n",
    "    password += chr(i)\n",
    "else:\n",
    "    password += password.upper()"
   ]
  },
  {
   "cell_type": "code",
   "execution_count": 37,
   "id": "89948cd2",
   "metadata": {},
   "outputs": [
    {
     "data": {
      "text/plain": [
       "'abcdefghijklmnopqrstuvwxyzABCDEFGHIJKLMNOPQRSTUVWXYZ'"
      ]
     },
     "execution_count": 37,
     "metadata": {},
     "output_type": "execute_result"
    }
   ],
   "source": [
    "password"
   ]
  },
  {
   "cell_type": "code",
   "execution_count": 38,
   "id": "8ed48075",
   "metadata": {},
   "outputs": [],
   "source": [
    "password = str(password)"
   ]
  },
  {
   "cell_type": "code",
   "execution_count": 39,
   "id": "37e1680e",
   "metadata": {},
   "outputs": [
    {
     "data": {
      "text/plain": [
       "'abcdefghijklmnopqrstuvwxyzABCDEFGHIJKLMNOPQRSTUVWXYZ'"
      ]
     },
     "execution_count": 39,
     "metadata": {},
     "output_type": "execute_result"
    }
   ],
   "source": [
    "password"
   ]
  },
  {
   "cell_type": "code",
   "execution_count": 41,
   "id": "af1a0c33",
   "metadata": {},
   "outputs": [],
   "source": [
    "password += '!@#$%^&*_+-='"
   ]
  },
  {
   "cell_type": "code",
   "execution_count": 42,
   "id": "1667400b",
   "metadata": {},
   "outputs": [
    {
     "data": {
      "text/plain": [
       "'abcdefghijklmnopqrstuvwxyzABCDEFGHIJKLMNOPQRSTUVWXYZ!@#$%^&*_+-='"
      ]
     },
     "execution_count": 42,
     "metadata": {},
     "output_type": "execute_result"
    }
   ],
   "source": [
    "password"
   ]
  },
  {
   "cell_type": "code",
   "execution_count": 44,
   "id": "e502f124",
   "metadata": {},
   "outputs": [
    {
     "data": {
      "text/plain": [
       "['Q', 'm', '#', 'W', 'f', 'f', 'r', 'B']"
      ]
     },
     "execution_count": 44,
     "metadata": {},
     "output_type": "execute_result"
    }
   ],
   "source": [
    "random.choices(password, k = 8)"
   ]
  },
  {
   "cell_type": "code",
   "execution_count": 50,
   "id": "f71dfdc1",
   "metadata": {},
   "outputs": [
    {
     "data": {
      "text/plain": [
       "'m_F_nnyx'"
      ]
     },
     "execution_count": 50,
     "metadata": {},
     "output_type": "execute_result"
    }
   ],
   "source": [
    "''.join(random.choices(password, k = 8))"
   ]
  },
  {
   "cell_type": "code",
   "execution_count": 51,
   "id": "57190c04",
   "metadata": {},
   "outputs": [
    {
     "name": "stdout",
     "output_type": "stream",
     "text": [
      "DqYnu+Fyj"
     ]
    }
   ],
   "source": [
    "for i in range(1,10):\n",
    "    print(''.join(random.choice(password)), end='')"
   ]
  },
  {
   "cell_type": "code",
   "execution_count": 52,
   "id": "a211f0c5",
   "metadata": {},
   "outputs": [],
   "source": [
    "for i in range(0,10):\n",
    "    password += str(i)"
   ]
  },
  {
   "cell_type": "code",
   "execution_count": 53,
   "id": "1ec6dc69",
   "metadata": {},
   "outputs": [
    {
     "data": {
      "text/plain": [
       "'abcdefghijklmnopqrstuvwxyzABCDEFGHIJKLMNOPQRSTUVWXYZ!@#$%^&*_+-=0123456789'"
      ]
     },
     "execution_count": 53,
     "metadata": {},
     "output_type": "execute_result"
    }
   ],
   "source": [
    "password"
   ]
  },
  {
   "cell_type": "code",
   "execution_count": 57,
   "id": "abc4bab6",
   "metadata": {},
   "outputs": [
    {
     "data": {
      "text/plain": [
       "'abcdefghijklmnopqrstuvwxyzABCDEFGHIJKLMNOPQRSTUVWXYZ!@#$%^&*_+-=0123456789'"
      ]
     },
     "execution_count": 57,
     "metadata": {},
     "output_type": "execute_result"
    }
   ],
   "source": [
    "password"
   ]
  },
  {
   "cell_type": "code",
   "execution_count": 58,
   "id": "c00520c4",
   "metadata": {},
   "outputs": [
    {
     "data": {
      "text/plain": [
       "'+FIF@4qm'"
      ]
     },
     "execution_count": 58,
     "metadata": {},
     "output_type": "execute_result"
    }
   ],
   "source": [
    "''.join(random.choices(password, k = 8))"
   ]
  },
  {
   "cell_type": "code",
   "execution_count": 59,
   "id": "c77b9e85",
   "metadata": {},
   "outputs": [
    {
     "data": {
      "text/plain": [
       "'6$#$*%fv'"
      ]
     },
     "execution_count": 59,
     "metadata": {},
     "output_type": "execute_result"
    }
   ],
   "source": [
    "''.join(random.choices(password, k = 8))"
   ]
  },
  {
   "cell_type": "code",
   "execution_count": 66,
   "id": "a4392715",
   "metadata": {},
   "outputs": [
    {
     "name": "stdout",
     "output_type": "stream",
     "text": [
      "MRZZI$o9\n"
     ]
    }
   ],
   "source": [
    "import random\n",
    "\n",
    "l = 'abcdefghijklmnopqrstuvwxyz'\n",
    "u = 'ABCDEFGHIJKLMNOPQRSTUVWXYZ'\n",
    "n = '0123456789'\n",
    "s = '@#$%&*/\\?'\n",
    "\n",
    "use = l + u + n + s\n",
    "\n",
    "p = ''.join(random.choices(use, k = 8))\n",
    "\n",
    "\n",
    "print(p)"
   ]
  },
  {
   "cell_type": "code",
   "execution_count": 104,
   "id": "f3e9a0be",
   "metadata": {},
   "outputs": [
    {
     "name": "stdout",
     "output_type": "stream",
     "text": [
      "eX$2Kzy@\n"
     ]
    }
   ],
   "source": [
    "import random\n",
    "\n",
    "l = 'abcdefghijklmnopqrstuvwxyz'\n",
    "u = 'ABCDEFGHIJKLMNOPQRSTUVWXYZ'\n",
    "n = '0123456789'\n",
    "s = '@#$%&*/\\?'\n",
    "\n",
    "use = l + u + n + s\n",
    "length = 8\n",
    "p = ''.join(random.sample(use, length))\n",
    "\n",
    "\n",
    "print(p)"
   ]
  },
  {
   "cell_type": "code",
   "execution_count": 71,
   "id": "c28d4328",
   "metadata": {},
   "outputs": [
    {
     "name": "stdout",
     "output_type": "stream",
     "text": [
      "iSdqW4/9\n"
     ]
    }
   ],
   "source": [
    "import random\n",
    "use = ''\n",
    "for i in range(97,123):\n",
    "    use += chr(i)\n",
    "else:\n",
    "    use += use.upper()\n",
    "    use += '0123456789'\n",
    "    use += '@#$%&*/\\?'\n",
    "\n",
    "\n",
    "password = ''.join(random.choices(use, k = 8))\n",
    "\n",
    "\n",
    "print(password)"
   ]
  },
  {
   "cell_type": "code",
   "execution_count": 75,
   "id": "05b81a65",
   "metadata": {},
   "outputs": [],
   "source": [
    "l = [1,2,3,4,5]\n",
    "random.shuffle(l)"
   ]
  },
  {
   "cell_type": "code",
   "execution_count": 76,
   "id": "3f499a7d",
   "metadata": {},
   "outputs": [
    {
     "data": {
      "text/plain": [
       "[1, 5, 4, 3, 2]"
      ]
     },
     "execution_count": 76,
     "metadata": {},
     "output_type": "execute_result"
    }
   ],
   "source": [
    "l"
   ]
  },
  {
   "cell_type": "code",
   "execution_count": 77,
   "id": "1649bbe3",
   "metadata": {},
   "outputs": [
    {
     "data": {
      "text/plain": [
       "'C:\\\\Users\\\\DEVAI TECHNOLOGIES\\\\Desktop\\\\python_modules'"
      ]
     },
     "execution_count": 77,
     "metadata": {},
     "output_type": "execute_result"
    }
   ],
   "source": [
    "import os\n",
    "os.getcwd()"
   ]
  },
  {
   "cell_type": "code",
   "execution_count": 80,
   "id": "8935ca66",
   "metadata": {},
   "outputs": [
    {
     "data": {
      "text/plain": [
       "['.git',\n",
       " '.ipynb_checkpoints',\n",
       " 'demo.py',\n",
       " 'module.py',\n",
       " 'readme.md',\n",
       " 'Untitled.ipynb']"
      ]
     },
     "execution_count": 80,
     "metadata": {},
     "output_type": "execute_result"
    }
   ],
   "source": [
    "os.listdir(os.getcwd())"
   ]
  },
  {
   "cell_type": "code",
   "execution_count": 81,
   "id": "be8f6a38",
   "metadata": {},
   "outputs": [
    {
     "data": {
      "text/plain": [
       "0.5565583245844871"
      ]
     },
     "execution_count": 81,
     "metadata": {},
     "output_type": "execute_result"
    }
   ],
   "source": [
    "random.random()"
   ]
  },
  {
   "cell_type": "code",
   "execution_count": 82,
   "id": "1592c1ce",
   "metadata": {},
   "outputs": [
    {
     "data": {
      "text/plain": [
       "0.9637949696311426"
      ]
     },
     "execution_count": 82,
     "metadata": {},
     "output_type": "execute_result"
    }
   ],
   "source": [
    "random.random()"
   ]
  },
  {
   "cell_type": "code",
   "execution_count": 83,
   "id": "c3273bcb",
   "metadata": {},
   "outputs": [
    {
     "data": {
      "text/plain": [
       "9"
      ]
     },
     "execution_count": 83,
     "metadata": {},
     "output_type": "execute_result"
    }
   ],
   "source": [
    "random.randrange(10)"
   ]
  },
  {
   "cell_type": "code",
   "execution_count": 84,
   "id": "c63a1ef7",
   "metadata": {},
   "outputs": [
    {
     "data": {
      "text/plain": [
       "0"
      ]
     },
     "execution_count": 84,
     "metadata": {},
     "output_type": "execute_result"
    }
   ],
   "source": [
    "random.randrange(10)"
   ]
  },
  {
   "cell_type": "code",
   "execution_count": 86,
   "id": "26826c3a",
   "metadata": {},
   "outputs": [
    {
     "data": {
      "text/plain": [
       "8"
      ]
     },
     "execution_count": 86,
     "metadata": {},
     "output_type": "execute_result"
    }
   ],
   "source": [
    "random.randint(1, 10)"
   ]
  },
  {
   "cell_type": "code",
   "execution_count": 87,
   "id": "5f19b5e1",
   "metadata": {},
   "outputs": [
    {
     "data": {
      "text/plain": [
       "1"
      ]
     },
     "execution_count": 87,
     "metadata": {},
     "output_type": "execute_result"
    }
   ],
   "source": [
    "random.randint(1,3)"
   ]
  },
  {
   "cell_type": "code",
   "execution_count": 88,
   "id": "6379b640",
   "metadata": {},
   "outputs": [
    {
     "data": {
      "text/plain": [
       "1"
      ]
     },
     "execution_count": 88,
     "metadata": {},
     "output_type": "execute_result"
    }
   ],
   "source": [
    "random.randint(1,3)"
   ]
  },
  {
   "cell_type": "code",
   "execution_count": 89,
   "id": "27724b10",
   "metadata": {},
   "outputs": [
    {
     "data": {
      "text/plain": [
       "'e'"
      ]
     },
     "execution_count": 89,
     "metadata": {},
     "output_type": "execute_result"
    }
   ],
   "source": [
    "random.choice('hello')"
   ]
  },
  {
   "cell_type": "code",
   "execution_count": 90,
   "id": "70fbc536",
   "metadata": {},
   "outputs": [
    {
     "data": {
      "text/plain": [
       "'l'"
      ]
     },
     "execution_count": 90,
     "metadata": {},
     "output_type": "execute_result"
    }
   ],
   "source": [
    "random.choice('hello')"
   ]
  },
  {
   "cell_type": "code",
   "execution_count": 91,
   "id": "666340f8",
   "metadata": {},
   "outputs": [
    {
     "data": {
      "text/plain": [
       "'o'"
      ]
     },
     "execution_count": 91,
     "metadata": {},
     "output_type": "execute_result"
    }
   ],
   "source": [
    "random.choice('he llo')"
   ]
  },
  {
   "cell_type": "code",
   "execution_count": 92,
   "id": "a7080ae5",
   "metadata": {},
   "outputs": [
    {
     "data": {
      "text/plain": [
       "'o'"
      ]
     },
     "execution_count": 92,
     "metadata": {},
     "output_type": "execute_result"
    }
   ],
   "source": [
    "random.choice('he llo')"
   ]
  },
  {
   "cell_type": "code",
   "execution_count": 93,
   "id": "5d4c4abf",
   "metadata": {},
   "outputs": [
    {
     "data": {
      "text/plain": [
       "' '"
      ]
     },
     "execution_count": 93,
     "metadata": {},
     "output_type": "execute_result"
    }
   ],
   "source": [
    "random.choice('he llo')"
   ]
  },
  {
   "cell_type": "code",
   "execution_count": 94,
   "id": "c75dd7d2",
   "metadata": {},
   "outputs": [
    {
     "data": {
      "text/plain": [
       "['h', 'h', 'e', 'o']"
      ]
     },
     "execution_count": 94,
     "metadata": {},
     "output_type": "execute_result"
    }
   ],
   "source": [
    "random.choices('he llo', k = 4)"
   ]
  },
  {
   "cell_type": "code",
   "execution_count": 96,
   "id": "9109e7ef",
   "metadata": {},
   "outputs": [
    {
     "data": {
      "text/plain": [
       "'elol'"
      ]
     },
     "execution_count": 96,
     "metadata": {},
     "output_type": "execute_result"
    }
   ],
   "source": [
    "''.join(random.choices('hello', k = 4))"
   ]
  },
  {
   "cell_type": "code",
   "execution_count": 98,
   "id": "7dd0c2d8",
   "metadata": {},
   "outputs": [],
   "source": [
    "l = [1,2,3,4,5]\n",
    "random.shuffle(l)"
   ]
  },
  {
   "cell_type": "code",
   "execution_count": 99,
   "id": "3a3f85f6",
   "metadata": {},
   "outputs": [
    {
     "data": {
      "text/plain": [
       "[3, 2, 4, 5, 1]"
      ]
     },
     "execution_count": 99,
     "metadata": {},
     "output_type": "execute_result"
    }
   ],
   "source": [
    "l"
   ]
  },
  {
   "cell_type": "code",
   "execution_count": 102,
   "id": "9d918508",
   "metadata": {},
   "outputs": [],
   "source": [
    "d = [1,2,3,'a','b','c',4,'d']\n",
    "random.shuffle(d)"
   ]
  },
  {
   "cell_type": "code",
   "execution_count": 103,
   "id": "476d0ff8",
   "metadata": {},
   "outputs": [
    {
     "data": {
      "text/plain": [
       "['b', 4, 'a', 'd', 3, 2, 'c', 1]"
      ]
     },
     "execution_count": 103,
     "metadata": {},
     "output_type": "execute_result"
    }
   ],
   "source": [
    "d"
   ]
  },
  {
   "cell_type": "code",
   "execution_count": 115,
   "id": "7da06e08",
   "metadata": {},
   "outputs": [
    {
     "name": "stdout",
     "output_type": "stream",
     "text": [
      "9Ckom0x+\n"
     ]
    }
   ],
   "source": [
    "use = ''\n",
    "\n",
    "for i in range(97, 123):\n",
    "    use += chr(i)\n",
    "else:\n",
    "    use += use.upper()\n",
    "    use += '!@#$%^&*_+=-'\n",
    "    use += '1234567890'\n",
    "    \n",
    "password = ''.join(random.choices(use, k = 8))\n",
    "\n",
    "print(password)"
   ]
  },
  {
   "cell_type": "code",
   "execution_count": 111,
   "id": "d39e41eb",
   "metadata": {},
   "outputs": [
    {
     "data": {
      "text/plain": [
       "'abcdefghijklmnopqrstuvwxyzABCDEFGHIJKLMNOPQRSTUVWXYZ!@#$%^&*_+=-1234567890'"
      ]
     },
     "execution_count": 111,
     "metadata": {},
     "output_type": "execute_result"
    }
   ],
   "source": [
    "use"
   ]
  },
  {
   "cell_type": "code",
   "execution_count": 116,
   "id": "7234b4ac",
   "metadata": {},
   "outputs": [
    {
     "name": "stdout",
     "output_type": "stream",
     "text": [
      "9Ckom0x+\n"
     ]
    }
   ],
   "source": [
    "print(password)"
   ]
  },
  {
   "cell_type": "code",
   "execution_count": 114,
   "id": "ec4daaf0",
   "metadata": {},
   "outputs": [
    {
     "name": "stdout",
     "output_type": "stream",
     "text": [
      "abcdefghijklmnopqrstuvwxyzABCDEFGHIJKLMNOPQRSTUVWXYZ!@#$%^&*_+=-1234567890\n"
     ]
    }
   ],
   "source": [
    "print(use)"
   ]
  },
  {
   "cell_type": "code",
   "execution_count": 117,
   "id": "7818efdd",
   "metadata": {},
   "outputs": [
    {
     "data": {
      "text/plain": [
       "'C:\\\\Users\\\\DEVAI TECHNOLOGIES\\\\Desktop\\\\python_modules'"
      ]
     },
     "execution_count": 117,
     "metadata": {},
     "output_type": "execute_result"
    }
   ],
   "source": [
    "os.getcwd()"
   ]
  },
  {
   "cell_type": "code",
   "execution_count": 120,
   "id": "bbea5420",
   "metadata": {},
   "outputs": [
    {
     "data": {
      "text/plain": [
       "['.git',\n",
       " '.ipynb_checkpoints',\n",
       " 'demo.py',\n",
       " 'module.py',\n",
       " 'readme.md',\n",
       " 'Untitled.ipynb']"
      ]
     },
     "execution_count": 120,
     "metadata": {},
     "output_type": "execute_result"
    }
   ],
   "source": [
    "os.listdir(os.getcwd())"
   ]
  },
  {
   "cell_type": "code",
   "execution_count": null,
   "id": "a03f2ab0",
   "metadata": {},
   "outputs": [],
   "source": []
  }
 ],
 "metadata": {
  "kernelspec": {
   "display_name": "Python 3 (ipykernel)",
   "language": "python",
   "name": "python3"
  },
  "language_info": {
   "codemirror_mode": {
    "name": "ipython",
    "version": 3
   },
   "file_extension": ".py",
   "mimetype": "text/x-python",
   "name": "python",
   "nbconvert_exporter": "python",
   "pygments_lexer": "ipython3",
   "version": "3.9.12"
  }
 },
 "nbformat": 4,
 "nbformat_minor": 5
}
