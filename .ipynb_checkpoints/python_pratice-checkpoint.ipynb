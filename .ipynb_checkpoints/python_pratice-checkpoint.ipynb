{
 "cells": [
  {
   "cell_type": "code",
   "execution_count": 5,
   "id": "f047ea27",
   "metadata": {},
   "outputs": [
    {
     "name": "stdout",
     "output_type": "stream",
     "text": [
      "enter a number : 2\n",
      "enter a number : 5\n",
      "2 less than is 5\n"
     ]
    }
   ],
   "source": [
    "# W.A.P to find greater and less than number using If_else \n",
    "x = int(input('enter a number : '))\n",
    "y = int(input('enter a number : '))\n",
    "\n",
    "if x < y :\n",
    "    print(x, 'less than is', y)\n",
    "else :\n",
    "    print(x, 'greater than is', y)"
   ]
  },
  {
   "cell_type": "code",
   "execution_count": 6,
   "id": "10296b13",
   "metadata": {},
   "outputs": [
    {
     "name": "stdout",
     "output_type": "stream",
     "text": [
      "apple\n",
      "banana\n",
      "mango\n"
     ]
    }
   ],
   "source": [
    "# WAP to print each fruit in list using simple for loop. List1 (apple,banana,mango) \n",
    "\n",
    "list1 = ['apple', 'banana', 'mango']\n",
    "\n",
    "for l in list1:\n",
    "    print(l)"
   ]
  },
  {
   "cell_type": "code",
   "execution_count": null,
   "id": "453c6d00",
   "metadata": {},
   "outputs": [],
   "source": [
    "\n",
    "    "
   ]
  },
  {
   "cell_type": "code",
   "execution_count": 11,
   "id": "1ff2e93d",
   "metadata": {},
   "outputs": [
    {
     "name": "stdout",
     "output_type": "stream",
     "text": [
      "$\n",
      "$$\n",
      "$$$\n",
      "$$$$\n",
      "$$$$$\n"
     ]
    }
   ],
   "source": [
    "#  Print this pattern using nested for Loop.\n",
    "\n",
    "for i in range(1, 6):\n",
    "    print(i * '$')"
   ]
  },
  {
   "cell_type": "code",
   "execution_count": 12,
   "id": "9ff4b006",
   "metadata": {},
   "outputs": [
    {
     "name": "stdout",
     "output_type": "stream",
     "text": [
      "apple\n",
      "mango\n"
     ]
    }
   ],
   "source": [
    "# W.A.P to skip the (Banana) from the list using Continue Statement List1 - (apple,banana,mango)\n",
    "\n",
    "list1 = ['apple', 'banana', 'mango']\n",
    "\n",
    "for i in list1:\n",
    "    if i == 'banana':\n",
    "        continue\n",
    "    print(i)"
   ]
  },
  {
   "cell_type": "code",
   "execution_count": 15,
   "id": "b6f50b85",
   "metadata": {},
   "outputs": [
    {
     "name": "stdout",
     "output_type": "stream",
     "text": [
      "apple\n"
     ]
    }
   ],
   "source": [
    "# W.A.P to break the for loop when (Banana) get in if Condition.\n",
    "\n",
    "list1 = ['apple', 'banana', 'mango']\n",
    "\n",
    "for i in list1:\n",
    "    if i == 'banana':\n",
    "        break\n",
    "    print(i)"
   ]
  },
  {
   "cell_type": "code",
   "execution_count": 16,
   "id": "c6eab6b2",
   "metadata": {},
   "outputs": [
    {
     "name": "stdout",
     "output_type": "stream",
     "text": [
      "hello\n"
     ]
    }
   ],
   "source": [
    "#  W.A.P to print (Hello) using string \n",
    "\n",
    "print('hello')"
   ]
  },
  {
   "cell_type": "code",
   "execution_count": 17,
   "id": "cf94b6b4",
   "metadata": {},
   "outputs": [
    {
     "name": "stdout",
     "output_type": "stream",
     "text": [
      "hello\n"
     ]
    }
   ],
   "source": [
    "# W.A.P to allocate the string to a variable\n",
    "\n",
    "string = 'hello'\n",
    "print(string)"
   ]
  },
  {
   "cell_type": "code",
   "execution_count": 18,
   "id": "cb24dcc2",
   "metadata": {},
   "outputs": [
    {
     "name": "stdout",
     "output_type": "stream",
     "text": [
      "hello\n"
     ]
    }
   ],
   "source": [
    "# W.A.P to print String using three quotes \n",
    "\n",
    "string = '''hello'''\n",
    "print(string)"
   ]
  },
  {
   "cell_type": "code",
   "execution_count": 19,
   "id": "6303612b",
   "metadata": {},
   "outputs": [
    {
     "name": "stdout",
     "output_type": "stream",
     "text": [
      "h\n"
     ]
    }
   ],
   "source": [
    "#  W.A.P to access the 1st position character using index value.\n",
    "\n",
    "string = 'hello'\n",
    "print(string[0])"
   ]
  },
  {
   "cell_type": "code",
   "execution_count": 22,
   "id": "7fd07161",
   "metadata": {},
   "outputs": [
    {
     "name": "stdout",
     "output_type": "stream",
     "text": [
      "ello\n"
     ]
    }
   ],
   "source": [
    "# W.A.P to Access the string after the index value 1.\n",
    "\n",
    "string = 'hello'\n",
    "print(string[1:])"
   ]
  },
  {
   "cell_type": "code",
   "execution_count": 23,
   "id": "8dbc7d30",
   "metadata": {},
   "outputs": [
    {
     "name": "stdout",
     "output_type": "stream",
     "text": [
      "hello\n"
     ]
    }
   ],
   "source": [
    "#  W.A.P to Access the string before the index value 5.\n",
    " \n",
    "string = 'helloo'\n",
    "print(string[:5])"
   ]
  },
  {
   "cell_type": "code",
   "execution_count": 24,
   "id": "6f2bb971",
   "metadata": {},
   "outputs": [
    {
     "name": "stdout",
     "output_type": "stream",
     "text": [
      "ell\n"
     ]
    }
   ],
   "source": [
    "#  W.A.P to Access the String between the index value 1 to 4\n",
    "\n",
    "string = 'helloo'\n",
    "print(string[1:4])"
   ]
  },
  {
   "cell_type": "code",
   "execution_count": 25,
   "id": "c871fef5",
   "metadata": {},
   "outputs": [
    {
     "name": "stdout",
     "output_type": "stream",
     "text": [
      "o\n"
     ]
    }
   ],
   "source": [
    "# W.A.P to print the string from the last index value.\n",
    "\n",
    "string = 'hello'\n",
    "print(string[-1])"
   ]
  },
  {
   "cell_type": "code",
   "execution_count": 37,
   "id": "bb83b006",
   "metadata": {},
   "outputs": [
    {
     "name": "stdout",
     "output_type": "stream",
     "text": [
      "hlo\n"
     ]
    }
   ],
   "source": [
    "# W.A.P to print the String alternate character after the index value 1.\n",
    "\n",
    "string = 'hello'\n",
    "s = ''\n",
    "for i in range(len(string)):\n",
    "    if i % 2 == 0:\n",
    "        s += string[i]\n",
    "print(s)"
   ]
  },
  {
   "cell_type": "code",
   "execution_count": 63,
   "id": "b4ba8f13",
   "metadata": {},
   "outputs": [
    {
     "name": "stdout",
     "output_type": "stream",
     "text": [
      "[1, 2.5, 'hello', (1, 2), {1, 2, 3}]\n"
     ]
    }
   ],
   "source": [
    "#  W.A.P create the list of multiple datatype element\n",
    "\n",
    "list1 = [1, 2.5, 'hello', (1,2), {1,2,3}]\n",
    "print(list1)"
   ]
  },
  {
   "cell_type": "code",
   "execution_count": 65,
   "id": "7cb1acc9",
   "metadata": {},
   "outputs": [
    {
     "name": "stdout",
     "output_type": "stream",
     "text": [
      "5\n"
     ]
    }
   ],
   "source": [
    "# ) W.A.P to find the length of the list.\n",
    "\n",
    "print(len(list1))"
   ]
  },
  {
   "cell_type": "code",
   "execution_count": 74,
   "id": "32a7c7cf",
   "metadata": {},
   "outputs": [
    {
     "name": "stdout",
     "output_type": "stream",
     "text": [
      "[4]\n",
      "[2, 4]\n"
     ]
    }
   ],
   "source": [
    "# W.A.P to update the list using the insert() and append() \n",
    "\n",
    "list2 = list()\n",
    "list2.append(4)\n",
    "print(list2)\n",
    "list2.insert(0,2)\n",
    "print(list2)"
   ]
  },
  {
   "cell_type": "code",
   "execution_count": 2,
   "id": "7ba35a25",
   "metadata": {},
   "outputs": [
    {
     "name": "stdout",
     "output_type": "stream",
     "text": [
      "5\n"
     ]
    }
   ],
   "source": [
    "# W.A.P to remove the element using the pop() and remove()\n",
    "\n",
    "l = [1,2,3,4,5]\n",
    "print(l.pop())\n"
   ]
  },
  {
   "cell_type": "code",
   "execution_count": 4,
   "id": "2c05bf06",
   "metadata": {},
   "outputs": [
    {
     "ename": "NameError",
     "evalue": "name 'remove' is not defined",
     "output_type": "error",
     "traceback": [
      "\u001b[1;31m---------------------------------------------------------------------------\u001b[0m",
      "\u001b[1;31mNameError\u001b[0m                                 Traceback (most recent call last)",
      "Input \u001b[1;32mIn [4]\u001b[0m, in \u001b[0;36m<cell line: 1>\u001b[1;34m()\u001b[0m\n\u001b[1;32m----> 1\u001b[0m \u001b[38;5;28mprint\u001b[39m(\u001b[43mremove\u001b[49m(l))\n",
      "\u001b[1;31mNameError\u001b[0m: name 'remove' is not defined"
     ]
    }
   ],
   "source": [
    "print(remove(l))"
   ]
  },
  {
   "cell_type": "code",
   "execution_count": null,
   "id": "dbbda9c1",
   "metadata": {},
   "outputs": [],
   "source": []
  }
 ],
 "metadata": {
  "kernelspec": {
   "display_name": "Python 3 (ipykernel)",
   "language": "python",
   "name": "python3"
  },
  "language_info": {
   "codemirror_mode": {
    "name": "ipython",
    "version": 3
   },
   "file_extension": ".py",
   "mimetype": "text/x-python",
   "name": "python",
   "nbconvert_exporter": "python",
   "pygments_lexer": "ipython3",
   "version": "3.9.12"
  }
 },
 "nbformat": 4,
 "nbformat_minor": 5
}
