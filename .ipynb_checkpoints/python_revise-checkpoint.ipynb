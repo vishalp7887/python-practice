{
 "cells": [
  {
   "cell_type": "code",
   "execution_count": 1,
   "id": "05337827",
   "metadata": {},
   "outputs": [],
   "source": [
    "s = 'hello'"
   ]
  },
  {
   "cell_type": "code",
   "execution_count": 2,
   "id": "7b9f2aa4",
   "metadata": {},
   "outputs": [
    {
     "data": {
      "text/plain": [
       "'hello'"
      ]
     },
     "execution_count": 2,
     "metadata": {},
     "output_type": "execute_result"
    }
   ],
   "source": [
    "s"
   ]
  },
  {
   "cell_type": "code",
   "execution_count": 4,
   "id": "c5022cb9",
   "metadata": {},
   "outputs": [
    {
     "data": {
      "text/plain": [
       "'Hello'"
      ]
     },
     "execution_count": 4,
     "metadata": {},
     "output_type": "execute_result"
    }
   ],
   "source": [
    "s.capitalize()"
   ]
  },
  {
   "cell_type": "code",
   "execution_count": 5,
   "id": "871405df",
   "metadata": {},
   "outputs": [],
   "source": [
    "s = 'hello good morning'"
   ]
  },
  {
   "cell_type": "code",
   "execution_count": 6,
   "id": "6e12231f",
   "metadata": {},
   "outputs": [
    {
     "data": {
      "text/plain": [
       "'hello good morning'"
      ]
     },
     "execution_count": 6,
     "metadata": {},
     "output_type": "execute_result"
    }
   ],
   "source": [
    "s"
   ]
  },
  {
   "cell_type": "code",
   "execution_count": 7,
   "id": "2fbd9e6f",
   "metadata": {},
   "outputs": [
    {
     "data": {
      "text/plain": [
       "'Hello Good Morning'"
      ]
     },
     "execution_count": 7,
     "metadata": {},
     "output_type": "execute_result"
    }
   ],
   "source": [
    "s.title()"
   ]
  },
  {
   "cell_type": "code",
   "execution_count": 8,
   "id": "cfaafd48",
   "metadata": {},
   "outputs": [
    {
     "data": {
      "text/plain": [
       "4"
      ]
     },
     "execution_count": 8,
     "metadata": {},
     "output_type": "execute_result"
    }
   ],
   "source": [
    "s.count('o')"
   ]
  },
  {
   "cell_type": "code",
   "execution_count": 9,
   "id": "e9aed820",
   "metadata": {},
   "outputs": [
    {
     "data": {
      "text/plain": [
       "18"
      ]
     },
     "execution_count": 9,
     "metadata": {},
     "output_type": "execute_result"
    }
   ],
   "source": [
    "len(s)"
   ]
  },
  {
   "cell_type": "code",
   "execution_count": 10,
   "id": "5e4a3859",
   "metadata": {},
   "outputs": [
    {
     "data": {
      "text/plain": [
       "'hello good morningok'"
      ]
     },
     "execution_count": 10,
     "metadata": {},
     "output_type": "execute_result"
    }
   ],
   "source": [
    "s + 'ok'"
   ]
  },
  {
   "cell_type": "code",
   "execution_count": 11,
   "id": "5c468ed3",
   "metadata": {},
   "outputs": [
    {
     "data": {
      "text/plain": [
       "'hello good morning'"
      ]
     },
     "execution_count": 11,
     "metadata": {},
     "output_type": "execute_result"
    }
   ],
   "source": [
    "s"
   ]
  },
  {
   "cell_type": "code",
   "execution_count": 12,
   "id": "3ec07b73",
   "metadata": {},
   "outputs": [
    {
     "data": {
      "text/plain": [
       "('hello good morning', 'ok')"
      ]
     },
     "execution_count": 12,
     "metadata": {},
     "output_type": "execute_result"
    }
   ],
   "source": [
    "s, 'ok'"
   ]
  },
  {
   "cell_type": "code",
   "execution_count": 13,
   "id": "97611b3a",
   "metadata": {},
   "outputs": [
    {
     "data": {
      "text/plain": [
       "'hello good morning ok'"
      ]
     },
     "execution_count": 13,
     "metadata": {},
     "output_type": "execute_result"
    }
   ],
   "source": [
    "s + ' ok'"
   ]
  },
  {
   "cell_type": "code",
   "execution_count": 14,
   "id": "4e98ed39",
   "metadata": {},
   "outputs": [
    {
     "data": {
      "text/plain": [
       "'hello good morning'"
      ]
     },
     "execution_count": 14,
     "metadata": {},
     "output_type": "execute_result"
    }
   ],
   "source": [
    "s"
   ]
  },
  {
   "cell_type": "code",
   "execution_count": 15,
   "id": "19787521",
   "metadata": {},
   "outputs": [
    {
     "data": {
      "text/plain": [
       "'hello good morning'"
      ]
     },
     "execution_count": 15,
     "metadata": {},
     "output_type": "execute_result"
    }
   ],
   "source": [
    "s.casefold()"
   ]
  },
  {
   "cell_type": "code",
   "execution_count": 16,
   "id": "ce0c3b1c",
   "metadata": {},
   "outputs": [
    {
     "data": {
      "text/plain": [
       "'HELLO GOOD MORNING'"
      ]
     },
     "execution_count": 16,
     "metadata": {},
     "output_type": "execute_result"
    }
   ],
   "source": [
    "s.upper()"
   ]
  },
  {
   "cell_type": "code",
   "execution_count": 17,
   "id": "613d58ff",
   "metadata": {},
   "outputs": [
    {
     "data": {
      "text/plain": [
       "'hello good morning'"
      ]
     },
     "execution_count": 17,
     "metadata": {},
     "output_type": "execute_result"
    }
   ],
   "source": [
    "s.lower()"
   ]
  },
  {
   "cell_type": "code",
   "execution_count": 18,
   "id": "79bb1722",
   "metadata": {},
   "outputs": [
    {
     "data": {
      "text/plain": [
       "'HELLO GOOD MORNING'"
      ]
     },
     "execution_count": 18,
     "metadata": {},
     "output_type": "execute_result"
    }
   ],
   "source": [
    "s.swapcase()"
   ]
  },
  {
   "cell_type": "code",
   "execution_count": 19,
   "id": "3ad3f4cb",
   "metadata": {},
   "outputs": [
    {
     "data": {
      "text/plain": [
       "True"
      ]
     },
     "execution_count": 19,
     "metadata": {},
     "output_type": "execute_result"
    }
   ],
   "source": [
    "s.islower()"
   ]
  },
  {
   "cell_type": "code",
   "execution_count": 20,
   "id": "3984820e",
   "metadata": {},
   "outputs": [
    {
     "data": {
      "text/plain": [
       "'HELLO GOOD MORNING'"
      ]
     },
     "execution_count": 20,
     "metadata": {},
     "output_type": "execute_result"
    }
   ],
   "source": [
    "s.upper()"
   ]
  },
  {
   "cell_type": "code",
   "execution_count": 21,
   "id": "d4875678",
   "metadata": {},
   "outputs": [
    {
     "data": {
      "text/plain": [
       "False"
      ]
     },
     "execution_count": 21,
     "metadata": {},
     "output_type": "execute_result"
    }
   ],
   "source": [
    "s.isupper()"
   ]
  },
  {
   "cell_type": "code",
   "execution_count": 23,
   "id": "e829c540",
   "metadata": {},
   "outputs": [
    {
     "data": {
      "text/plain": [
       "('hello good morning', 123)"
      ]
     },
     "execution_count": 23,
     "metadata": {},
     "output_type": "execute_result"
    }
   ],
   "source": [
    "s, 123"
   ]
  },
  {
   "cell_type": "code",
   "execution_count": 24,
   "id": "8bcc004c",
   "metadata": {},
   "outputs": [
    {
     "data": {
      "text/plain": [
       "['hello', 'good', 'morning']"
      ]
     },
     "execution_count": 24,
     "metadata": {},
     "output_type": "execute_result"
    }
   ],
   "source": [
    "s.split()"
   ]
  },
  {
   "cell_type": "code",
   "execution_count": 25,
   "id": "f5d97cea",
   "metadata": {},
   "outputs": [
    {
     "data": {
      "text/plain": [
       "'hello good morning'"
      ]
     },
     "execution_count": 25,
     "metadata": {},
     "output_type": "execute_result"
    }
   ],
   "source": [
    "s.strip()"
   ]
  },
  {
   "cell_type": "code",
   "execution_count": 26,
   "id": "d98dfe0c",
   "metadata": {},
   "outputs": [
    {
     "data": {
      "text/plain": [
       "'hello good morning'"
      ]
     },
     "execution_count": 26,
     "metadata": {},
     "output_type": "execute_result"
    }
   ],
   "source": [
    "s.rstrip()"
   ]
  },
  {
   "cell_type": "code",
   "execution_count": 29,
   "id": "0a177b0c",
   "metadata": {},
   "outputs": [
    {
     "data": {
      "text/plain": [
       "('hell', 'o', ' good morning')"
      ]
     },
     "execution_count": 29,
     "metadata": {},
     "output_type": "execute_result"
    }
   ],
   "source": [
    "s.partition('o')"
   ]
  },
  {
   "cell_type": "code",
   "execution_count": 30,
   "id": "2d679478",
   "metadata": {},
   "outputs": [
    {
     "data": {
      "text/plain": [
       "('hello good m', 'o', 'rning')"
      ]
     },
     "execution_count": 30,
     "metadata": {},
     "output_type": "execute_result"
    }
   ],
   "source": [
    "s.rpartition('o')"
   ]
  },
  {
   "cell_type": "code",
   "execution_count": 31,
   "id": "6d8c9a8d",
   "metadata": {},
   "outputs": [
    {
     "data": {
      "text/plain": [
       "'hello good morning'"
      ]
     },
     "execution_count": 31,
     "metadata": {},
     "output_type": "execute_result"
    }
   ],
   "source": [
    "s.zfill(10)"
   ]
  },
  {
   "cell_type": "code",
   "execution_count": 32,
   "id": "eef46587",
   "metadata": {},
   "outputs": [
    {
     "data": {
      "text/plain": [
       "'0000000hello good morning'"
      ]
     },
     "execution_count": 32,
     "metadata": {},
     "output_type": "execute_result"
    }
   ],
   "source": [
    "s.zfill(25)"
   ]
  },
  {
   "cell_type": "code",
   "execution_count": 35,
   "id": "344a9f8e",
   "metadata": {},
   "outputs": [
    {
     "data": {
      "text/plain": [
       "'hello good morning'"
      ]
     },
     "execution_count": 35,
     "metadata": {},
     "output_type": "execute_result"
    }
   ],
   "source": [
    "s.translate('hello')"
   ]
  },
  {
   "cell_type": "code",
   "execution_count": 36,
   "id": "2981d52a",
   "metadata": {},
   "outputs": [
    {
     "data": {
      "text/plain": [
       "'hello good morning'"
      ]
     },
     "execution_count": 36,
     "metadata": {},
     "output_type": "execute_result"
    }
   ],
   "source": [
    "s"
   ]
  },
  {
   "cell_type": "code",
   "execution_count": 37,
   "id": "77bd4723",
   "metadata": {},
   "outputs": [
    {
     "data": {
      "text/plain": [
       "10"
      ]
     },
     "execution_count": 37,
     "metadata": {},
     "output_type": "execute_result"
    }
   ],
   "source": [
    "5 + 5"
   ]
  },
  {
   "cell_type": "code",
   "execution_count": 38,
   "id": "b9693ba1",
   "metadata": {},
   "outputs": [],
   "source": [
    "l = []"
   ]
  },
  {
   "cell_type": "code",
   "execution_count": 39,
   "id": "0762b5c3",
   "metadata": {},
   "outputs": [
    {
     "data": {
      "text/plain": [
       "list"
      ]
     },
     "execution_count": 39,
     "metadata": {},
     "output_type": "execute_result"
    }
   ],
   "source": [
    "type(l)"
   ]
  },
  {
   "cell_type": "code",
   "execution_count": 40,
   "id": "84b19278",
   "metadata": {},
   "outputs": [],
   "source": [
    "l.append('hello')"
   ]
  },
  {
   "cell_type": "code",
   "execution_count": 41,
   "id": "15f47559",
   "metadata": {},
   "outputs": [
    {
     "data": {
      "text/plain": [
       "['hello']"
      ]
     },
     "execution_count": 41,
     "metadata": {},
     "output_type": "execute_result"
    }
   ],
   "source": [
    "l"
   ]
  },
  {
   "cell_type": "code",
   "execution_count": 42,
   "id": "10a0300b",
   "metadata": {},
   "outputs": [],
   "source": [
    "l.extend('HELLO, 123')"
   ]
  },
  {
   "cell_type": "code",
   "execution_count": 43,
   "id": "ebbae0da",
   "metadata": {},
   "outputs": [
    {
     "data": {
      "text/plain": [
       "['hello', 'H', 'E', 'L', 'L', 'O', ',', ' ', '1', '2', '3']"
      ]
     },
     "execution_count": 43,
     "metadata": {},
     "output_type": "execute_result"
    }
   ],
   "source": [
    "l"
   ]
  },
  {
   "cell_type": "code",
   "execution_count": 44,
   "id": "d0d4e75e",
   "metadata": {},
   "outputs": [],
   "source": [
    "l = []"
   ]
  },
  {
   "cell_type": "code",
   "execution_count": 45,
   "id": "38874bf5",
   "metadata": {},
   "outputs": [
    {
     "data": {
      "text/plain": [
       "[]"
      ]
     },
     "execution_count": 45,
     "metadata": {},
     "output_type": "execute_result"
    }
   ],
   "source": [
    "l"
   ]
  },
  {
   "cell_type": "code",
   "execution_count": 46,
   "id": "ec5d972d",
   "metadata": {},
   "outputs": [],
   "source": [
    "l.append('hello')"
   ]
  },
  {
   "cell_type": "code",
   "execution_count": 47,
   "id": "cee07eb7",
   "metadata": {},
   "outputs": [
    {
     "data": {
      "text/plain": [
       "['hello']"
      ]
     },
     "execution_count": 47,
     "metadata": {},
     "output_type": "execute_result"
    }
   ],
   "source": [
    "l"
   ]
  },
  {
   "cell_type": "code",
   "execution_count": 49,
   "id": "4c8f807f",
   "metadata": {},
   "outputs": [],
   "source": [
    "l.extend(['HELLO', 123])"
   ]
  },
  {
   "cell_type": "code",
   "execution_count": 50,
   "id": "e7f85f97",
   "metadata": {},
   "outputs": [
    {
     "data": {
      "text/plain": [
       "['hello', 'HELLO', 123]"
      ]
     },
     "execution_count": 50,
     "metadata": {},
     "output_type": "execute_result"
    }
   ],
   "source": [
    "l"
   ]
  },
  {
   "cell_type": "code",
   "execution_count": 52,
   "id": "7b998a9c",
   "metadata": {},
   "outputs": [
    {
     "data": {
      "text/plain": [
       "list"
      ]
     },
     "execution_count": 52,
     "metadata": {},
     "output_type": "execute_result"
    }
   ],
   "source": [
    "type(l)"
   ]
  },
  {
   "cell_type": "code",
   "execution_count": 53,
   "id": "32744002",
   "metadata": {},
   "outputs": [
    {
     "data": {
      "text/plain": [
       "['hello', 'HELLO', 123]"
      ]
     },
     "execution_count": 53,
     "metadata": {},
     "output_type": "execute_result"
    }
   ],
   "source": [
    "l"
   ]
  },
  {
   "cell_type": "code",
   "execution_count": 54,
   "id": "5ce4661d",
   "metadata": {},
   "outputs": [],
   "source": [
    "l.insert(2, 321)"
   ]
  },
  {
   "cell_type": "code",
   "execution_count": 55,
   "id": "306d7238",
   "metadata": {},
   "outputs": [
    {
     "data": {
      "text/plain": [
       "['hello', 'HELLO', 321, 123]"
      ]
     },
     "execution_count": 55,
     "metadata": {},
     "output_type": "execute_result"
    }
   ],
   "source": [
    "l"
   ]
  },
  {
   "cell_type": "code",
   "execution_count": 58,
   "id": "e837b586",
   "metadata": {},
   "outputs": [],
   "source": [
    "l.reverse()"
   ]
  },
  {
   "cell_type": "code",
   "execution_count": 59,
   "id": "f87d8f12",
   "metadata": {},
   "outputs": [
    {
     "data": {
      "text/plain": [
       "[123, 321, 'HELLO', 'hello']"
      ]
     },
     "execution_count": 59,
     "metadata": {},
     "output_type": "execute_result"
    }
   ],
   "source": [
    "l"
   ]
  },
  {
   "cell_type": "code",
   "execution_count": 61,
   "id": "5475c102",
   "metadata": {},
   "outputs": [
    {
     "ename": "TypeError",
     "evalue": "'<' not supported between instances of 'str' and 'int'",
     "output_type": "error",
     "traceback": [
      "\u001b[1;31m---------------------------------------------------------------------------\u001b[0m",
      "\u001b[1;31mTypeError\u001b[0m                                 Traceback (most recent call last)",
      "Input \u001b[1;32mIn [61]\u001b[0m, in \u001b[0;36m<cell line: 1>\u001b[1;34m()\u001b[0m\n\u001b[1;32m----> 1\u001b[0m \u001b[43ml\u001b[49m\u001b[38;5;241;43m.\u001b[39;49m\u001b[43msort\u001b[49m\u001b[43m(\u001b[49m\u001b[43m)\u001b[49m\n",
      "\u001b[1;31mTypeError\u001b[0m: '<' not supported between instances of 'str' and 'int'"
     ]
    }
   ],
   "source": [
    "l.sort()"
   ]
  },
  {
   "cell_type": "code",
   "execution_count": 62,
   "id": "aaea28e4",
   "metadata": {},
   "outputs": [
    {
     "data": {
      "text/plain": [
       "'hello'"
      ]
     },
     "execution_count": 62,
     "metadata": {},
     "output_type": "execute_result"
    }
   ],
   "source": [
    "l.pop()"
   ]
  },
  {
   "cell_type": "code",
   "execution_count": 63,
   "id": "0273a2bd",
   "metadata": {},
   "outputs": [
    {
     "data": {
      "text/plain": [
       "'HELLO'"
      ]
     },
     "execution_count": 63,
     "metadata": {},
     "output_type": "execute_result"
    }
   ],
   "source": [
    "l.pop()"
   ]
  },
  {
   "cell_type": "code",
   "execution_count": 64,
   "id": "82fba96c",
   "metadata": {},
   "outputs": [
    {
     "data": {
      "text/plain": [
       "[123, 321]"
      ]
     },
     "execution_count": 64,
     "metadata": {},
     "output_type": "execute_result"
    }
   ],
   "source": [
    "l"
   ]
  },
  {
   "cell_type": "code",
   "execution_count": 65,
   "id": "a6da4858",
   "metadata": {},
   "outputs": [],
   "source": [
    "l.sort()"
   ]
  },
  {
   "cell_type": "code",
   "execution_count": 66,
   "id": "61ab2f31",
   "metadata": {},
   "outputs": [
    {
     "data": {
      "text/plain": [
       "[123, 321]"
      ]
     },
     "execution_count": 66,
     "metadata": {},
     "output_type": "execute_result"
    }
   ],
   "source": [
    "l"
   ]
  },
  {
   "cell_type": "code",
   "execution_count": 67,
   "id": "d665e3fe",
   "metadata": {},
   "outputs": [],
   "source": [
    "l.extend([345, 842, 802])"
   ]
  },
  {
   "cell_type": "code",
   "execution_count": 68,
   "id": "700a8223",
   "metadata": {},
   "outputs": [
    {
     "data": {
      "text/plain": [
       "[123, 321, 345, 842, 802]"
      ]
     },
     "execution_count": 68,
     "metadata": {},
     "output_type": "execute_result"
    }
   ],
   "source": [
    "l"
   ]
  },
  {
   "cell_type": "code",
   "execution_count": 69,
   "id": "baa87f58",
   "metadata": {},
   "outputs": [],
   "source": [
    "l.sort()"
   ]
  },
  {
   "cell_type": "code",
   "execution_count": 70,
   "id": "787fe66f",
   "metadata": {},
   "outputs": [
    {
     "data": {
      "text/plain": [
       "[123, 321, 345, 802, 842]"
      ]
     },
     "execution_count": 70,
     "metadata": {},
     "output_type": "execute_result"
    }
   ],
   "source": [
    "l"
   ]
  },
  {
   "cell_type": "code",
   "execution_count": 75,
   "id": "01a35fcc",
   "metadata": {},
   "outputs": [
    {
     "data": {
      "text/plain": [
       "0"
      ]
     },
     "execution_count": 75,
     "metadata": {},
     "output_type": "execute_result"
    }
   ],
   "source": [
    "l.count(1)"
   ]
  },
  {
   "cell_type": "code",
   "execution_count": 76,
   "id": "e0a8dc4b",
   "metadata": {},
   "outputs": [
    {
     "data": {
      "text/plain": [
       "5"
      ]
     },
     "execution_count": 76,
     "metadata": {},
     "output_type": "execute_result"
    }
   ],
   "source": [
    "len(l)"
   ]
  },
  {
   "cell_type": "code",
   "execution_count": 78,
   "id": "528abfdc",
   "metadata": {},
   "outputs": [],
   "source": [
    "l.remove(123)"
   ]
  },
  {
   "cell_type": "code",
   "execution_count": 79,
   "id": "f03ce5c0",
   "metadata": {},
   "outputs": [
    {
     "data": {
      "text/plain": [
       "[321, 345, 802, 842]"
      ]
     },
     "execution_count": 79,
     "metadata": {},
     "output_type": "execute_result"
    }
   ],
   "source": [
    "l"
   ]
  },
  {
   "cell_type": "code",
   "execution_count": 80,
   "id": "c3099b0b",
   "metadata": {},
   "outputs": [],
   "source": [
    "l1 = l"
   ]
  },
  {
   "cell_type": "code",
   "execution_count": 81,
   "id": "ac1bd312",
   "metadata": {},
   "outputs": [
    {
     "data": {
      "text/plain": [
       "[321, 345, 802, 842]"
      ]
     },
     "execution_count": 81,
     "metadata": {},
     "output_type": "execute_result"
    }
   ],
   "source": [
    "l1"
   ]
  },
  {
   "cell_type": "code",
   "execution_count": 82,
   "id": "b3513d3d",
   "metadata": {},
   "outputs": [
    {
     "data": {
      "text/plain": [
       "[321, 345, 802, 842]"
      ]
     },
     "execution_count": 82,
     "metadata": {},
     "output_type": "execute_result"
    }
   ],
   "source": [
    "l"
   ]
  },
  {
   "cell_type": "code",
   "execution_count": 83,
   "id": "328e9627",
   "metadata": {},
   "outputs": [],
   "source": [
    "l1.append(123)"
   ]
  },
  {
   "cell_type": "code",
   "execution_count": 84,
   "id": "30ef9d18",
   "metadata": {},
   "outputs": [
    {
     "data": {
      "text/plain": [
       "[321, 345, 802, 842, 123]"
      ]
     },
     "execution_count": 84,
     "metadata": {},
     "output_type": "execute_result"
    }
   ],
   "source": [
    "l1"
   ]
  },
  {
   "cell_type": "code",
   "execution_count": 85,
   "id": "2275219d",
   "metadata": {},
   "outputs": [
    {
     "data": {
      "text/plain": [
       "[321, 345, 802, 842, 123]"
      ]
     },
     "execution_count": 85,
     "metadata": {},
     "output_type": "execute_result"
    }
   ],
   "source": [
    "l"
   ]
  },
  {
   "cell_type": "code",
   "execution_count": 86,
   "id": "8f438d9b",
   "metadata": {},
   "outputs": [],
   "source": [
    "l.append(999)"
   ]
  },
  {
   "cell_type": "code",
   "execution_count": 87,
   "id": "0bb05052",
   "metadata": {},
   "outputs": [
    {
     "data": {
      "text/plain": [
       "[321, 345, 802, 842, 123, 999]"
      ]
     },
     "execution_count": 87,
     "metadata": {},
     "output_type": "execute_result"
    }
   ],
   "source": [
    "l"
   ]
  },
  {
   "cell_type": "code",
   "execution_count": 88,
   "id": "2dfe425d",
   "metadata": {},
   "outputs": [
    {
     "data": {
      "text/plain": [
       "[321, 345, 802, 842, 123, 999]"
      ]
     },
     "execution_count": 88,
     "metadata": {},
     "output_type": "execute_result"
    }
   ],
   "source": [
    "l1"
   ]
  },
  {
   "cell_type": "code",
   "execution_count": 89,
   "id": "86bb4941",
   "metadata": {},
   "outputs": [
    {
     "data": {
      "text/plain": [
       "999"
      ]
     },
     "execution_count": 89,
     "metadata": {},
     "output_type": "execute_result"
    }
   ],
   "source": [
    "l1.pop()"
   ]
  },
  {
   "cell_type": "code",
   "execution_count": 90,
   "id": "fd5c731b",
   "metadata": {},
   "outputs": [
    {
     "data": {
      "text/plain": [
       "[321, 345, 802, 842, 123]"
      ]
     },
     "execution_count": 90,
     "metadata": {},
     "output_type": "execute_result"
    }
   ],
   "source": [
    "l"
   ]
  },
  {
   "cell_type": "code",
   "execution_count": 91,
   "id": "8a89f2c8",
   "metadata": {},
   "outputs": [],
   "source": [
    "l.clear()"
   ]
  },
  {
   "cell_type": "code",
   "execution_count": 92,
   "id": "ca36b6e8",
   "metadata": {},
   "outputs": [
    {
     "data": {
      "text/plain": [
       "[]"
      ]
     },
     "execution_count": 92,
     "metadata": {},
     "output_type": "execute_result"
    }
   ],
   "source": [
    "l"
   ]
  },
  {
   "cell_type": "code",
   "execution_count": 93,
   "id": "9b5f1b8f",
   "metadata": {},
   "outputs": [
    {
     "data": {
      "text/plain": [
       "[]"
      ]
     },
     "execution_count": 93,
     "metadata": {},
     "output_type": "execute_result"
    }
   ],
   "source": [
    "l1"
   ]
  },
  {
   "cell_type": "code",
   "execution_count": 94,
   "id": "efa1ba2c",
   "metadata": {},
   "outputs": [],
   "source": [
    "l.append(123)"
   ]
  },
  {
   "cell_type": "code",
   "execution_count": 95,
   "id": "b0e01ee0",
   "metadata": {},
   "outputs": [],
   "source": [
    "l.append(234)"
   ]
  },
  {
   "cell_type": "code",
   "execution_count": 96,
   "id": "ba9c7c75",
   "metadata": {},
   "outputs": [
    {
     "data": {
      "text/plain": [
       "[123, 234]"
      ]
     },
     "execution_count": 96,
     "metadata": {},
     "output_type": "execute_result"
    }
   ],
   "source": [
    "l"
   ]
  },
  {
   "cell_type": "code",
   "execution_count": 97,
   "id": "0cf7eac0",
   "metadata": {},
   "outputs": [
    {
     "data": {
      "text/plain": [
       "list"
      ]
     },
     "execution_count": 97,
     "metadata": {},
     "output_type": "execute_result"
    }
   ],
   "source": [
    "type(l)"
   ]
  },
  {
   "cell_type": "code",
   "execution_count": 100,
   "id": "8eb2404d",
   "metadata": {},
   "outputs": [],
   "source": [
    "t = tuple(l)"
   ]
  },
  {
   "cell_type": "code",
   "execution_count": 101,
   "id": "abf5f5fe",
   "metadata": {},
   "outputs": [
    {
     "data": {
      "text/plain": [
       "(123, 234)"
      ]
     },
     "execution_count": 101,
     "metadata": {},
     "output_type": "execute_result"
    }
   ],
   "source": [
    "t"
   ]
  },
  {
   "cell_type": "code",
   "execution_count": 102,
   "id": "6019f366",
   "metadata": {},
   "outputs": [
    {
     "data": {
      "text/plain": [
       "[123, 234]"
      ]
     },
     "execution_count": 102,
     "metadata": {},
     "output_type": "execute_result"
    }
   ],
   "source": [
    "l"
   ]
  },
  {
   "cell_type": "code",
   "execution_count": 103,
   "id": "c3aeccd8",
   "metadata": {},
   "outputs": [
    {
     "data": {
      "text/plain": [
       "tuple"
      ]
     },
     "execution_count": 103,
     "metadata": {},
     "output_type": "execute_result"
    }
   ],
   "source": [
    "type(t)"
   ]
  },
  {
   "cell_type": "code",
   "execution_count": 104,
   "id": "2d14afa4",
   "metadata": {},
   "outputs": [],
   "source": [
    "t = ()"
   ]
  },
  {
   "cell_type": "code",
   "execution_count": 105,
   "id": "b5665aa6",
   "metadata": {},
   "outputs": [
    {
     "data": {
      "text/plain": [
       "()"
      ]
     },
     "execution_count": 105,
     "metadata": {},
     "output_type": "execute_result"
    }
   ],
   "source": [
    "t"
   ]
  },
  {
   "cell_type": "code",
   "execution_count": 106,
   "id": "ca0db8d7",
   "metadata": {},
   "outputs": [
    {
     "data": {
      "text/plain": [
       "tuple"
      ]
     },
     "execution_count": 106,
     "metadata": {},
     "output_type": "execute_result"
    }
   ],
   "source": [
    "type(t)"
   ]
  },
  {
   "cell_type": "code",
   "execution_count": 107,
   "id": "85699b50",
   "metadata": {},
   "outputs": [],
   "source": [
    "t = list(t)"
   ]
  },
  {
   "cell_type": "code",
   "execution_count": 108,
   "id": "ddec3d51",
   "metadata": {},
   "outputs": [
    {
     "data": {
      "text/plain": [
       "list"
      ]
     },
     "execution_count": 108,
     "metadata": {},
     "output_type": "execute_result"
    }
   ],
   "source": [
    "type(t)"
   ]
  },
  {
   "cell_type": "code",
   "execution_count": 109,
   "id": "c4998d74",
   "metadata": {},
   "outputs": [],
   "source": [
    "t.append(123)"
   ]
  },
  {
   "cell_type": "code",
   "execution_count": 110,
   "id": "53ca54e7",
   "metadata": {},
   "outputs": [],
   "source": [
    "t.append(234)"
   ]
  },
  {
   "cell_type": "code",
   "execution_count": 111,
   "id": "5d634623",
   "metadata": {},
   "outputs": [
    {
     "data": {
      "text/plain": [
       "[123, 234]"
      ]
     },
     "execution_count": 111,
     "metadata": {},
     "output_type": "execute_result"
    }
   ],
   "source": [
    "t"
   ]
  },
  {
   "cell_type": "code",
   "execution_count": 112,
   "id": "dd005e5e",
   "metadata": {},
   "outputs": [
    {
     "data": {
      "text/plain": [
       "list"
      ]
     },
     "execution_count": 112,
     "metadata": {},
     "output_type": "execute_result"
    }
   ],
   "source": [
    "type(t)"
   ]
  },
  {
   "cell_type": "code",
   "execution_count": 113,
   "id": "7ad5369b",
   "metadata": {},
   "outputs": [],
   "source": [
    "t = tuple(t)"
   ]
  },
  {
   "cell_type": "code",
   "execution_count": 114,
   "id": "0fea4bd1",
   "metadata": {},
   "outputs": [
    {
     "data": {
      "text/plain": [
       "(123, 234)"
      ]
     },
     "execution_count": 114,
     "metadata": {},
     "output_type": "execute_result"
    }
   ],
   "source": [
    "t"
   ]
  },
  {
   "cell_type": "code",
   "execution_count": 115,
   "id": "5dba66ce",
   "metadata": {},
   "outputs": [
    {
     "data": {
      "text/plain": [
       "tuple"
      ]
     },
     "execution_count": 115,
     "metadata": {},
     "output_type": "execute_result"
    }
   ],
   "source": [
    "type(t)"
   ]
  },
  {
   "cell_type": "code",
   "execution_count": 116,
   "id": "37dc1d62",
   "metadata": {},
   "outputs": [],
   "source": [
    "s = {}"
   ]
  },
  {
   "cell_type": "code",
   "execution_count": 117,
   "id": "5face646",
   "metadata": {},
   "outputs": [
    {
     "data": {
      "text/plain": [
       "{}"
      ]
     },
     "execution_count": 117,
     "metadata": {},
     "output_type": "execute_result"
    }
   ],
   "source": [
    "s"
   ]
  },
  {
   "cell_type": "code",
   "execution_count": 118,
   "id": "a833e631",
   "metadata": {},
   "outputs": [
    {
     "data": {
      "text/plain": [
       "dict"
      ]
     },
     "execution_count": 118,
     "metadata": {},
     "output_type": "execute_result"
    }
   ],
   "source": [
    "type(s)"
   ]
  },
  {
   "cell_type": "code",
   "execution_count": 119,
   "id": "6a2a4773",
   "metadata": {},
   "outputs": [],
   "source": [
    "s = {123, 234, 345}"
   ]
  },
  {
   "cell_type": "code",
   "execution_count": 120,
   "id": "ecd080d1",
   "metadata": {},
   "outputs": [
    {
     "data": {
      "text/plain": [
       "set"
      ]
     },
     "execution_count": 120,
     "metadata": {},
     "output_type": "execute_result"
    }
   ],
   "source": [
    "type(s)"
   ]
  },
  {
   "cell_type": "code",
   "execution_count": 121,
   "id": "4e642c6c",
   "metadata": {},
   "outputs": [],
   "source": [
    "s.add(456)"
   ]
  },
  {
   "cell_type": "code",
   "execution_count": 122,
   "id": "c0203c11",
   "metadata": {},
   "outputs": [
    {
     "data": {
      "text/plain": [
       "{123, 234, 345, 456}"
      ]
     },
     "execution_count": 122,
     "metadata": {},
     "output_type": "execute_result"
    }
   ],
   "source": [
    "s"
   ]
  },
  {
   "cell_type": "code",
   "execution_count": 125,
   "id": "7bb36b23",
   "metadata": {},
   "outputs": [],
   "source": [
    "s.update({567, 678})"
   ]
  },
  {
   "cell_type": "code",
   "execution_count": 126,
   "id": "167ecd02",
   "metadata": {},
   "outputs": [
    {
     "data": {
      "text/plain": [
       "{123, 234, 345, 456, 567, 678}"
      ]
     },
     "execution_count": 126,
     "metadata": {},
     "output_type": "execute_result"
    }
   ],
   "source": [
    "s"
   ]
  },
  {
   "cell_type": "code",
   "execution_count": 127,
   "id": "99f23dee",
   "metadata": {},
   "outputs": [],
   "source": [
    "s.add(123)"
   ]
  },
  {
   "cell_type": "code",
   "execution_count": 128,
   "id": "ac55348c",
   "metadata": {},
   "outputs": [
    {
     "data": {
      "text/plain": [
       "{123, 234, 345, 456, 567, 678}"
      ]
     },
     "execution_count": 128,
     "metadata": {},
     "output_type": "execute_result"
    }
   ],
   "source": [
    "s"
   ]
  },
  {
   "cell_type": "code",
   "execution_count": 129,
   "id": "6aed69e7",
   "metadata": {},
   "outputs": [
    {
     "data": {
      "text/plain": [
       "6"
      ]
     },
     "execution_count": 129,
     "metadata": {},
     "output_type": "execute_result"
    }
   ],
   "source": [
    "len(s)"
   ]
  },
  {
   "cell_type": "code",
   "execution_count": 131,
   "id": "95d16013",
   "metadata": {},
   "outputs": [
    {
     "data": {
      "text/plain": [
       "678"
      ]
     },
     "execution_count": 131,
     "metadata": {},
     "output_type": "execute_result"
    }
   ],
   "source": [
    "s.pop()"
   ]
  },
  {
   "cell_type": "code",
   "execution_count": 133,
   "id": "548ef2c3",
   "metadata": {},
   "outputs": [
    {
     "data": {
      "text/plain": [
       "{123, 234, 345, 456, 567}"
      ]
     },
     "execution_count": 133,
     "metadata": {},
     "output_type": "execute_result"
    }
   ],
   "source": [
    "s"
   ]
  },
  {
   "cell_type": "code",
   "execution_count": 134,
   "id": "03c1476d",
   "metadata": {},
   "outputs": [],
   "source": [
    "s.remove(234)"
   ]
  },
  {
   "cell_type": "code",
   "execution_count": 135,
   "id": "a11d7bde",
   "metadata": {},
   "outputs": [
    {
     "data": {
      "text/plain": [
       "{123, 345, 456, 567}"
      ]
     },
     "execution_count": 135,
     "metadata": {},
     "output_type": "execute_result"
    }
   ],
   "source": [
    "s"
   ]
  },
  {
   "cell_type": "code",
   "execution_count": 136,
   "id": "b5b05bec",
   "metadata": {},
   "outputs": [],
   "source": [
    "s.clear()"
   ]
  },
  {
   "cell_type": "code",
   "execution_count": 137,
   "id": "5de55482",
   "metadata": {},
   "outputs": [
    {
     "data": {
      "text/plain": [
       "set()"
      ]
     },
     "execution_count": 137,
     "metadata": {},
     "output_type": "execute_result"
    }
   ],
   "source": [
    "s"
   ]
  },
  {
   "cell_type": "code",
   "execution_count": 138,
   "id": "e81c8969",
   "metadata": {},
   "outputs": [],
   "source": [
    "d = {}"
   ]
  },
  {
   "cell_type": "code",
   "execution_count": null,
   "id": "208841d4",
   "metadata": {},
   "outputs": [],
   "source": [
    "type(d)"
   ]
  },
  {
   "cell_type": "code",
   "execution_count": null,
   "id": "ccaed6bd",
   "metadata": {},
   "outputs": [],
   "source": []
  }
 ],
 "metadata": {
  "kernelspec": {
   "display_name": "Python 3 (ipykernel)",
   "language": "python",
   "name": "python3"
  },
  "language_info": {
   "codemirror_mode": {
    "name": "ipython",
    "version": 3
   },
   "file_extension": ".py",
   "mimetype": "text/x-python",
   "name": "python",
   "nbconvert_exporter": "python",
   "pygments_lexer": "ipython3",
   "version": "3.9.12"
  }
 },
 "nbformat": 4,
 "nbformat_minor": 5
}
