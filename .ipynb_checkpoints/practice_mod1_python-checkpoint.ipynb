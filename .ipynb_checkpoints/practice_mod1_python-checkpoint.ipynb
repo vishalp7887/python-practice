{
 "cells": [
  {
   "cell_type": "code",
   "execution_count": 2,
   "id": "e7aaf33c",
   "metadata": {},
   "outputs": [
    {
     "name": "stdout",
     "output_type": "stream",
     "text": [
      "enter your number: 7\n",
      "Sum of the first 7 positive integers: 28.0\n"
     ]
    }
   ],
   "source": [
    "#sum of the first n positive integers.\n",
    "\n",
    "n = int(input(\"enter your number: \"))\n",
    "sum_num = (n * (n + 1)) / 2\n",
    "print(\"Sum of the first\", n ,\"positive integers:\", sum_num)"
   ]
  },
  {
   "cell_type": "code",
   "execution_count": 4,
   "id": "35a2ab97",
   "metadata": {},
   "outputs": [
    {
     "name": "stdout",
     "output_type": "stream",
     "text": [
      "Enter 1st number: 123\n",
      "enter 2nd number: 456\n",
      "before swapping a=123 b=456\n",
      "after swapping a=456 b=123\n"
     ]
    }
   ],
   "source": [
    "#swapping value with temp keyword\n",
    "\n",
    "a=int(input('Enter 1st number: '))\n",
    "b=int(input('enter 2nd number: '))\n",
    "print(f'before swapping a={a} b={b}')\n",
    "temp=a\n",
    "a=b\n",
    "b=temp\n",
    "print(f'after swapping a={a} b={b}')\n"
   ]
  },
  {
   "cell_type": "code",
   "execution_count": 3,
   "id": "7740636e",
   "metadata": {},
   "outputs": [
    {
     "name": "stdout",
     "output_type": "stream",
     "text": [
      "enter your string: typing\n",
      "typingly\n"
     ]
    }
   ],
   "source": [
    "# add 'ing' at the end (length should be at least 3) string already ends with 'ing' then add 'ly'.\n",
    "\n",
    "s = input('enter your string: ')\n",
    "\n",
    "l = len(s)\n",
    "  \n",
    "if l > 2:\n",
    "    if s[-3:] == 'ing':\n",
    "      s += 'ly'\n",
    "    else:\n",
    "      s += 'ing'\n",
    "    print(s)"
   ]
  },
  {
   "cell_type": "code",
   "execution_count": 34,
   "id": "2bad9389",
   "metadata": {},
   "outputs": [
    {
     "name": "stdout",
     "output_type": "stream",
     "text": [
      "second smallest number in: 3\n"
     ]
    }
   ],
   "source": [
    "# second smallest number in a list.\n",
    "\n",
    "l = [1,6,3,73,7,3]\n",
    "l.sort()\n",
    "print('second smallest number in:',l[1])"
   ]
  },
  {
   "cell_type": "code",
   "execution_count": 35,
   "id": "5e013bfe",
   "metadata": {},
   "outputs": [
    {
     "name": "stdout",
     "output_type": "stream",
     "text": [
      "[5, 10, 1, 23, 41]\n"
     ]
    }
   ],
   "source": [
    "# get unique values from a list.\n",
    "\n",
    "l = [5,10,5,1,23,41,5,10]\n",
    "l2 =list()\n",
    "\n",
    "for i in l:\n",
    "    if i not in l2:\n",
    "        l2.append(i)\n",
    "else:\n",
    "    print(l2)"
   ]
  },
  {
   "cell_type": "code",
   "execution_count": 2,
   "id": "8d819baa",
   "metadata": {},
   "outputs": [
    {
     "name": "stdout",
     "output_type": "stream",
     "text": [
      "[(1, 4, 9), (2, 7, 3)]\n"
     ]
    }
   ],
   "source": [
    "# unzip a list of tuples into individual lists.\n",
    "\n",
    "l = [(1,2),(4,7),(9,3)]\n",
    "\n",
    "print(list(zip(*l)))"
   ]
  },
  {
   "cell_type": "code",
   "execution_count": 44,
   "id": "2119d045",
   "metadata": {},
   "outputs": [
    {
     "name": "stdout",
     "output_type": "stream",
     "text": [
      "{1: 2, 4: 7, 9: 3}\n"
     ]
    }
   ],
   "source": [
    "# convert a list of tuples into a dictionary\n",
    "\n",
    "l = [(1,2),(4,7),(9,3)]\n",
    "\n",
    "l = dict(l)\n",
    "\n",
    "print(l)"
   ]
  },
  {
   "cell_type": "code",
   "execution_count": 87,
   "id": "a1e86415",
   "metadata": {},
   "outputs": [
    {
     "name": "stdout",
     "output_type": "stream",
     "text": [
      "[('a', 1), ('b', 2), ('c', 3), ('d', 4)]\n"
     ]
    }
   ],
   "source": [
    "# sort a dictionary (ascending /descending) by value.\n",
    "d = {'c': 3,'a': 1,'d': 4,'b': 2}\n",
    " \n",
    "s = sorted([(key, value)\n",
    " for (key, value) in d.items()])\n",
    " \n",
    "print(s)"
   ]
  },
  {
   "cell_type": "code",
   "execution_count": null,
   "id": "e3c071ab",
   "metadata": {},
   "outputs": [],
   "source": []
  },
  {
   "cell_type": "code",
   "execution_count": null,
   "id": "b90fc4e3",
   "metadata": {},
   "outputs": [],
   "source": [
    "string = input('enter your string')\n",
    "\n",
    "string = string.split() \n",
    "\n",
    "i = 0\n",
    "count = 0\n",
    "\n",
    "while i < len(string):\n",
    "    count = 0\n",
    "    for x in string:\n",
    "        if string[i] == x:\n",
    "           count += 1\n",
    "    print(count)\n",
    "    i = i +1"
   ]
  },
  {
   "cell_type": "code",
   "execution_count": null,
   "id": "8ac5fc8a",
   "metadata": {},
   "outputs": [],
   "source": [
    "x = 5"
   ]
  },
  {
   "cell_type": "code",
   "execution_count": 57,
   "id": "31c90c63",
   "metadata": {},
   "outputs": [
    {
     "name": "stdout",
     "output_type": "stream",
     "text": [
      "the song is good\n"
     ]
    }
   ],
   "source": [
    "s = 'the song is not that poor'\n",
    "\n",
    "f = s.find('not')\n",
    "f2 = s.find('poor')\n",
    "\n",
    "if f2 > f:\n",
    "    s = s.replace(s[f:(f2+4)], 'good')\n",
    "    print(s)\n",
    "else:\n",
    "    print(s)"
   ]
  },
  {
   "cell_type": "code",
   "execution_count": 39,
   "id": "593fbccd",
   "metadata": {},
   "outputs": [
    {
     "data": {
      "text/plain": [
       "True"
      ]
     },
     "execution_count": 39,
     "metadata": {},
     "output_type": "execute_result"
    }
   ],
   "source": [
    "'poor' > 'not'"
   ]
  },
  {
   "cell_type": "code",
   "execution_count": 102,
   "id": "b7fda11f",
   "metadata": {},
   "outputs": [
    {
     "ename": "TypeError",
     "evalue": "object of type 'int' has no len()",
     "output_type": "error",
     "traceback": [
      "\u001b[1;31m---------------------------------------------------------------------------\u001b[0m",
      "\u001b[1;31mTypeError\u001b[0m                                 Traceback (most recent call last)",
      "Input \u001b[1;32mIn [102]\u001b[0m, in \u001b[0;36m<cell line: 3>\u001b[1;34m()\u001b[0m\n\u001b[0;32m      1\u001b[0m l \u001b[38;5;241m=\u001b[39m [\u001b[38;5;241m1\u001b[39m,\u001b[38;5;241m2\u001b[39m,\u001b[38;5;241m3\u001b[39m,[\u001b[38;5;241m8\u001b[39m,\u001b[38;5;241m5\u001b[39m]]\n\u001b[0;32m      3\u001b[0m \u001b[38;5;28;01mfor\u001b[39;00m i \u001b[38;5;129;01min\u001b[39;00m l:\n\u001b[1;32m----> 4\u001b[0m     \u001b[38;5;28;01mif\u001b[39;00m \u001b[38;5;28;43mlen\u001b[39;49m\u001b[43m(\u001b[49m\u001b[43mi\u001b[49m\u001b[43m)\u001b[49m \u001b[38;5;241m>\u001b[39m \u001b[38;5;241m1\u001b[39m:\n\u001b[0;32m      5\u001b[0m         \u001b[38;5;28mprint\u001b[39m(\u001b[38;5;124m'\u001b[39m\u001b[38;5;124msublist is present\u001b[39m\u001b[38;5;124m'\u001b[39m)\n\u001b[0;32m      8\u001b[0m \u001b[38;5;28;01melse\u001b[39;00m:\n",
      "\u001b[1;31mTypeError\u001b[0m: object of type 'int' has no len()"
     ]
    }
   ],
   "source": []
  },
  {
   "cell_type": "raw",
   "id": "ca00b6b4",
   "metadata": {},
   "source": []
  },
  {
   "cell_type": "code",
   "execution_count": 60,
   "id": "0891a502",
   "metadata": {},
   "outputs": [
    {
     "data": {
      "text/plain": [
       "[1, 2, 3, [6, 5]]"
      ]
     },
     "execution_count": 60,
     "metadata": {},
     "output_type": "execute_result"
    }
   ],
   "source": [
    "l"
   ]
  },
  {
   "cell_type": "code",
   "execution_count": 85,
   "id": "3ba1d4bf",
   "metadata": {},
   "outputs": [],
   "source": []
  },
  {
   "cell_type": "code",
   "execution_count": 82,
   "id": "c83f461f",
   "metadata": {},
   "outputs": [
    {
     "name": "stdout",
     "output_type": "stream",
     "text": [
      "['__class__', '__class_getitem__', '__contains__', '__delattr__', '__delitem__', '__dir__', '__doc__', '__eq__', '__format__', '__ge__', '__getattribute__', '__getitem__', '__gt__', '__hash__', '__init__', '__init_subclass__', '__ior__', '__iter__', '__le__', '__len__', '__lt__', '__ne__', '__new__', '__or__', '__reduce__', '__reduce_ex__', '__repr__', '__reversed__', '__ror__', '__setattr__', '__setitem__', '__sizeof__', '__str__', '__subclasshook__', 'clear', 'copy', 'fromkeys', 'get', 'items', 'keys', 'pop', 'popitem', 'setdefault', 'update', 'values']\n"
     ]
    }
   ],
   "source": [
    "print(dir(d))"
   ]
  },
  {
   "cell_type": "code",
   "execution_count": 101,
   "id": "cf3e733d",
   "metadata": {},
   "outputs": [
    {
     "name": "stdout",
     "output_type": "stream",
     "text": [
      "dict_values([4, 2, 5, 1, 3, 6])\n",
      "[4, 2, 5, 1, 3, 6]\n",
      "[6, 5, 4, 3, 2, 1]\n"
     ]
    },
    {
     "data": {
      "text/plain": [
       "[6, 5, 4]"
      ]
     },
     "execution_count": 101,
     "metadata": {},
     "output_type": "execute_result"
    }
   ],
   "source": [
    "d = {'a':4, 'b':2, 'c':5, 'd':1, 'e':3, 'f':6}\n",
    "\n",
    "k = d.values()\n",
    "\n",
    "print(k)\n",
    "\n",
    "k = list(k)\n",
    "print(k)\n",
    "\n",
    "k.sort(reverse=True)\n",
    "print(k)\n",
    "\n",
    "k[0:3]"
   ]
  },
  {
   "cell_type": "code",
   "execution_count": 89,
   "id": "107429f8",
   "metadata": {},
   "outputs": [
    {
     "name": "stdout",
     "output_type": "stream",
     "text": [
      "['__add__', '__class__', '__class_getitem__', '__contains__', '__delattr__', '__delitem__', '__dir__', '__doc__', '__eq__', '__format__', '__ge__', '__getattribute__', '__getitem__', '__gt__', '__hash__', '__iadd__', '__imul__', '__init__', '__init_subclass__', '__iter__', '__le__', '__len__', '__lt__', '__mul__', '__ne__', '__new__', '__reduce__', '__reduce_ex__', '__repr__', '__reversed__', '__rmul__', '__setattr__', '__setitem__', '__sizeof__', '__str__', '__subclasshook__', 'append', 'clear', 'copy', 'count', 'extend', 'index', 'insert', 'pop', 'remove', 'reverse', 'sort']\n"
     ]
    }
   ],
   "source": [
    "print(dir(list))"
   ]
  },
  {
   "cell_type": "code",
   "execution_count": 97,
   "id": "f56ad277",
   "metadata": {},
   "outputs": [
    {
     "name": "stdout",
     "output_type": "stream",
     "text": [
      "4\n"
     ]
    }
   ],
   "source": [
    "s = 'dnvd vdvndd vmv k'\n",
    "s = s.split()\n",
    "print(len(s))"
   ]
  },
  {
   "cell_type": "code",
   "execution_count": 133,
   "id": "35a1d358",
   "metadata": {},
   "outputs": [
    {
     "name": "stdout",
     "output_type": "stream",
     "text": [
      "D\n",
      "E\n",
      "B\n"
     ]
    }
   ],
   "source": [
    "d = {'A': 42, 'B': 70, 'C': 68,'D': 92, 'E': 83, 'F': 15}\n",
    "\n",
    "d2 = sorted(d, key=d.get, reverse=True)\n",
    "\n",
    "for i in range(3):\n",
    "    print(d2[i])"
   ]
  },
  {
   "cell_type": "code",
   "execution_count": 9,
   "id": "b1534594",
   "metadata": {},
   "outputs": [
    {
     "name": "stdout",
     "output_type": "stream",
     "text": [
      "enter number10\n",
      "0\n",
      "1\n",
      "1\n",
      "2\n",
      "3\n",
      "5\n",
      "8\n"
     ]
    }
   ],
   "source": [
    "n = int(input('enter number'))\n",
    "\n",
    "x = 0\n",
    "y = 1\n",
    "z = 0\n",
    "\n",
    "while z <= n:\n",
    "    print(z)\n",
    "    x = y\n",
    "    y = z\n",
    "    z = x + y"
   ]
  },
  {
   "cell_type": "code",
   "execution_count": 28,
   "id": "3cd37126",
   "metadata": {},
   "outputs": [
    {
     "name": "stdout",
     "output_type": "stream",
     "text": [
      "[0, 1, 1, 2, 3, 5, 8, 13]\n"
     ]
    }
   ],
   "source": [
    "n = [0,1]\n",
    "\n",
    "for i in range(2,8):\n",
    "    n.append(n[i-1]+n[i-2])\n",
    "print(n)"
   ]
  },
  {
   "cell_type": "code",
   "execution_count": 7,
   "id": "045abdd3",
   "metadata": {},
   "outputs": [
    {
     "name": "stdout",
     "output_type": "stream",
     "text": [
      "sublist is present\n"
     ]
    }
   ],
   "source": [
    "l = [[1,2],[6,9],[2,5]]\n",
    "\n",
    "c = [6,9]\n",
    "\n",
    "if c in l:\n",
    "    print('sublist is present')\n",
    "else:\n",
    "    print('sublist is not present')"
   ]
  },
  {
   "cell_type": "code",
   "execution_count": 21,
   "id": "0df3026d",
   "metadata": {},
   "outputs": [],
   "source": [
    "l = [1, 1, 1, 5, 5, 3, 1, 3, 3, 1, 4, 4, 4, 2, 2, 2, 2]\n",
    "\n",
    "d = {}\n",
    "\n",
    "for i in l:\n",
    "    if i in d:\n",
    "        d[i] = d[i]\n",
    "    else:\n",
    "        d[i]=1"
   ]
  },
  {
   "cell_type": "code",
   "execution_count": 19,
   "id": "8939edc4",
   "metadata": {},
   "outputs": [
    {
     "data": {
      "text/plain": [
       "{1: 1, 5: 1, 3: 1, 4: 1, 2: 1}"
      ]
     },
     "execution_count": 19,
     "metadata": {},
     "output_type": "execute_result"
    }
   ],
   "source": [
    "d"
   ]
  },
  {
   "cell_type": "code",
   "execution_count": 3,
   "id": "3832e53a",
   "metadata": {},
   "outputs": [
    {
     "name": "stdout",
     "output_type": "stream",
     "text": [
      "0\n",
      "2\n",
      "4\n",
      "6\n",
      "8\n"
     ]
    }
   ],
   "source": [
    "i = 0\n",
    "\n",
    "while i < 10:\n",
    "    if i % 2 == 0:\n",
    "        print(i)\n",
    "    i += 1"
   ]
  },
  {
   "cell_type": "code",
   "execution_count": 4,
   "id": "9c60181c",
   "metadata": {},
   "outputs": [
    {
     "name": "stdout",
     "output_type": "stream",
     "text": [
      "1\n",
      "3\n",
      "5\n",
      "7\n",
      "9\n",
      "11\n",
      "13\n",
      "15\n",
      "17\n",
      "19\n"
     ]
    }
   ],
   "source": [
    "i = 0\n",
    "\n",
    "while i < 20:\n",
    "    if i % 2 == 1:\n",
    "        print(i)\n",
    "    i += 1"
   ]
  },
  {
   "cell_type": "code",
   "execution_count": 5,
   "id": "a8401728",
   "metadata": {},
   "outputs": [],
   "source": [
    "l = [1, 1, 1, 5, 5, 3, 1, 3, 3, 1, 4, 4, 4, 2, 2, 2, 2]\n",
    "\n",
    "d = {}\n",
    "\n",
    "for i in l:\n",
    "    if i in d:\n",
    "         d[i]\n",
    "    else:\n",
    "        d[i]=i"
   ]
  },
  {
   "cell_type": "code",
   "execution_count": 6,
   "id": "685d5cfc",
   "metadata": {},
   "outputs": [
    {
     "data": {
      "text/plain": [
       "{1: 1, 5: 5, 3: 3, 4: 4, 2: 2}"
      ]
     },
     "execution_count": 6,
     "metadata": {},
     "output_type": "execute_result"
    }
   ],
   "source": [
    "d"
   ]
  },
  {
   "cell_type": "code",
   "execution_count": 19,
   "id": "fce64970",
   "metadata": {},
   "outputs": [
    {
     "name": "stdout",
     "output_type": "stream",
     "text": [
      "{1: 5, 5: 2, 3: 3, 4: 3, 2: 4}\n"
     ]
    }
   ],
   "source": [
    "l = [1, 1, 1, 5, 5, 3, 1, 3, 3, 1,4, 4, 4, 2, 2, 2, 2]\n",
    "d = {}\n",
    "\n",
    "for i in l:\n",
    "    if i in d:\n",
    "        d[i] += 1\n",
    "    else:\n",
    "        d[i] = 1\n",
    "print(d)"
   ]
  },
  {
   "cell_type": "code",
   "execution_count": 20,
   "id": "60cb2e1f",
   "metadata": {},
   "outputs": [
    {
     "name": "stdout",
     "output_type": "stream",
     "text": [
      "GCD of 98 and 56 is 14\n"
     ]
    }
   ],
   "source": [
    "def gcd(a, b):\n",
    "  # Find minimum of a and b\n",
    "  result = min(a, b)\n",
    "   \n",
    "  while result:\n",
    "    if a % result == 0 and b % result == 0:\n",
    "      break\n",
    "    result -= 1\n",
    "   \n",
    "  # Return the gcd of a and b\n",
    "  return result\n",
    " \n",
    "# Driver Code\n",
    "a = 98\n",
    "b = 56\n",
    " \n",
    "print(f\"GCD of {a} and {b} is {gcd(a, b)}\")"
   ]
  },
  {
   "cell_type": "code",
   "execution_count": 5,
   "id": "aa8f9528",
   "metadata": {},
   "outputs": [
    {
     "name": "stdout",
     "output_type": "stream",
     "text": [
      "enter first number98\n",
      "enter second number56\n",
      "GCD of 98 and 56 is 14\n"
     ]
    }
   ],
   "source": [
    "a = int(input('enter first number'))\n",
    "b = int(input('enter second number'))\n",
    "c = ()\n",
    "\n",
    "if a > b:\n",
    "    smaller = b\n",
    "else:\n",
    "    smaller = a\n",
    "for i in range(1,smaller+1):\n",
    "    if((a % i == 0) and (b % i == 0)):\n",
    "        c = i\n",
    "\n",
    "print('GCD of', a,'and',b, 'is', c)"
   ]
  },
  {
   "cell_type": "code",
   "execution_count": 4,
   "id": "c68aa890",
   "metadata": {},
   "outputs": [
    {
     "name": "stdout",
     "output_type": "stream",
     "text": [
      "enter your stringhello\n",
      "enter your stringpython\n",
      "pyllo hethon\n"
     ]
    }
   ],
   "source": [
    "a = input('enter your string')\n",
    "b = input('enter your string')\n",
    "\n",
    "x = b[:2] + a[2:]\n",
    "y = a[:2] + b[2:]\n",
    "\n",
    "print(x,y)"
   ]
  },
  {
   "cell_type": "code",
   "execution_count": 2,
   "id": "b5e2ad39",
   "metadata": {},
   "outputs": [
    {
     "name": "stdout",
     "output_type": "stream",
     "text": [
      "ab\n"
     ]
    }
   ],
   "source": [
    "f = 'abcdef'\n",
    "print(f[:2])"
   ]
  },
  {
   "cell_type": "code",
   "execution_count": 7,
   "id": "d9328387",
   "metadata": {},
   "outputs": [
    {
     "name": "stdout",
     "output_type": "stream",
     "text": [
      "7\n",
      "14\n",
      "21\n",
      "35\n",
      "56\n",
      "91\n",
      "147\n",
      "238\n"
     ]
    }
   ],
   "source": [
    "n1 = 0\n",
    "n2 = 7\n",
    "\n",
    "for i in range(2,10):\n",
    "    n3 = n1 + n2\n",
    "    n1 = n2\n",
    "    n2 = n3\n",
    "    print(n3)"
   ]
  },
  {
   "cell_type": "code",
   "execution_count": 14,
   "id": "4b799518",
   "metadata": {},
   "outputs": [
    {
     "name": "stdout",
     "output_type": "stream",
     "text": [
      "{'welcome': 2, 'to': 2, 'india': 1, 'and': 1, 'ahmedabad': 1}\n"
     ]
    }
   ],
   "source": [
    "s = 'welcome to india and welcome to ahmedabad'\n",
    "s = s.split()\n",
    "d = {}\n",
    "\n",
    "for i in s:\n",
    "    if i in d:\n",
    "        d[i] += 1\n",
    "    else:\n",
    "        d[i] = 1\n",
    "print(d)"
   ]
  },
  {
   "cell_type": "code",
   "execution_count": 21,
   "id": "e536bda9",
   "metadata": {},
   "outputs": [
    {
     "name": "stdout",
     "output_type": "stream",
     "text": [
      "2\n",
      "4\n",
      "6\n",
      "8\n",
      "10\n"
     ]
    }
   ],
   "source": [
    "i = 0\n",
    "while i < 10:\n",
    "    i += 2\n",
    "    print(i)"
   ]
  },
  {
   "cell_type": "code",
   "execution_count": 2,
   "id": "32cc9c45",
   "metadata": {},
   "outputs": [
    {
     "name": "stdout",
     "output_type": "stream",
     "text": [
      "120\n"
     ]
    }
   ],
   "source": [
    "i = 5\n",
    "w = 1\n",
    "\n",
    "while i > 0:\n",
    "    w *= i\n",
    "    i -= 1\n",
    "print(w)"
   ]
  },
  {
   "cell_type": "code",
   "execution_count": null,
   "id": "c94c7029",
   "metadata": {},
   "outputs": [],
   "source": []
  },
  {
   "cell_type": "code",
   "execution_count": null,
   "id": "b03b7b6c",
   "metadata": {},
   "outputs": [],
   "source": []
  }
 ],
 "metadata": {
  "kernelspec": {
   "display_name": "Python 3 (ipykernel)",
   "language": "python",
   "name": "python3"
  },
  "language_info": {
   "codemirror_mode": {
    "name": "ipython",
    "version": 3
   },
   "file_extension": ".py",
   "mimetype": "text/x-python",
   "name": "python",
   "nbconvert_exporter": "python",
   "pygments_lexer": "ipython3",
   "version": "3.9.12"
  }
 },
 "nbformat": 4,
 "nbformat_minor": 5
}
