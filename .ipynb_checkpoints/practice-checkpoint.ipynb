{
 "cells": [
  {
   "cell_type": "markdown",
   "id": "3e39fc50",
   "metadata": {},
   "source": [
    "## integer"
   ]
  },
  {
   "cell_type": "code",
   "execution_count": 14,
   "id": "559dba15",
   "metadata": {},
   "outputs": [
    {
     "name": "stdout",
     "output_type": "stream",
     "text": [
      "5\n",
      "10\n",
      "2\n",
      "10\n",
      "2.5\n",
      "2\n"
     ]
    }
   ],
   "source": [
    "i = 5\n",
    "\n",
    "print(i)\n",
    "print(i + 5)\n",
    "print(i - 3)\n",
    "print(i * 2)\n",
    "print(i / 2)\n",
    "print(i // 2)"
   ]
  },
  {
   "cell_type": "markdown",
   "id": "87a4836c",
   "metadata": {},
   "source": [
    "## string"
   ]
  },
  {
   "cell_type": "code",
   "execution_count": 11,
   "id": "8b8a152a",
   "metadata": {},
   "outputs": [
    {
     "name": "stdout",
     "output_type": "stream",
     "text": [
      "welcome to india\n",
      "<class 'str'>\n",
      "Welcome to india\n",
      "Welcome To India\n",
      "WELCOME TO INDIA\n",
      "welcome to india\n",
      "False\n",
      "True\n",
      "w e l c o m e   t o   i n d i a\n",
      "16\n",
      "2\n",
      "4\n",
      "4\n",
      "hello, welcome to india\n",
      "welcome to india\n"
     ]
    }
   ],
   "source": [
    "s = 'welcome to india'\n",
    "\n",
    "print(s)\n",
    "print(type(s))\n",
    "print(s.capitalize())\n",
    "print(s.title())\n",
    "print(s.upper())\n",
    "print(s.lower())\n",
    "print(s.isupper())\n",
    "print(s.islower())\n",
    "print(' '.join(s))\n",
    "print(len(s))\n",
    "print(s.count('o'))\n",
    "print(s.find('o'))\n",
    "print(s.index('o'))\n",
    "print(f'hello, {s}')\n",
    "print(s)"
   ]
  },
  {
   "cell_type": "code",
   "execution_count": null,
   "id": "7e8b3ef5",
   "metadata": {},
   "outputs": [],
   "source": []
  }
 ],
 "metadata": {
  "kernelspec": {
   "display_name": "Python 3 (ipykernel)",
   "language": "python",
   "name": "python3"
  },
  "language_info": {
   "codemirror_mode": {
    "name": "ipython",
    "version": 3
   },
   "file_extension": ".py",
   "mimetype": "text/x-python",
   "name": "python",
   "nbconvert_exporter": "python",
   "pygments_lexer": "ipython3",
   "version": "3.9.12"
  }
 },
 "nbformat": 4,
 "nbformat_minor": 5
}
