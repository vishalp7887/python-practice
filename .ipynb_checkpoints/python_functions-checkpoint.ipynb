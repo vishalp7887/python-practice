{
 "cells": [
  {
   "cell_type": "code",
   "execution_count": 1,
   "id": "6416076e",
   "metadata": {},
   "outputs": [],
   "source": [
    "def name():\n",
    "    print('vishal')"
   ]
  },
  {
   "cell_type": "code",
   "execution_count": 2,
   "id": "be40f4e9",
   "metadata": {},
   "outputs": [
    {
     "name": "stdout",
     "output_type": "stream",
     "text": [
      "vishal\n"
     ]
    }
   ],
   "source": [
    "name()"
   ]
  },
  {
   "cell_type": "code",
   "execution_count": 3,
   "id": "f0f01089",
   "metadata": {},
   "outputs": [
    {
     "data": {
      "text/plain": [
       "function"
      ]
     },
     "execution_count": 3,
     "metadata": {},
     "output_type": "execute_result"
    }
   ],
   "source": [
    "type(name)"
   ]
  },
  {
   "cell_type": "code",
   "execution_count": 4,
   "id": "07e680db",
   "metadata": {},
   "outputs": [
    {
     "name": "stdout",
     "output_type": "stream",
     "text": [
      "vishal\n"
     ]
    }
   ],
   "source": [
    "a = name()"
   ]
  },
  {
   "cell_type": "code",
   "execution_count": 5,
   "id": "d5ca0a63",
   "metadata": {},
   "outputs": [],
   "source": [
    "a"
   ]
  },
  {
   "cell_type": "code",
   "execution_count": 6,
   "id": "ac78fc4f",
   "metadata": {},
   "outputs": [],
   "source": [
    "def name():\n",
    "    return 'vishal'"
   ]
  },
  {
   "cell_type": "code",
   "execution_count": 7,
   "id": "ad996563",
   "metadata": {},
   "outputs": [
    {
     "data": {
      "text/plain": [
       "'vishal'"
      ]
     },
     "execution_count": 7,
     "metadata": {},
     "output_type": "execute_result"
    }
   ],
   "source": [
    "name()"
   ]
  },
  {
   "cell_type": "code",
   "execution_count": 10,
   "id": "76c01b80",
   "metadata": {},
   "outputs": [
    {
     "data": {
      "text/plain": [
       "function"
      ]
     },
     "execution_count": 10,
     "metadata": {},
     "output_type": "execute_result"
    }
   ],
   "source": [
    "type(name)"
   ]
  },
  {
   "cell_type": "code",
   "execution_count": 14,
   "id": "5e5b13ba",
   "metadata": {},
   "outputs": [],
   "source": [
    "def name():\n",
    "    return 'vishal'"
   ]
  },
  {
   "cell_type": "code",
   "execution_count": 15,
   "id": "1282dd6f",
   "metadata": {},
   "outputs": [
    {
     "data": {
      "text/plain": [
       "'vishal'"
      ]
     },
     "execution_count": 15,
     "metadata": {},
     "output_type": "execute_result"
    }
   ],
   "source": [
    "name()"
   ]
  },
  {
   "cell_type": "code",
   "execution_count": 16,
   "id": "79c5da95",
   "metadata": {},
   "outputs": [
    {
     "data": {
      "text/plain": [
       "function"
      ]
     },
     "execution_count": 16,
     "metadata": {},
     "output_type": "execute_result"
    }
   ],
   "source": [
    "type(name)"
   ]
  },
  {
   "cell_type": "code",
   "execution_count": 17,
   "id": "2a9ae8f5",
   "metadata": {},
   "outputs": [],
   "source": [
    "a = name()"
   ]
  },
  {
   "cell_type": "code",
   "execution_count": 18,
   "id": "54d5b22f",
   "metadata": {},
   "outputs": [
    {
     "data": {
      "text/plain": [
       "'vishal'"
      ]
     },
     "execution_count": 18,
     "metadata": {},
     "output_type": "execute_result"
    }
   ],
   "source": [
    "a"
   ]
  },
  {
   "cell_type": "code",
   "execution_count": 19,
   "id": "bee6352f",
   "metadata": {},
   "outputs": [
    {
     "data": {
      "text/plain": [
       "str"
      ]
     },
     "execution_count": 19,
     "metadata": {},
     "output_type": "execute_result"
    }
   ],
   "source": [
    "type(a)"
   ]
  },
  {
   "cell_type": "code",
   "execution_count": 20,
   "id": "dc6acb5d",
   "metadata": {},
   "outputs": [],
   "source": [
    "def name():\n",
    "    print('vishal')"
   ]
  },
  {
   "cell_type": "code",
   "execution_count": 21,
   "id": "de14e96b",
   "metadata": {},
   "outputs": [
    {
     "name": "stdout",
     "output_type": "stream",
     "text": [
      "vishal\n"
     ]
    }
   ],
   "source": [
    "name()"
   ]
  },
  {
   "cell_type": "code",
   "execution_count": 22,
   "id": "0434ec03",
   "metadata": {},
   "outputs": [
    {
     "data": {
      "text/plain": [
       "function"
      ]
     },
     "execution_count": 22,
     "metadata": {},
     "output_type": "execute_result"
    }
   ],
   "source": [
    "type(name)"
   ]
  },
  {
   "cell_type": "code",
   "execution_count": 23,
   "id": "60c40690",
   "metadata": {},
   "outputs": [
    {
     "name": "stdout",
     "output_type": "stream",
     "text": [
      "vishal\n"
     ]
    }
   ],
   "source": [
    "a = name()"
   ]
  },
  {
   "cell_type": "code",
   "execution_count": 25,
   "id": "30383969",
   "metadata": {},
   "outputs": [
    {
     "data": {
      "text/plain": [
       "NoneType"
      ]
     },
     "execution_count": 25,
     "metadata": {},
     "output_type": "execute_result"
    }
   ],
   "source": [
    "type(a)\n"
   ]
  },
  {
   "cell_type": "code",
   "execution_count": 26,
   "id": "0990a1f6",
   "metadata": {},
   "outputs": [],
   "source": [
    "def hello(name):\n",
    "    print(name)"
   ]
  },
  {
   "cell_type": "code",
   "execution_count": 27,
   "id": "808e2a06",
   "metadata": {},
   "outputs": [
    {
     "name": "stdout",
     "output_type": "stream",
     "text": [
      "vishal\n"
     ]
    }
   ],
   "source": [
    "hello('vishal')"
   ]
  },
  {
   "cell_type": "code",
   "execution_count": 33,
   "id": "28f14284",
   "metadata": {},
   "outputs": [],
   "source": [
    "def hello(name):\n",
    "    return name"
   ]
  },
  {
   "cell_type": "code",
   "execution_count": 36,
   "id": "ab0672d2",
   "metadata": {},
   "outputs": [
    {
     "name": "stdout",
     "output_type": "stream",
     "text": [
      "vi\n"
     ]
    }
   ],
   "source": [
    "hello('vi')"
   ]
  },
  {
   "cell_type": "code",
   "execution_count": 40,
   "id": "f1512f62",
   "metadata": {},
   "outputs": [],
   "source": [
    "def hello(name):\n",
    "    return f'hello {name}'"
   ]
  },
  {
   "cell_type": "code",
   "execution_count": 41,
   "id": "c864b683",
   "metadata": {},
   "outputs": [
    {
     "data": {
      "text/plain": [
       "'hello vishal'"
      ]
     },
     "execution_count": 41,
     "metadata": {},
     "output_type": "execute_result"
    }
   ],
   "source": [
    "hello('vishal')"
   ]
  },
  {
   "cell_type": "code",
   "execution_count": 44,
   "id": "a4ca30fc",
   "metadata": {},
   "outputs": [],
   "source": [
    "def add(x ,y):\n",
    "    return x + y"
   ]
  },
  {
   "cell_type": "code",
   "execution_count": 46,
   "id": "54e1d260",
   "metadata": {},
   "outputs": [
    {
     "data": {
      "text/plain": [
       "10"
      ]
     },
     "execution_count": 46,
     "metadata": {},
     "output_type": "execute_result"
    }
   ],
   "source": [
    "add(5 ,5)"
   ]
  },
  {
   "cell_type": "code",
   "execution_count": 49,
   "id": "c171b4d0",
   "metadata": {},
   "outputs": [],
   "source": [
    "def add(x ,y):\n",
    "    return x - y"
   ]
  },
  {
   "cell_type": "code",
   "execution_count": 50,
   "id": "9aaeb9d5",
   "metadata": {},
   "outputs": [
    {
     "data": {
      "text/plain": [
       "3"
      ]
     },
     "execution_count": 50,
     "metadata": {},
     "output_type": "execute_result"
    }
   ],
   "source": [
    "add(5, 2)"
   ]
  },
  {
   "cell_type": "code",
   "execution_count": 1,
   "id": "8c51ce12",
   "metadata": {},
   "outputs": [],
   "source": [
    "def func(*number):\n",
    "    print(number)"
   ]
  },
  {
   "cell_type": "code",
   "execution_count": 2,
   "id": "c7381958",
   "metadata": {},
   "outputs": [
    {
     "name": "stdout",
     "output_type": "stream",
     "text": [
      "(1, 2, 3, 4)\n"
     ]
    }
   ],
   "source": [
    "func(1,2,3,4)"
   ]
  },
  {
   "cell_type": "code",
   "execution_count": 3,
   "id": "3b9238ea",
   "metadata": {},
   "outputs": [
    {
     "name": "stdout",
     "output_type": "stream",
     "text": [
      "()\n"
     ]
    }
   ],
   "source": [
    "func()"
   ]
  },
  {
   "cell_type": "code",
   "execution_count": 6,
   "id": "1b930721",
   "metadata": {},
   "outputs": [
    {
     "name": "stdout",
     "output_type": "stream",
     "text": [
      "('name',)\n"
     ]
    }
   ],
   "source": [
    "func('name')"
   ]
  },
  {
   "cell_type": "code",
   "execution_count": 7,
   "id": "251135ab",
   "metadata": {},
   "outputs": [],
   "source": [
    "def func(**number):\n",
    "    print(number)"
   ]
  },
  {
   "cell_type": "code",
   "execution_count": 12,
   "id": "e4211567",
   "metadata": {},
   "outputs": [
    {
     "name": "stdout",
     "output_type": "stream",
     "text": [
      "{'n': 2}\n"
     ]
    }
   ],
   "source": [
    "func(n=2)"
   ]
  },
  {
   "cell_type": "code",
   "execution_count": 13,
   "id": "56981b44",
   "metadata": {},
   "outputs": [],
   "source": [
    "def func(**number):\n",
    "    return number"
   ]
  },
  {
   "cell_type": "code",
   "execution_count": 14,
   "id": "cb3f4bae",
   "metadata": {},
   "outputs": [
    {
     "data": {
      "text/plain": [
       "{'n': 2}"
      ]
     },
     "execution_count": 14,
     "metadata": {},
     "output_type": "execute_result"
    }
   ],
   "source": [
    "func(n=2)"
   ]
  },
  {
   "cell_type": "code",
   "execution_count": 15,
   "id": "e6a6e2fc",
   "metadata": {},
   "outputs": [],
   "source": [
    "# positional argument\n",
    "\n",
    "def func(name, age):\n",
    "    print(f'my name is {name} and i am {age} years old')"
   ]
  },
  {
   "cell_type": "code",
   "execution_count": 16,
   "id": "184021e2",
   "metadata": {},
   "outputs": [
    {
     "name": "stdout",
     "output_type": "stream",
     "text": [
      "my name is vishal and i am 22 years old\n"
     ]
    }
   ],
   "source": [
    "func('vishal',22)"
   ]
  },
  {
   "cell_type": "code",
   "execution_count": 20,
   "id": "ac577e23",
   "metadata": {},
   "outputs": [
    {
     "name": "stdout",
     "output_type": "stream",
     "text": [
      "my name is vishal and I am 22 years old and my ahmedabad city and\n",
      "          my degree is B.sc chemistry and my course in data analytics in ahmedabad\n"
     ]
    }
   ],
   "source": [
    "def func(name, age, city, mobile, degree, course):\n",
    "    print(f'''my name is {name} and I am {age} years old and my {city} city and\n",
    "          my degree is {degree} and my course in {course} in ahmedabad''')\n",
    "          \n",
    "func('vishal',22,'ahmedabad',7887,'B.sc chemistry','data analytics')"
   ]
  },
  {
   "cell_type": "code",
   "execution_count": 21,
   "id": "bbf54a9f",
   "metadata": {},
   "outputs": [
    {
     "name": "stdout",
     "output_type": "stream",
     "text": [
      "my name is vishal and I am 22 years old and my ahmedabad city and\n",
      "          my degree is B.sc chemistry and my course in data analytics in ahmedabad\n"
     ]
    }
   ],
   "source": [
    "# keyword argument\n",
    "\n",
    "def func(name, age, city, mobile, degree, course):\n",
    "    print(f'''my name is {name} and I am {age} years old and my {city} city and\n",
    "          my degree is {degree} and my course in {course} in ahmedabad''')\n",
    "\n",
    "func(mobile=7887, name='vishal', age=22, city='ahmedabad', course= 'data analytics', degree='B.sc chemistry')"
   ]
  },
  {
   "cell_type": "code",
   "execution_count": 25,
   "id": "57af95e5",
   "metadata": {},
   "outputs": [
    {
     "name": "stdout",
     "output_type": "stream",
     "text": [
      "vishal 22\n"
     ]
    }
   ],
   "source": [
    "# default argument\n",
    "\n",
    "def func(name, age, city=None):\n",
    "    if city:\n",
    "        print(name, age, city)\n",
    "    else:\n",
    "        print(name, age)\n",
    "\n",
    "func('vishal', 22)"
   ]
  },
  {
   "cell_type": "code",
   "execution_count": 26,
   "id": "c4c9a09e",
   "metadata": {},
   "outputs": [
    {
     "name": "stdout",
     "output_type": "stream",
     "text": [
      "vishal 22 ahmedabad\n"
     ]
    }
   ],
   "source": [
    "def func(name, age, city=None):\n",
    "    if city:\n",
    "        print(name, age, city)\n",
    "    else:\n",
    "        print(name, age)\n",
    "\n",
    "func('vishal', 22, 'ahmedabad')"
   ]
  },
  {
   "cell_type": "code",
   "execution_count": 30,
   "id": "55a3e74b",
   "metadata": {},
   "outputs": [],
   "source": [
    "s = 'hello'"
   ]
  },
  {
   "cell_type": "code",
   "execution_count": 33,
   "id": "747c20b6",
   "metadata": {},
   "outputs": [
    {
     "name": "stdout",
     "output_type": "stream",
     "text": [
      "h e l l o "
     ]
    }
   ],
   "source": [
    "for i in s:\n",
    "    print(i, end=' ')"
   ]
  },
  {
   "cell_type": "code",
   "execution_count": 34,
   "id": "443b6382",
   "metadata": {},
   "outputs": [
    {
     "name": "stdout",
     "output_type": "stream",
     "text": [
      "h e l l o\n"
     ]
    }
   ],
   "source": [
    "print(*s)"
   ]
  },
  {
   "cell_type": "code",
   "execution_count": 36,
   "id": "dca3e23e",
   "metadata": {},
   "outputs": [
    {
     "data": {
      "text/plain": [
       "['h', 'e', 'l', 'l', 'o']"
      ]
     },
     "execution_count": 36,
     "metadata": {},
     "output_type": "execute_result"
    }
   ],
   "source": [
    "[*s]"
   ]
  },
  {
   "cell_type": "code",
   "execution_count": 48,
   "id": "f64276a0",
   "metadata": {},
   "outputs": [],
   "source": [
    "def func():\n",
    "    return 'hello'\n",
    "    "
   ]
  },
  {
   "cell_type": "code",
   "execution_count": 49,
   "id": "184cf18b",
   "metadata": {},
   "outputs": [
    {
     "data": {
      "text/plain": [
       "'hello'"
      ]
     },
     "execution_count": 49,
     "metadata": {},
     "output_type": "execute_result"
    }
   ],
   "source": [
    "func()"
   ]
  },
  {
   "cell_type": "code",
   "execution_count": 50,
   "id": "d93876bd",
   "metadata": {},
   "outputs": [],
   "source": [
    "a = func()"
   ]
  },
  {
   "cell_type": "code",
   "execution_count": 51,
   "id": "e0be0471",
   "metadata": {},
   "outputs": [
    {
     "data": {
      "text/plain": [
       "'hello'"
      ]
     },
     "execution_count": 51,
     "metadata": {},
     "output_type": "execute_result"
    }
   ],
   "source": [
    "a"
   ]
  },
  {
   "cell_type": "code",
   "execution_count": 53,
   "id": "ba5ba518",
   "metadata": {},
   "outputs": [
    {
     "data": {
      "text/plain": [
       "['h', 'e', 'l', 'l', 'o']"
      ]
     },
     "execution_count": 53,
     "metadata": {},
     "output_type": "execute_result"
    }
   ],
   "source": [
    "[*a]"
   ]
  },
  {
   "cell_type": "code",
   "execution_count": 56,
   "id": "40fa9682",
   "metadata": {},
   "outputs": [
    {
     "name": "stdout",
     "output_type": "stream",
     "text": [
      "{'name': 'vishal'}\n"
     ]
    }
   ],
   "source": [
    "# arbitrary keyword argument list - **kwargs\n",
    "\n",
    "def func(**name):\n",
    "    print(name)\n",
    "    \n",
    "func(name='vishal')"
   ]
  },
  {
   "cell_type": "code",
   "execution_count": 66,
   "id": "57c48785",
   "metadata": {
    "scrolled": true
   },
   "outputs": [
    {
     "data": {
      "text/plain": [
       "{'age': 22, 'name': 'vishal'}"
      ]
     },
     "execution_count": 66,
     "metadata": {},
     "output_type": "execute_result"
    }
   ],
   "source": [
    "def func(age,**name):\n",
    "    a = {'age':age}\n",
    "    \n",
    "    a.update(name)\n",
    "    return a\n",
    "\n",
    "func(22, name='vishal')"
   ]
  },
  {
   "cell_type": "code",
   "execution_count": 67,
   "id": "5496f31f",
   "metadata": {},
   "outputs": [
    {
     "data": {
      "text/plain": [
       "11"
      ]
     },
     "execution_count": 67,
     "metadata": {},
     "output_type": "execute_result"
    }
   ],
   "source": [
    "def func(x, y, *num):\n",
    "    s = x + y\n",
    "    for i in num:\n",
    "        s += i\n",
    "        \n",
    "        return s\n",
    "    \n",
    "func(1,4,6,7,3)"
   ]
  },
  {
   "cell_type": "code",
   "execution_count": 5,
   "id": "a803d718",
   "metadata": {},
   "outputs": [
    {
     "data": {
      "text/plain": [
       "78"
      ]
     },
     "execution_count": 5,
     "metadata": {},
     "output_type": "execute_result"
    }
   ],
   "source": [
    "def func(x,y, * a):\n",
    "    s = x + y\n",
    "    for i in a:\n",
    "        s += i\n",
    "        \n",
    "        return s\n",
    "    \n",
    "func(46,27,5)"
   ]
  },
  {
   "cell_type": "code",
   "execution_count": 6,
   "id": "42a89c2d",
   "metadata": {},
   "outputs": [
    {
     "name": "stdout",
     "output_type": "stream",
     "text": [
      "hello python\n"
     ]
    }
   ],
   "source": [
    "def func():\n",
    "    print('hello python')\n",
    "    \n",
    "func()"
   ]
  },
  {
   "cell_type": "code",
   "execution_count": 7,
   "id": "e8f4ce5c",
   "metadata": {},
   "outputs": [
    {
     "data": {
      "text/plain": [
       "'hello python'"
      ]
     },
     "execution_count": 7,
     "metadata": {},
     "output_type": "execute_result"
    }
   ],
   "source": [
    "def func():\n",
    "    return 'hello python'\n",
    "\n",
    "func()"
   ]
  },
  {
   "cell_type": "code",
   "execution_count": 8,
   "id": "a398cb36",
   "metadata": {},
   "outputs": [
    {
     "name": "stdout",
     "output_type": "stream",
     "text": [
      "hello\n"
     ]
    }
   ],
   "source": [
    "def func():\n",
    "    x = 'hello'\n",
    "    print(x)\n",
    "    \n",
    "func()"
   ]
  },
  {
   "cell_type": "code",
   "execution_count": 9,
   "id": "4a86b380",
   "metadata": {},
   "outputs": [
    {
     "data": {
      "text/plain": [
       "'hello'"
      ]
     },
     "execution_count": 9,
     "metadata": {},
     "output_type": "execute_result"
    }
   ],
   "source": [
    "def func():\n",
    "    x = 'hello'\n",
    "    return x\n",
    "\n",
    "func()"
   ]
  },
  {
   "cell_type": "code",
   "execution_count": 10,
   "id": "bf198f52",
   "metadata": {},
   "outputs": [
    {
     "name": "stdout",
     "output_type": "stream",
     "text": [
      "9\n",
      "1\n"
     ]
    }
   ],
   "source": [
    "def func():\n",
    "    x = 5\n",
    "    y = 4\n",
    "    print(x + y)\n",
    "    print(x - y)\n",
    "    \n",
    "func()"
   ]
  },
  {
   "cell_type": "markdown",
   "id": "d9d50ba7",
   "metadata": {},
   "source": [
    "## func"
   ]
  },
  {
   "cell_type": "code",
   "execution_count": 13,
   "id": "b7ae4fc4",
   "metadata": {},
   "outputs": [
    {
     "name": "stdout",
     "output_type": "stream",
     "text": [
      "enter number3\n",
      "3 * 1 = 3\n",
      "3 * 2 = 6\n",
      "3 * 3 = 9\n",
      "3 * 4 = 12\n",
      "3 * 5 = 15\n",
      "3 * 6 = 18\n",
      "3 * 7 = 21\n",
      "3 * 8 = 24\n",
      "3 * 9 = 27\n",
      "3 * 10 = 30\n"
     ]
    }
   ],
   "source": [
    "def func():\n",
    "    t = int(input('enter number'))\n",
    "    for i in range(1,11):\n",
    "        print(f'{t} * {i} = {t * i}')\n",
    "        \n",
    "func()"
   ]
  },
  {
   "cell_type": "code",
   "execution_count": 21,
   "id": "fee8e420",
   "metadata": {},
   "outputs": [
    {
     "name": "stdout",
     "output_type": "stream",
     "text": [
      "a: 1 b: 2\n"
     ]
    }
   ],
   "source": [
    "def func(a, b,):\n",
    "    print('a:',a,'b:',b)\n",
    "    \n",
    "func(1,2)"
   ]
  },
  {
   "cell_type": "code",
   "execution_count": 1,
   "id": "c97bf2ba",
   "metadata": {},
   "outputs": [
    {
     "name": "stdout",
     "output_type": "stream",
     "text": [
      "hello\n",
      "python\n"
     ]
    }
   ],
   "source": [
    "def func():\n",
    "    print('hello')\n",
    "    print('python')\n",
    "    \n",
    "func()"
   ]
  },
  {
   "cell_type": "code",
   "execution_count": 3,
   "id": "9047056b",
   "metadata": {},
   "outputs": [
    {
     "data": {
      "text/plain": [
       "'hello'"
      ]
     },
     "execution_count": 3,
     "metadata": {},
     "output_type": "execute_result"
    }
   ],
   "source": [
    "def func():\n",
    "    return('hello')\n",
    "    return('python')\n",
    "    \n",
    "func()"
   ]
  },
  {
   "cell_type": "code",
   "execution_count": 4,
   "id": "386a8cf3",
   "metadata": {},
   "outputs": [
    {
     "name": "stdout",
     "output_type": "stream",
     "text": [
      "enter your namevishal\n",
      "vishal are you fine\n"
     ]
    }
   ],
   "source": [
    "def hello(name):\n",
    "    print(name + ' ' + 'are you fine')\n",
    "    \n",
    "hello(input('enter your name'))"
   ]
  },
  {
   "cell_type": "code",
   "execution_count": 5,
   "id": "2a7f4f29",
   "metadata": {},
   "outputs": [
    {
     "name": "stdout",
     "output_type": "stream",
     "text": [
      "enter your namevishal\n",
      "vishal are you fine\n",
      "hello vishal are you fine\n"
     ]
    }
   ],
   "source": [
    "def hello(name):\n",
    "    print(name + ' ' + 'are you fine')\n",
    "    print('hello ' + name +' are you fine' )\n",
    "    \n",
    "hello(input('enter your name'))"
   ]
  },
  {
   "cell_type": "code",
   "execution_count": 2,
   "id": "e6866366",
   "metadata": {},
   "outputs": [
    {
     "name": "stdout",
     "output_type": "stream",
     "text": [
      "enter your name : vishal\n",
      "enter your age: 22\n",
      "enter your mobile: 7887\n",
      "my name is: vishal\n",
      "my age is: 22\n",
      "my mobile no.is: 7887\n"
     ]
    }
   ],
   "source": [
    "def hello(name, age, mobile):\n",
    "    print('my name is: ' + name )\n",
    "    print('my age is: ' + age)\n",
    "    print('my mobile no.is: ' + mobile)\n",
    "    \n",
    "hello(input('enter your name : '),input('enter your age: '),input('enter your mobile: '))"
   ]
  },
  {
   "cell_type": "code",
   "execution_count": 1,
   "id": "5fef54ba",
   "metadata": {},
   "outputs": [
    {
     "name": "stdout",
     "output_type": "stream",
     "text": [
      "enter your name : vishal\n",
      "enter your age22\n",
      "enter your mobile7887\n",
      "my name is: vishal\n",
      "my age is: 22\n",
      "my mobile no.is: 7887\n"
     ]
    }
   ],
   "source": [
    "def hello(name, age, mobile):\n",
    "    print('my name is: ' + name )\n",
    "    print('my age is: ' + age)\n",
    "    print('my mobile no.is: ' + mobile)\n",
    "    \n",
    "hello(input('enter your name : '),input('enter your age'),input('enter your mobile'))"
   ]
  },
  {
   "cell_type": "code",
   "execution_count": null,
   "id": "1404bc0d",
   "metadata": {},
   "outputs": [],
   "source": [
    "def hello(name,age,mobile)"
   ]
  }
 ],
 "metadata": {
  "kernelspec": {
   "display_name": "Python 3 (ipykernel)",
   "language": "python",
   "name": "python3"
  },
  "language_info": {
   "codemirror_mode": {
    "name": "ipython",
    "version": 3
   },
   "file_extension": ".py",
   "mimetype": "text/x-python",
   "name": "python",
   "nbconvert_exporter": "python",
   "pygments_lexer": "ipython3",
   "version": "3.9.12"
  }
 },
 "nbformat": 4,
 "nbformat_minor": 5
}
