{
 "cells": [
  {
   "cell_type": "code",
   "execution_count": 2,
   "id": "885db223",
   "metadata": {},
   "outputs": [],
   "source": [
    "# W.A.P to find greater and less than number using If_else"
   ]
  },
  {
   "cell_type": "code",
   "execution_count": 7,
   "id": "eb368a50",
   "metadata": {},
   "outputs": [
    {
     "name": "stdout",
     "output_type": "stream",
     "text": [
      "True\n"
     ]
    }
   ],
   "source": [
    "x = 5\n",
    "y = 3\n",
    "\n",
    "if x > y :\n",
    "    print(True)\n",
    "else :\n",
    "    print(False)"
   ]
  },
  {
   "cell_type": "code",
   "execution_count": 8,
   "id": "c0a4bd86",
   "metadata": {},
   "outputs": [
    {
     "name": "stdout",
     "output_type": "stream",
     "text": [
      "False\n"
     ]
    }
   ],
   "source": [
    "x = 5\n",
    "y = 3\n",
    "\n",
    "if x < y :\n",
    "    print()\n",
    "else :\n",
    "    print(False)"
   ]
  },
  {
   "cell_type": "code",
   "execution_count": 24,
   "id": "0d76816d",
   "metadata": {},
   "outputs": [
    {
     "name": "stdout",
     "output_type": "stream",
     "text": [
      "enter your name : v\n",
      "enter your sub : v\n",
      "enter your per : 45\n"
     ]
    }
   ],
   "source": [
    "name = input('enter your name : ')\n",
    "subject = input('enter your sub : ')\n",
    "percentage = int(input('enter your per : '))\n",
    "u = 'name: ', name, 'subject: ', subject, 'percentage: ', percentage\n",
    "\n",
    "if per > 40 and per < 50:\n",
    "    print( 'a')\n"
   ]
  },
  {
   "cell_type": "code",
   "execution_count": 33,
   "id": "a036f9d7",
   "metadata": {},
   "outputs": [
    {
     "name": "stdout",
     "output_type": "stream",
     "text": [
      "enter your name : v\n",
      "enter your sub : v\n",
      "enter your per : 45\n",
      "('name: ', 'v', 'subject: ', 'v', 'percentage: ', 45) \n",
      "grade: A\n"
     ]
    }
   ],
   "source": [
    "name = input('enter your name : ')\n",
    "subject = input('enter your sub : ')\n",
    "percentage = int(input('enter your per : '))\n",
    "u = ('name: ', name, 'subject: ', subject, 'percentage: ', percentage)\n",
    "\n",
    "if per > 35z and 60 < per :\n",
    "    print(u, '\\ngrade: ')\n",
    "elif per > 61 and 80 < per :\n",
    "    print(u, '\\ngrade: ')\n",
    "elif per > 81 and 100 < per :\n",
    "    print(u, '\\ngrade: ')\n",
    "elif per < 34 :\n",
    "    print('')"
   ]
  },
  {
   "cell_type": "code",
   "execution_count": null,
   "id": "e490ada2",
   "metadata": {},
   "outputs": [],
   "source": []
  }
 ],
 "metadata": {
  "kernelspec": {
   "display_name": "Python 3 (ipykernel)",
   "language": "python",
   "name": "python3"
  },
  "language_info": {
   "codemirror_mode": {
    "name": "ipython",
    "version": 3
   },
   "file_extension": ".py",
   "mimetype": "text/x-python",
   "name": "python",
   "nbconvert_exporter": "python",
   "pygments_lexer": "ipython3",
   "version": "3.9.12"
  }
 },
 "nbformat": 4,
 "nbformat_minor": 5
}
