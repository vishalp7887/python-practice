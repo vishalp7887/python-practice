{
 "cells": [
  {
   "cell_type": "code",
   "execution_count": null,
   "id": "454b675f",
   "metadata": {},
   "outputs": [],
   "source": [
    "def func():\n",
    "    que1 = '1. Write a python program to sum of the first n positive integers.'\n",
    "    que2 = '2. Write a Python program to count occurrences of a substring in a string.'\n",
    "    print(que1, que2)\n",
    "    op = int(input('enter a que'))\n",
    "    if que == 1:\n",
    "        print('''1. Write a python program to sum of the first n positive integers.\n",
    "              n = int(input('enter a number: '))\n",
    "        s = (n * (n + 1)) / 2\n",
    "        print('Sum of the first', n ,'positive integers:', s)''')\n",
    "        n = int(input('enter a number: '))\n",
    "        s = (n * (n + 1)) / 2\n",
    "        print('Sum of the first', n ,'positive integers:', s)\n",
    "    elif que == 2:\n",
    "        print('''2. Write a Python program to count occurrences of a substring in a string.\n",
    "              string = 'welcome to india '\n",
    "        substring = 'to'\n",
    "        c = string.count(substring)\n",
    "        print(c)''')\n",
    "        string = 'welcome to india '\n",
    "        substring = 'to'\n",
    "        c = string.count(substring)\n",
    "        print(c)\n",
    "        \n",
    "        \n"
   ]
  },
  {
   "cell_type": "code",
   "execution_count": null,
   "id": "b823468a",
   "metadata": {},
   "outputs": [],
   "source": []
  },
  {
   "cell_type": "code",
   "execution_count": null,
   "id": "9c88600c",
   "metadata": {},
   "outputs": [],
   "source": []
  },
  {
   "cell_type": "code",
   "execution_count": null,
   "id": "b02bda20",
   "metadata": {},
   "outputs": [],
   "source": []
  }
 ],
 "metadata": {
  "kernelspec": {
   "display_name": "Python 3 (ipykernel)",
   "language": "python",
   "name": "python3"
  },
  "language_info": {
   "codemirror_mode": {
    "name": "ipython",
    "version": 3
   },
   "file_extension": ".py",
   "mimetype": "text/x-python",
   "name": "python",
   "nbconvert_exporter": "python",
   "pygments_lexer": "ipython3",
   "version": "3.9.12"
  }
 },
 "nbformat": 4,
 "nbformat_minor": 5
}
