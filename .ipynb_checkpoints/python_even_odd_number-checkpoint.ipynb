{
 "cells": [
  {
   "cell_type": "code",
   "execution_count": 6,
   "id": "4ae021ca",
   "metadata": {},
   "outputs": [
    {
     "name": "stdout",
     "output_type": "stream",
     "text": [
      "enter a number: 5\n",
      "5 is odd number\n"
     ]
    }
   ],
   "source": [
    "e_o = int(input('enter a number: '))\n",
    "\n",
    "\n",
    "if e_o % 2 == 0:\n",
    "    print(e_o, 'is even number')\n",
    "else:\n",
    "    print(e_o, 'is odd number')"
   ]
  },
  {
   "cell_type": "code",
   "execution_count": 15,
   "id": "0d732ee5",
   "metadata": {},
   "outputs": [
    {
     "name": "stdout",
     "output_type": "stream",
     "text": [
      "odd :  1\n",
      "even:  2\n",
      "odd :  3\n",
      "even:  4\n",
      "odd :  5\n",
      "even:  6\n",
      "odd :  7\n",
      "even:  8\n",
      "odd :  9\n",
      "even:  10\n"
     ]
    }
   ],
   "source": [
    "for i in range(1,11):\n",
    "    if i % 2 == 0:\n",
    "        print('even: ', i)\n",
    "    elif i % 2 == 1:\n",
    "        print('odd : ', i)"
   ]
  },
  {
   "cell_type": "code",
   "execution_count": 20,
   "id": "03a797b3",
   "metadata": {},
   "outputs": [
    {
     "name": "stdout",
     "output_type": "stream",
     "text": [
      "enter a number4\n"
     ]
    },
    {
     "data": {
      "text/plain": [
       "True"
      ]
     },
     "execution_count": 20,
     "metadata": {},
     "output_type": "execute_result"
    }
   ],
   "source": [
    "e_o = lambda x : x % 2 == 0\n",
    "\n",
    "e_o(int(input('enter a number')))"
   ]
  },
  {
   "cell_type": "code",
   "execution_count": 19,
   "id": "7d1b6270",
   "metadata": {},
   "outputs": [
    {
     "name": "stdout",
     "output_type": "stream",
     "text": [
      "enter a number5\n"
     ]
    },
    {
     "data": {
      "text/plain": [
       "False"
      ]
     },
     "execution_count": 19,
     "metadata": {},
     "output_type": "execute_result"
    }
   ],
   "source": [
    "e_o = lambda x : x % 2 == 0\n",
    "\n",
    "e_o(int(input('enter a number')))"
   ]
  },
  {
   "cell_type": "code",
   "execution_count": null,
   "id": "aac560ce",
   "metadata": {},
   "outputs": [],
   "source": []
  }
 ],
 "metadata": {
  "kernelspec": {
   "display_name": "Python 3 (ipykernel)",
   "language": "python",
   "name": "python3"
  },
  "language_info": {
   "codemirror_mode": {
    "name": "ipython",
    "version": 3
   },
   "file_extension": ".py",
   "mimetype": "text/x-python",
   "name": "python",
   "nbconvert_exporter": "python",
   "pygments_lexer": "ipython3",
   "version": "3.9.12"
  }
 },
 "nbformat": 4,
 "nbformat_minor": 5
}
