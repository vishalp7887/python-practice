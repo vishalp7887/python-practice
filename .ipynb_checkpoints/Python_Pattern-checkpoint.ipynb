{
 "cells": [
  {
   "cell_type": "code",
   "execution_count": 4,
   "id": "96c38415",
   "metadata": {},
   "outputs": [
    {
     "name": "stdout",
     "output_type": "stream",
     "text": [
      "p\n",
      "py\n",
      "pyt\n",
      "pyth\n",
      "pytho\n",
      "python\n",
      "pytho\n",
      "pyth\n",
      "pyt\n",
      "py\n",
      "p\n",
      "\n"
     ]
    }
   ],
   "source": [
    "string = \"python\"\n",
    "x = 0\n",
    "\n",
    "for i in string :\n",
    "    x = x + 1\n",
    "    print(string[0 : x])\n",
    "\n",
    "for i in string :\n",
    "    x = x - 1\n",
    "    print(string[0 : x])"
   ]
  },
  {
   "cell_type": "code",
   "execution_count": 7,
   "id": "471fe263",
   "metadata": {},
   "outputs": [
    {
     "name": "stdout",
     "output_type": "stream",
     "text": [
      "enter your string : ahmedabad\n",
      "a\n",
      "ah\n",
      "ahm\n",
      "ahme\n",
      "ahmed\n",
      "ahmeda\n",
      "ahmedab\n",
      "ahmedaba\n",
      "ahmedabad\n",
      "ahmedaba\n",
      "ahmedab\n",
      "ahmeda\n",
      "ahmed\n",
      "ahme\n",
      "ahm\n",
      "ah\n",
      "a\n",
      "\n"
     ]
    }
   ],
   "source": [
    "string = input('enter your string : ')\n",
    "x = 0\n",
    "\n",
    "for i in string :\n",
    "    x = x + 1\n",
    "    print(string[0 : x])\n",
    "\n",
    "for i in string :\n",
    "    x = x - 1\n",
    "    print(string[0 : x])"
   ]
  },
  {
   "cell_type": "code",
   "execution_count": null,
   "id": "a164f779",
   "metadata": {},
   "outputs": [],
   "source": []
  }
 ],
 "metadata": {
  "kernelspec": {
   "display_name": "Python 3 (ipykernel)",
   "language": "python",
   "name": "python3"
  },
  "language_info": {
   "codemirror_mode": {
    "name": "ipython",
    "version": 3
   },
   "file_extension": ".py",
   "mimetype": "text/x-python",
   "name": "python",
   "nbconvert_exporter": "python",
   "pygments_lexer": "ipython3",
   "version": "3.9.13"
  }
 },
 "nbformat": 4,
 "nbformat_minor": 5
}
