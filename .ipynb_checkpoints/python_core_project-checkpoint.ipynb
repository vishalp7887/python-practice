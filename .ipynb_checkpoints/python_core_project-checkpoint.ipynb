{
 "cells": [
  {
   "cell_type": "code",
   "execution_count": 3,
   "id": "48a0c482",
   "metadata": {},
   "outputs": [],
   "source": [
    "from random import randint\n",
    "fruit_available = ['apple', 'banana', 'mango', 'orange']\n",
    "fruit_stock = dict()\n",
    "fruit_keys = ['name', 'price', 'quantity_kg']\n",
    "\n",
    "for i in fruit_available:\n",
    "    f_id = randint(100, 999)\n",
    "    \n",
    "    fruit_stock.setdefault(f_id, dict.fromkeys(fruit_keys))\n",
    "    fruit_stock[f_id]['name'] = i"
   ]
  },
  {
   "cell_type": "code",
   "execution_count": 4,
   "id": "d43c5b98",
   "metadata": {},
   "outputs": [
    {
     "data": {
      "text/plain": [
       "{747: {'name': 'apple', 'price': None, 'quantity_kg': None},\n",
       " 434: {'name': 'banana', 'price': None, 'quantity_kg': None},\n",
       " 864: {'name': 'mango', 'price': None, 'quantity_kg': None},\n",
       " 554: {'name': 'orange', 'price': None, 'quantity_kg': None}}"
      ]
     },
     "execution_count": 4,
     "metadata": {},
     "output_type": "execute_result"
    }
   ],
   "source": [
    "fruit_stock"
   ]
  },
  {
   "cell_type": "code",
   "execution_count": 5,
   "id": "e46622ab",
   "metadata": {},
   "outputs": [],
   "source": [
    "fruit_stock[864]['price'] = 150 "
   ]
  },
  {
   "cell_type": "code",
   "execution_count": 7,
   "id": "592dc137",
   "metadata": {},
   "outputs": [
    {
     "data": {
      "text/plain": [
       "{747: {'name': 'apple', 'price': None, 'quantity_kg': None},\n",
       " 434: {'name': 'banana', 'price': None, 'quantity_kg': None},\n",
       " 864: {'name': 'mango', 'price': 150, 'quantity_kg': None},\n",
       " 554: {'name': 'orange', 'price': None, 'quantity_kg': None}}"
      ]
     },
     "execution_count": 7,
     "metadata": {},
     "output_type": "execute_result"
    }
   ],
   "source": [
    "fruit_stock"
   ]
  },
  {
   "cell_type": "markdown",
   "id": "256e5811",
   "metadata": {},
   "source": []
  },
  {
   "cell_type": "code",
   "execution_count": null,
   "id": "8e1b0ecc",
   "metadata": {},
   "outputs": [],
   "source": [
    "import random\n",
    "print('Welcome to fruit market')\n",
    "print('1. Manager \\n2. Customer')\n",
    "available_fruits=['mango','banana','orange','grapes']\n",
    "fruit_stock=dict()\n",
    "fruit_id=100\n",
    "fruit_item=['name','quantity','price','alert']\n",
    "option=int(input('Select Your role: '))\n",
    "if option==1:\n",
    "  print('Fruit Market Manager\\n1.Add Fruit\\n2.View Fruit\\n3.Update Fruit')\n",
    "  choice=int(input('Enter Your Choice: '))\n",
    "  if choice==1:\n",
    "    for af in available_fruits:\n",
    "      fruit_id+=1\n",
    "      fruit_stock.setdefault(fruit_id,dict.fromkeys(fruit_item))\n",
    "      fruit_stock[fruit_id]['name']=af\n",
    "      fruit_stock[fruit_id]['price']=int(input(f'Enter {af} price: '))\n",
    "      fruit_stock[fruit_id]['quantity']=int(input('Enter quantity: '))\n",
    "      fruit_stock[fruit_id]['alert']=12\n",
    "  elif choice==2:\n",
    "    print(fruit_stock)\n",
    "  elif choice==3:\n",
    "    for af in available_fruits:\n",
    "      fruit_id+=1\n",
    "      fruit_stock.setdefault(fruit_id,dict.fromkeys(fruit_item))\n",
    "      fruit_stock[fruit_id]['name']=af\n",
    "      fruit_stock[fruit_id]['price']=int(input(f'Enter {af} price: '))\n",
    "      fruit_stock[fruit_id]['quantity']+=int(input('Enter quantity: '))\n",
    "      fruit_stock[fruit_id]['alert']=12\n",
    "  else:\n",
    "    print('Incorrect Input')"
   ]
  }
 ],
 "metadata": {
  "kernelspec": {
   "display_name": "Python 3 (ipykernel)",
   "language": "python",
   "name": "python3"
  },
  "language_info": {
   "codemirror_mode": {
    "name": "ipython",
    "version": 3
   },
   "file_extension": ".py",
   "mimetype": "text/x-python",
   "name": "python",
   "nbconvert_exporter": "python",
   "pygments_lexer": "ipython3",
   "version": "3.9.12"
  }
 },
 "nbformat": 4,
 "nbformat_minor": 5
}
