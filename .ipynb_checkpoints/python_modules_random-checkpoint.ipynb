{
 "cells": [
  {
   "cell_type": "code",
   "execution_count": 1,
   "id": "d328a827",
   "metadata": {},
   "outputs": [],
   "source": [
    "import random"
   ]
  },
  {
   "cell_type": "code",
   "execution_count": 2,
   "id": "5a863dda",
   "metadata": {},
   "outputs": [
    {
     "data": {
      "text/plain": [
       "0.7929681505056938"
      ]
     },
     "execution_count": 2,
     "metadata": {},
     "output_type": "execute_result"
    }
   ],
   "source": [
    "random.random()"
   ]
  },
  {
   "cell_type": "code",
   "execution_count": 3,
   "id": "8fe79e03",
   "metadata": {},
   "outputs": [
    {
     "data": {
      "text/plain": [
       "0.18709007557401436"
      ]
     },
     "execution_count": 3,
     "metadata": {},
     "output_type": "execute_result"
    }
   ],
   "source": [
    "random.random()"
   ]
  },
  {
   "cell_type": "code",
   "execution_count": 4,
   "id": "efcd4fa6",
   "metadata": {},
   "outputs": [
    {
     "data": {
      "text/plain": [
       "2"
      ]
     },
     "execution_count": 4,
     "metadata": {},
     "output_type": "execute_result"
    }
   ],
   "source": [
    "random.randrange(10)"
   ]
  },
  {
   "cell_type": "code",
   "execution_count": 5,
   "id": "acb254ee",
   "metadata": {},
   "outputs": [
    {
     "data": {
      "text/plain": [
       "6"
      ]
     },
     "execution_count": 5,
     "metadata": {},
     "output_type": "execute_result"
    }
   ],
   "source": [
    "random.randrange(1,10)"
   ]
  },
  {
   "cell_type": "code",
   "execution_count": 7,
   "id": "f8362a1f",
   "metadata": {},
   "outputs": [
    {
     "data": {
      "text/plain": [
       "4"
      ]
     },
     "execution_count": 7,
     "metadata": {},
     "output_type": "execute_result"
    }
   ],
   "source": [
    "random.randrange(10,3,-1)"
   ]
  },
  {
   "cell_type": "code",
   "execution_count": 8,
   "id": "55c0996c",
   "metadata": {},
   "outputs": [
    {
     "name": "stdout",
     "output_type": "stream",
     "text": [
      "['BPF', 'LOG4', 'NV_MAGICCONST', 'RECIP_BPF', 'Random', 'SG_MAGICCONST', 'SystemRandom', 'TWOPI', '_Sequence', '_Set', '__all__', '__builtins__', '__cached__', '__doc__', '__file__', '__loader__', '__name__', '__package__', '__spec__', '_accumulate', '_acos', '_bisect', '_ceil', '_cos', '_e', '_exp', '_floor', '_inst', '_log', '_os', '_pi', '_random', '_repeat', '_sha512', '_sin', '_sqrt', '_test', '_test_generator', '_urandom', '_warn', 'betavariate', 'choice', 'choices', 'expovariate', 'gammavariate', 'gauss', 'getrandbits', 'getstate', 'lognormvariate', 'normalvariate', 'paretovariate', 'randbytes', 'randint', 'random', 'randrange', 'sample', 'seed', 'setstate', 'shuffle', 'triangular', 'uniform', 'vonmisesvariate', 'weibullvariate']\n"
     ]
    }
   ],
   "source": [
    "print(dir(random))"
   ]
  },
  {
   "cell_type": "code",
   "execution_count": 9,
   "id": "b1e37132",
   "metadata": {},
   "outputs": [
    {
     "data": {
      "text/plain": [
       "29"
      ]
     },
     "execution_count": 9,
     "metadata": {},
     "output_type": "execute_result"
    }
   ],
   "source": [
    "random.randrange(10,99)"
   ]
  },
  {
   "cell_type": "code",
   "execution_count": 10,
   "id": "90a58f3c",
   "metadata": {},
   "outputs": [
    {
     "data": {
      "text/plain": [
       "18"
      ]
     },
     "execution_count": 10,
     "metadata": {},
     "output_type": "execute_result"
    }
   ],
   "source": [
    "random.randint(11,19)"
   ]
  },
  {
   "cell_type": "code",
   "execution_count": 13,
   "id": "64c08f6c",
   "metadata": {},
   "outputs": [
    {
     "data": {
      "text/plain": [
       "84"
      ]
     },
     "execution_count": 13,
     "metadata": {},
     "output_type": "execute_result"
    }
   ],
   "source": [
    "random.randint(10,99)"
   ]
  },
  {
   "cell_type": "code",
   "execution_count": 14,
   "id": "a7826752",
   "metadata": {},
   "outputs": [
    {
     "data": {
      "text/plain": [
       "'l'"
      ]
     },
     "execution_count": 14,
     "metadata": {},
     "output_type": "execute_result"
    }
   ],
   "source": [
    "random.choice('hello')"
   ]
  },
  {
   "cell_type": "code",
   "execution_count": 16,
   "id": "0357a63f",
   "metadata": {},
   "outputs": [
    {
     "data": {
      "text/plain": [
       "'l'"
      ]
     },
     "execution_count": 16,
     "metadata": {},
     "output_type": "execute_result"
    }
   ],
   "source": [
    "random.choice('hello')"
   ]
  },
  {
   "cell_type": "code",
   "execution_count": 17,
   "id": "e163bc21",
   "metadata": {},
   "outputs": [
    {
     "data": {
      "text/plain": [
       "'h'"
      ]
     },
     "execution_count": 17,
     "metadata": {},
     "output_type": "execute_result"
    }
   ],
   "source": [
    "random.choice('hello')"
   ]
  },
  {
   "cell_type": "code",
   "execution_count": 18,
   "id": "60826830",
   "metadata": {},
   "outputs": [
    {
     "data": {
      "text/plain": [
       "'he'"
      ]
     },
     "execution_count": 18,
     "metadata": {},
     "output_type": "execute_result"
    }
   ],
   "source": [
    "random.choice(['he','jn','oj'])"
   ]
  },
  {
   "cell_type": "code",
   "execution_count": 24,
   "id": "3a56f991",
   "metadata": {},
   "outputs": [
    {
     "name": "stdout",
     "output_type": "stream",
     "text": [
      "1\n",
      "1\n",
      "5\n",
      "1\n",
      "1\n",
      "2\n",
      "6\n",
      "6\n",
      "2\n",
      "5\n"
     ]
    }
   ],
   "source": [
    "for i in range(10):\n",
    "    print(random.choice([1,4,6,2,5]))"
   ]
  },
  {
   "cell_type": "code",
   "execution_count": 27,
   "id": "54c512b7",
   "metadata": {},
   "outputs": [
    {
     "name": "stdout",
     "output_type": "stream",
     "text": [
      "a b a b a b a b a b "
     ]
    }
   ],
   "source": [
    "l = ['a','b']\n",
    "for i in range(1,6):\n",
    "    for x in l:\n",
    "        print(x, end=' ')"
   ]
  },
  {
   "cell_type": "code",
   "execution_count": 29,
   "id": "e3f72bd8",
   "metadata": {},
   "outputs": [
    {
     "name": "stdout",
     "output_type": "stream",
     "text": [
      "a: 4\n",
      "b: 6\n",
      "a: 5\n",
      "b: 4\n",
      "a: 6\n",
      "b: 4\n",
      "a: 2\n",
      "b: 4\n",
      "a: 5\n",
      "b: 5\n"
     ]
    }
   ],
   "source": [
    "for i in range(1,6):\n",
    "    for x in l:\n",
    "        print(f\"{x}: {random.choice([1,2,3,4,5,6])}\")"
   ]
  },
  {
   "cell_type": "code",
   "execution_count": 32,
   "id": "8f6aa72f",
   "metadata": {},
   "outputs": [
    {
     "data": {
      "text/plain": [
       "['n', 'o']"
      ]
     },
     "execution_count": 32,
     "metadata": {},
     "output_type": "execute_result"
    }
   ],
   "source": [
    "random.choices('python',k=2)"
   ]
  },
  {
   "cell_type": "code",
   "execution_count": 34,
   "id": "617244d0",
   "metadata": {},
   "outputs": [
    {
     "data": {
      "text/plain": [
       "['o', 'o', 'y', 'h', 't', 'y', 'y', 't', 'n', 'p']"
      ]
     },
     "execution_count": 34,
     "metadata": {},
     "output_type": "execute_result"
    }
   ],
   "source": [
    "random.choices('python',k=10)"
   ]
  },
  {
   "cell_type": "code",
   "execution_count": 35,
   "id": "c242a5d9",
   "metadata": {},
   "outputs": [],
   "source": [
    "# password genetor"
   ]
  },
  {
   "cell_type": "code",
   "execution_count": 36,
   "id": "afaaa027",
   "metadata": {},
   "outputs": [],
   "source": [
    "password = ''\n",
    "for i in range(97,123):\n",
    "    password += chr(i)\n",
    "else:\n",
    "    password += password.upper()"
   ]
  },
  {
   "cell_type": "code",
   "execution_count": 37,
   "id": "89948cd2",
   "metadata": {},
   "outputs": [
    {
     "data": {
      "text/plain": [
       "'abcdefghijklmnopqrstuvwxyzABCDEFGHIJKLMNOPQRSTUVWXYZ'"
      ]
     },
     "execution_count": 37,
     "metadata": {},
     "output_type": "execute_result"
    }
   ],
   "source": [
    "password"
   ]
  },
  {
   "cell_type": "code",
   "execution_count": 38,
   "id": "8ed48075",
   "metadata": {},
   "outputs": [],
   "source": [
    "password = str(password)"
   ]
  },
  {
   "cell_type": "code",
   "execution_count": 39,
   "id": "37e1680e",
   "metadata": {},
   "outputs": [
    {
     "data": {
      "text/plain": [
       "'abcdefghijklmnopqrstuvwxyzABCDEFGHIJKLMNOPQRSTUVWXYZ'"
      ]
     },
     "execution_count": 39,
     "metadata": {},
     "output_type": "execute_result"
    }
   ],
   "source": [
    "password"
   ]
  },
  {
   "cell_type": "code",
   "execution_count": 41,
   "id": "af1a0c33",
   "metadata": {},
   "outputs": [],
   "source": [
    "password += '!@#$%^&*_+-='"
   ]
  },
  {
   "cell_type": "code",
   "execution_count": 42,
   "id": "1667400b",
   "metadata": {},
   "outputs": [
    {
     "data": {
      "text/plain": [
       "'abcdefghijklmnopqrstuvwxyzABCDEFGHIJKLMNOPQRSTUVWXYZ!@#$%^&*_+-='"
      ]
     },
     "execution_count": 42,
     "metadata": {},
     "output_type": "execute_result"
    }
   ],
   "source": [
    "password"
   ]
  },
  {
   "cell_type": "code",
   "execution_count": 44,
   "id": "e502f124",
   "metadata": {},
   "outputs": [
    {
     "data": {
      "text/plain": [
       "['Q', 'm', '#', 'W', 'f', 'f', 'r', 'B']"
      ]
     },
     "execution_count": 44,
     "metadata": {},
     "output_type": "execute_result"
    }
   ],
   "source": [
    "random.choices(password, k = 8)"
   ]
  },
  {
   "cell_type": "code",
   "execution_count": 50,
   "id": "f71dfdc1",
   "metadata": {},
   "outputs": [
    {
     "data": {
      "text/plain": [
       "'m_F_nnyx'"
      ]
     },
     "execution_count": 50,
     "metadata": {},
     "output_type": "execute_result"
    }
   ],
   "source": [
    "''.join(random.choices(password, k = 8))"
   ]
  },
  {
   "cell_type": "code",
   "execution_count": 51,
   "id": "57190c04",
   "metadata": {},
   "outputs": [
    {
     "name": "stdout",
     "output_type": "stream",
     "text": [
      "DqYnu+Fyj"
     ]
    }
   ],
   "source": [
    "for i in range(1,10):\n",
    "    print(''.join(random.choice(password)), end='')"
   ]
  },
  {
   "cell_type": "code",
   "execution_count": 52,
   "id": "a211f0c5",
   "metadata": {},
   "outputs": [],
   "source": [
    "for i in range(0,10):\n",
    "    password += str(i)"
   ]
  },
  {
   "cell_type": "code",
   "execution_count": 53,
   "id": "1ec6dc69",
   "metadata": {},
   "outputs": [
    {
     "data": {
      "text/plain": [
       "'abcdefghijklmnopqrstuvwxyzABCDEFGHIJKLMNOPQRSTUVWXYZ!@#$%^&*_+-=0123456789'"
      ]
     },
     "execution_count": 53,
     "metadata": {},
     "output_type": "execute_result"
    }
   ],
   "source": [
    "password"
   ]
  },
  {
   "cell_type": "code",
   "execution_count": 57,
   "id": "abc4bab6",
   "metadata": {},
   "outputs": [
    {
     "data": {
      "text/plain": [
       "'abcdefghijklmnopqrstuvwxyzABCDEFGHIJKLMNOPQRSTUVWXYZ!@#$%^&*_+-=0123456789'"
      ]
     },
     "execution_count": 57,
     "metadata": {},
     "output_type": "execute_result"
    }
   ],
   "source": [
    "password"
   ]
  },
  {
   "cell_type": "code",
   "execution_count": 58,
   "id": "c00520c4",
   "metadata": {},
   "outputs": [
    {
     "data": {
      "text/plain": [
       "'+FIF@4qm'"
      ]
     },
     "execution_count": 58,
     "metadata": {},
     "output_type": "execute_result"
    }
   ],
   "source": [
    "''.join(random.choices(password, k = 8))"
   ]
  },
  {
   "cell_type": "code",
   "execution_count": 59,
   "id": "c77b9e85",
   "metadata": {},
   "outputs": [
    {
     "data": {
      "text/plain": [
       "'6$#$*%fv'"
      ]
     },
     "execution_count": 59,
     "metadata": {},
     "output_type": "execute_result"
    }
   ],
   "source": [
    "''.join(random.choices(password, k = 8))"
   ]
  },
  {
   "cell_type": "code",
   "execution_count": 66,
   "id": "a4392715",
   "metadata": {},
   "outputs": [
    {
     "name": "stdout",
     "output_type": "stream",
     "text": [
      "MRZZI$o9\n"
     ]
    }
   ],
   "source": [
    "import random\n",
    "\n",
    "l = 'abcdefghijklmnopqrstuvwxyz'\n",
    "u = 'ABCDEFGHIJKLMNOPQRSTUVWXYZ'\n",
    "n = '0123456789'\n",
    "s = '@#$%&*/\\?'\n",
    "\n",
    "use = l + u + n + s\n",
    "\n",
    "p = ''.join(random.choices(use, k = 8))\n",
    "\n",
    "\n",
    "print(p)"
   ]
  },
  {
   "cell_type": "code",
   "execution_count": 104,
   "id": "f3e9a0be",
   "metadata": {},
   "outputs": [
    {
     "name": "stdout",
     "output_type": "stream",
     "text": [
      "eX$2Kzy@\n"
     ]
    }
   ],
   "source": [
    "import random\n",
    "\n",
    "l = 'abcdefghijklmnopqrstuvwxyz'\n",
    "u = 'ABCDEFGHIJKLMNOPQRSTUVWXYZ'\n",
    "n = '0123456789'\n",
    "s = '@#$%&*/\\?'\n",
    "\n",
    "use = l + u + n + s\n",
    "length = 8\n",
    "p = ''.join(random.sample(use, length))\n",
    "\n",
    "\n",
    "print(p)"
   ]
  },
  {
   "cell_type": "code",
   "execution_count": 71,
   "id": "c28d4328",
   "metadata": {},
   "outputs": [
    {
     "name": "stdout",
     "output_type": "stream",
     "text": [
      "iSdqW4/9\n"
     ]
    }
   ],
   "source": [
    "import random\n",
    "use = ''\n",
    "for i in range(97,123):\n",
    "    use += chr(i)\n",
    "else:\n",
    "    use += use.upper()\n",
    "    use += '0123456789'\n",
    "    use += '@#$%&*/\\?'\n",
    "\n",
    "\n",
    "password = ''.join(random.choices(use, k = 8))\n",
    "\n",
    "\n",
    "print(password)"
   ]
  },
  {
   "cell_type": "code",
   "execution_count": 75,
   "id": "05b81a65",
   "metadata": {},
   "outputs": [],
   "source": [
    "l = [1,2,3,4,5]\n",
    "random.shuffle(l)"
   ]
  },
  {
   "cell_type": "code",
   "execution_count": 76,
   "id": "3f499a7d",
   "metadata": {},
   "outputs": [
    {
     "data": {
      "text/plain": [
       "[1, 5, 4, 3, 2]"
      ]
     },
     "execution_count": 76,
     "metadata": {},
     "output_type": "execute_result"
    }
   ],
   "source": [
    "l"
   ]
  },
  {
   "cell_type": "code",
   "execution_count": 77,
   "id": "1649bbe3",
   "metadata": {},
   "outputs": [
    {
     "data": {
      "text/plain": [
       "'C:\\\\Users\\\\DEVAI TECHNOLOGIES\\\\Desktop\\\\python_modules'"
      ]
     },
     "execution_count": 77,
     "metadata": {},
     "output_type": "execute_result"
    }
   ],
   "source": [
    "import os\n",
    "os.getcwd()"
   ]
  },
  {
   "cell_type": "code",
   "execution_count": 80,
   "id": "8935ca66",
   "metadata": {},
   "outputs": [
    {
     "data": {
      "text/plain": [
       "['.git',\n",
       " '.ipynb_checkpoints',\n",
       " 'demo.py',\n",
       " 'module.py',\n",
       " 'readme.md',\n",
       " 'Untitled.ipynb']"
      ]
     },
     "execution_count": 80,
     "metadata": {},
     "output_type": "execute_result"
    }
   ],
   "source": [
    "os.listdir(os.getcwd())"
   ]
  },
  {
   "cell_type": "code",
   "execution_count": 81,
   "id": "be8f6a38",
   "metadata": {},
   "outputs": [
    {
     "data": {
      "text/plain": [
       "0.5565583245844871"
      ]
     },
     "execution_count": 81,
     "metadata": {},
     "output_type": "execute_result"
    }
   ],
   "source": [
    "random.random()"
   ]
  },
  {
   "cell_type": "code",
   "execution_count": 82,
   "id": "1592c1ce",
   "metadata": {},
   "outputs": [
    {
     "data": {
      "text/plain": [
       "0.9637949696311426"
      ]
     },
     "execution_count": 82,
     "metadata": {},
     "output_type": "execute_result"
    }
   ],
   "source": [
    "random.random()"
   ]
  },
  {
   "cell_type": "code",
   "execution_count": 83,
   "id": "c3273bcb",
   "metadata": {},
   "outputs": [
    {
     "data": {
      "text/plain": [
       "9"
      ]
     },
     "execution_count": 83,
     "metadata": {},
     "output_type": "execute_result"
    }
   ],
   "source": [
    "random.randrange(10)"
   ]
  },
  {
   "cell_type": "code",
   "execution_count": 84,
   "id": "c63a1ef7",
   "metadata": {},
   "outputs": [
    {
     "data": {
      "text/plain": [
       "0"
      ]
     },
     "execution_count": 84,
     "metadata": {},
     "output_type": "execute_result"
    }
   ],
   "source": [
    "random.randrange(10)"
   ]
  },
  {
   "cell_type": "code",
   "execution_count": 86,
   "id": "26826c3a",
   "metadata": {},
   "outputs": [
    {
     "data": {
      "text/plain": [
       "8"
      ]
     },
     "execution_count": 86,
     "metadata": {},
     "output_type": "execute_result"
    }
   ],
   "source": [
    "random.randint(1, 10)"
   ]
  },
  {
   "cell_type": "code",
   "execution_count": 87,
   "id": "5f19b5e1",
   "metadata": {},
   "outputs": [
    {
     "data": {
      "text/plain": [
       "1"
      ]
     },
     "execution_count": 87,
     "metadata": {},
     "output_type": "execute_result"
    }
   ],
   "source": [
    "random.randint(1,3)"
   ]
  },
  {
   "cell_type": "code",
   "execution_count": 88,
   "id": "6379b640",
   "metadata": {},
   "outputs": [
    {
     "data": {
      "text/plain": [
       "1"
      ]
     },
     "execution_count": 88,
     "metadata": {},
     "output_type": "execute_result"
    }
   ],
   "source": [
    "random.randint(1,3)"
   ]
  },
  {
   "cell_type": "code",
   "execution_count": 89,
   "id": "27724b10",
   "metadata": {},
   "outputs": [
    {
     "data": {
      "text/plain": [
       "'e'"
      ]
     },
     "execution_count": 89,
     "metadata": {},
     "output_type": "execute_result"
    }
   ],
   "source": [
    "random.choice('hello')"
   ]
  },
  {
   "cell_type": "code",
   "execution_count": 90,
   "id": "70fbc536",
   "metadata": {},
   "outputs": [
    {
     "data": {
      "text/plain": [
       "'l'"
      ]
     },
     "execution_count": 90,
     "metadata": {},
     "output_type": "execute_result"
    }
   ],
   "source": [
    "random.choice('hello')"
   ]
  },
  {
   "cell_type": "code",
   "execution_count": 91,
   "id": "666340f8",
   "metadata": {},
   "outputs": [
    {
     "data": {
      "text/plain": [
       "'o'"
      ]
     },
     "execution_count": 91,
     "metadata": {},
     "output_type": "execute_result"
    }
   ],
   "source": [
    "random.choice('he llo')"
   ]
  },
  {
   "cell_type": "code",
   "execution_count": 92,
   "id": "a7080ae5",
   "metadata": {},
   "outputs": [
    {
     "data": {
      "text/plain": [
       "'o'"
      ]
     },
     "execution_count": 92,
     "metadata": {},
     "output_type": "execute_result"
    }
   ],
   "source": [
    "random.choice('he llo')"
   ]
  },
  {
   "cell_type": "code",
   "execution_count": 93,
   "id": "5d4c4abf",
   "metadata": {},
   "outputs": [
    {
     "data": {
      "text/plain": [
       "' '"
      ]
     },
     "execution_count": 93,
     "metadata": {},
     "output_type": "execute_result"
    }
   ],
   "source": [
    "random.choice('he llo')"
   ]
  },
  {
   "cell_type": "code",
   "execution_count": 94,
   "id": "c75dd7d2",
   "metadata": {},
   "outputs": [
    {
     "data": {
      "text/plain": [
       "['h', 'h', 'e', 'o']"
      ]
     },
     "execution_count": 94,
     "metadata": {},
     "output_type": "execute_result"
    }
   ],
   "source": [
    "random.choices('he llo', k = 4)"
   ]
  },
  {
   "cell_type": "code",
   "execution_count": 96,
   "id": "9109e7ef",
   "metadata": {},
   "outputs": [
    {
     "data": {
      "text/plain": [
       "'elol'"
      ]
     },
     "execution_count": 96,
     "metadata": {},
     "output_type": "execute_result"
    }
   ],
   "source": [
    "''.join(random.choices('hello', k = 4))"
   ]
  },
  {
   "cell_type": "code",
   "execution_count": 98,
   "id": "7dd0c2d8",
   "metadata": {},
   "outputs": [],
   "source": [
    "l = [1,2,3,4,5]\n",
    "random.shuffle(l)"
   ]
  },
  {
   "cell_type": "code",
   "execution_count": 99,
   "id": "3a3f85f6",
   "metadata": {},
   "outputs": [
    {
     "data": {
      "text/plain": [
       "[3, 2, 4, 5, 1]"
      ]
     },
     "execution_count": 99,
     "metadata": {},
     "output_type": "execute_result"
    }
   ],
   "source": [
    "l"
   ]
  },
  {
   "cell_type": "code",
   "execution_count": 102,
   "id": "9d918508",
   "metadata": {},
   "outputs": [],
   "source": [
    "d = [1,2,3,'a','b','c',4,'d']\n",
    "random.shuffle(d)"
   ]
  },
  {
   "cell_type": "code",
   "execution_count": 103,
   "id": "476d0ff8",
   "metadata": {},
   "outputs": [
    {
     "data": {
      "text/plain": [
       "['b', 4, 'a', 'd', 3, 2, 'c', 1]"
      ]
     },
     "execution_count": 103,
     "metadata": {},
     "output_type": "execute_result"
    }
   ],
   "source": [
    "d"
   ]
  },
  {
   "cell_type": "code",
   "execution_count": 15,
   "id": "7da06e08",
   "metadata": {},
   "outputs": [
    {
     "name": "stdout",
     "output_type": "stream",
     "text": [
      "=64cJij$\n"
     ]
    }
   ],
   "source": [
    "use = ''\n",
    "\n",
    "for i in range(97, 123):\n",
    "    use += chr(i)\n",
    "else:\n",
    "    use += use.upper()\n",
    "    use += '!@#$%^&*_+=-'\n",
    "    use += '1234567890'\n",
    "    \n",
    "password = ''.join(random.choices(use, k = 8))\n",
    "\n",
    "print(password)"
   ]
  },
  {
   "cell_type": "code",
   "execution_count": 111,
   "id": "d39e41eb",
   "metadata": {},
   "outputs": [
    {
     "data": {
      "text/plain": [
       "'abcdefghijklmnopqrstuvwxyzABCDEFGHIJKLMNOPQRSTUVWXYZ!@#$%^&*_+=-1234567890'"
      ]
     },
     "execution_count": 111,
     "metadata": {},
     "output_type": "execute_result"
    }
   ],
   "source": [
    "use"
   ]
  },
  {
   "cell_type": "code",
   "execution_count": 116,
   "id": "7234b4ac",
   "metadata": {},
   "outputs": [
    {
     "name": "stdout",
     "output_type": "stream",
     "text": [
      "9Ckom0x+\n"
     ]
    }
   ],
   "source": [
    "print(password)"
   ]
  },
  {
   "cell_type": "code",
   "execution_count": 114,
   "id": "ec4daaf0",
   "metadata": {},
   "outputs": [
    {
     "name": "stdout",
     "output_type": "stream",
     "text": [
      "abcdefghijklmnopqrstuvwxyzABCDEFGHIJKLMNOPQRSTUVWXYZ!@#$%^&*_+=-1234567890\n"
     ]
    }
   ],
   "source": [
    "print(use)"
   ]
  },
  {
   "cell_type": "code",
   "execution_count": 117,
   "id": "7818efdd",
   "metadata": {},
   "outputs": [
    {
     "data": {
      "text/plain": [
       "'C:\\\\Users\\\\DEVAI TECHNOLOGIES\\\\Desktop\\\\python_modules'"
      ]
     },
     "execution_count": 117,
     "metadata": {},
     "output_type": "execute_result"
    }
   ],
   "source": [
    "os.getcwd()"
   ]
  },
  {
   "cell_type": "code",
   "execution_count": 120,
   "id": "bbea5420",
   "metadata": {},
   "outputs": [
    {
     "data": {
      "text/plain": [
       "['.git',\n",
       " '.ipynb_checkpoints',\n",
       " 'demo.py',\n",
       " 'module.py',\n",
       " 'readme.md',\n",
       " 'Untitled.ipynb']"
      ]
     },
     "execution_count": 120,
     "metadata": {},
     "output_type": "execute_result"
    }
   ],
   "source": [
    "os.listdir(os.getcwd())"
   ]
  },
  {
   "cell_type": "code",
   "execution_count": 1,
   "id": "a03f2ab0",
   "metadata": {},
   "outputs": [
    {
     "ename": "ModuleNotFoundError",
     "evalue": "No module named 'python_functions'",
     "output_type": "error",
     "traceback": [
      "\u001b[1;31m---------------------------------------------------------------------------\u001b[0m",
      "\u001b[1;31mModuleNotFoundError\u001b[0m                       Traceback (most recent call last)",
      "Input \u001b[1;32mIn [1]\u001b[0m, in \u001b[0;36m<cell line: 1>\u001b[1;34m()\u001b[0m\n\u001b[1;32m----> 1\u001b[0m \u001b[38;5;28;01mimport\u001b[39;00m \u001b[38;5;21;01mpython_functions\u001b[39;00m\n\u001b[0;32m      3\u001b[0m addition(\u001b[38;5;241m2\u001b[39m, \u001b[38;5;241m3\u001b[39m)\n",
      "\u001b[1;31mModuleNotFoundError\u001b[0m: No module named 'python_functions'"
     ]
    }
   ],
   "source": []
  },
  {
   "cell_type": "code",
   "execution_count": 2,
   "id": "5d27bd1a",
   "metadata": {},
   "outputs": [
    {
     "data": {
      "text/plain": [
       "0.524516102928891"
      ]
     },
     "execution_count": 2,
     "metadata": {},
     "output_type": "execute_result"
    }
   ],
   "source": [
    "import random\n",
    "\n",
    "random.random()"
   ]
  },
  {
   "cell_type": "code",
   "execution_count": 5,
   "id": "0071f99b",
   "metadata": {},
   "outputs": [
    {
     "data": {
      "text/plain": [
       "9.552168662243215"
      ]
     },
     "execution_count": 5,
     "metadata": {},
     "output_type": "execute_result"
    }
   ],
   "source": [
    "random.random()*10"
   ]
  },
  {
   "cell_type": "code",
   "execution_count": 6,
   "id": "8c24a5d4",
   "metadata": {},
   "outputs": [],
   "source": [
    "r = random.random()"
   ]
  },
  {
   "cell_type": "code",
   "execution_count": 7,
   "id": "f4ba9c19",
   "metadata": {},
   "outputs": [
    {
     "data": {
      "text/plain": [
       "0.4578515444608844"
      ]
     },
     "execution_count": 7,
     "metadata": {},
     "output_type": "execute_result"
    }
   ],
   "source": [
    "r"
   ]
  },
  {
   "cell_type": "code",
   "execution_count": 8,
   "id": "492c2f8f",
   "metadata": {},
   "outputs": [],
   "source": [
    "r = random.randrange(10)"
   ]
  },
  {
   "cell_type": "code",
   "execution_count": 9,
   "id": "c0afb327",
   "metadata": {},
   "outputs": [
    {
     "data": {
      "text/plain": [
       "9"
      ]
     },
     "execution_count": 9,
     "metadata": {},
     "output_type": "execute_result"
    }
   ],
   "source": [
    "r"
   ]
  },
  {
   "cell_type": "code",
   "execution_count": 10,
   "id": "cb991d92",
   "metadata": {},
   "outputs": [
    {
     "data": {
      "text/plain": [
       "9"
      ]
     },
     "execution_count": 10,
     "metadata": {},
     "output_type": "execute_result"
    }
   ],
   "source": [
    "r"
   ]
  },
  {
   "cell_type": "code",
   "execution_count": 11,
   "id": "ef7243cb",
   "metadata": {},
   "outputs": [
    {
     "data": {
      "text/plain": [
       "9"
      ]
     },
     "execution_count": 11,
     "metadata": {},
     "output_type": "execute_result"
    }
   ],
   "source": [
    "r"
   ]
  },
  {
   "cell_type": "code",
   "execution_count": 12,
   "id": "fa08b110",
   "metadata": {},
   "outputs": [
    {
     "data": {
      "text/plain": [
       "9"
      ]
     },
     "execution_count": 12,
     "metadata": {},
     "output_type": "execute_result"
    }
   ],
   "source": [
    "r"
   ]
  },
  {
   "cell_type": "code",
   "execution_count": 13,
   "id": "def62672",
   "metadata": {},
   "outputs": [
    {
     "data": {
      "text/plain": [
       "9"
      ]
     },
     "execution_count": 13,
     "metadata": {},
     "output_type": "execute_result"
    }
   ],
   "source": [
    "r"
   ]
  },
  {
   "cell_type": "code",
   "execution_count": 14,
   "id": "98dfba8b",
   "metadata": {},
   "outputs": [
    {
     "data": {
      "text/plain": [
       "(9, 9)"
      ]
     },
     "execution_count": 14,
     "metadata": {},
     "output_type": "execute_result"
    }
   ],
   "source": [
    "r, r"
   ]
  },
  {
   "cell_type": "code",
   "execution_count": 15,
   "id": "bca323c7",
   "metadata": {},
   "outputs": [
    {
     "data": {
      "text/plain": [
       "18"
      ]
     },
     "execution_count": 15,
     "metadata": {},
     "output_type": "execute_result"
    }
   ],
   "source": [
    "r + r"
   ]
  },
  {
   "cell_type": "code",
   "execution_count": 16,
   "id": "b6f40cb9",
   "metadata": {},
   "outputs": [],
   "source": [
    "r = random.randrange(5)"
   ]
  },
  {
   "cell_type": "code",
   "execution_count": 17,
   "id": "a315d539",
   "metadata": {},
   "outputs": [
    {
     "data": {
      "text/plain": [
       "6"
      ]
     },
     "execution_count": 17,
     "metadata": {},
     "output_type": "execute_result"
    }
   ],
   "source": [
    "r + 3"
   ]
  },
  {
   "cell_type": "code",
   "execution_count": 19,
   "id": "37058b46",
   "metadata": {},
   "outputs": [],
   "source": [
    "r = random.randint(1, 10)"
   ]
  },
  {
   "cell_type": "code",
   "execution_count": 20,
   "id": "2c34afc1",
   "metadata": {},
   "outputs": [
    {
     "data": {
      "text/plain": [
       "8"
      ]
     },
     "execution_count": 20,
     "metadata": {},
     "output_type": "execute_result"
    }
   ],
   "source": [
    "r"
   ]
  },
  {
   "cell_type": "code",
   "execution_count": 21,
   "id": "9da7bbf2",
   "metadata": {},
   "outputs": [
    {
     "name": "stdout",
     "output_type": "stream",
     "text": [
      "['BPF', 'LOG4', 'NV_MAGICCONST', 'RECIP_BPF', 'Random', 'SG_MAGICCONST', 'SystemRandom', 'TWOPI', '_Sequence', '_Set', '__all__', '__builtins__', '__cached__', '__doc__', '__file__', '__loader__', '__name__', '__package__', '__spec__', '_accumulate', '_acos', '_bisect', '_ceil', '_cos', '_e', '_exp', '_floor', '_inst', '_log', '_os', '_pi', '_random', '_repeat', '_sha512', '_sin', '_sqrt', '_test', '_test_generator', '_urandom', '_warn', 'betavariate', 'choice', 'choices', 'expovariate', 'gammavariate', 'gauss', 'getrandbits', 'getstate', 'lognormvariate', 'normalvariate', 'paretovariate', 'randbytes', 'randint', 'random', 'randrange', 'sample', 'seed', 'setstate', 'shuffle', 'triangular', 'uniform', 'vonmisesvariate', 'weibullvariate']\n"
     ]
    }
   ],
   "source": [
    "print(dir(random))"
   ]
  },
  {
   "cell_type": "code",
   "execution_count": 22,
   "id": "20b81ce8",
   "metadata": {},
   "outputs": [
    {
     "data": {
      "text/plain": [
       "'h'"
      ]
     },
     "execution_count": 22,
     "metadata": {},
     "output_type": "execute_result"
    }
   ],
   "source": [
    "random.choice('hello')"
   ]
  },
  {
   "cell_type": "code",
   "execution_count": 23,
   "id": "0e982643",
   "metadata": {},
   "outputs": [
    {
     "data": {
      "text/plain": [
       "'l'"
      ]
     },
     "execution_count": 23,
     "metadata": {},
     "output_type": "execute_result"
    }
   ],
   "source": [
    "random.choice('hello')"
   ]
  },
  {
   "cell_type": "code",
   "execution_count": 25,
   "id": "0dfa2b13",
   "metadata": {},
   "outputs": [
    {
     "data": {
      "text/plain": [
       "['l', 'h']"
      ]
     },
     "execution_count": 25,
     "metadata": {},
     "output_type": "execute_result"
    }
   ],
   "source": [
    "random.choices('hello', k=2)"
   ]
  },
  {
   "cell_type": "code",
   "execution_count": 27,
   "id": "34c3f82f",
   "metadata": {},
   "outputs": [
    {
     "data": {
      "text/plain": [
       "'python'"
      ]
     },
     "execution_count": 27,
     "metadata": {},
     "output_type": "execute_result"
    }
   ],
   "source": [
    "random.choice(['hello', 'python'])"
   ]
  },
  {
   "cell_type": "code",
   "execution_count": 33,
   "id": "e0adac27",
   "metadata": {},
   "outputs": [
    {
     "data": {
      "text/plain": [
       "[8, 2]"
      ]
     },
     "execution_count": 33,
     "metadata": {},
     "output_type": "execute_result"
    }
   ],
   "source": [
    "random.choices(range(10), k=2)"
   ]
  },
  {
   "cell_type": "code",
   "execution_count": 36,
   "id": "a05f50b0",
   "metadata": {},
   "outputs": [],
   "source": [
    "r = random.choices(range(10), k=3)"
   ]
  },
  {
   "cell_type": "code",
   "execution_count": 37,
   "id": "6b698e3c",
   "metadata": {},
   "outputs": [
    {
     "data": {
      "text/plain": [
       "[6, 5, 2]"
      ]
     },
     "execution_count": 37,
     "metadata": {},
     "output_type": "execute_result"
    }
   ],
   "source": [
    "r"
   ]
  },
  {
   "cell_type": "code",
   "execution_count": 38,
   "id": "d0a04f82",
   "metadata": {},
   "outputs": [
    {
     "name": "stdout",
     "output_type": "stream",
     "text": [
      "[6, 5, 2]\n"
     ]
    }
   ],
   "source": [
    "print(r)"
   ]
  },
  {
   "cell_type": "code",
   "execution_count": 39,
   "id": "e03a0c57",
   "metadata": {},
   "outputs": [
    {
     "data": {
      "text/plain": [
       "0.4205515241570257"
      ]
     },
     "execution_count": 39,
     "metadata": {},
     "output_type": "execute_result"
    }
   ],
   "source": [
    "def ran():\n",
    "    r = random.random()\n",
    "    return r\n",
    "\n",
    "ran()"
   ]
  },
  {
   "cell_type": "code",
   "execution_count": 40,
   "id": "b4910f4d",
   "metadata": {},
   "outputs": [
    {
     "data": {
      "text/plain": [
       "0.12748737912826114"
      ]
     },
     "execution_count": 40,
     "metadata": {},
     "output_type": "execute_result"
    }
   ],
   "source": [
    "ran()"
   ]
  },
  {
   "cell_type": "code",
   "execution_count": 42,
   "id": "66472dd0",
   "metadata": {},
   "outputs": [
    {
     "data": {
      "text/plain": [
       "[4, 9, 0, 2]"
      ]
     },
     "execution_count": 42,
     "metadata": {},
     "output_type": "execute_result"
    }
   ],
   "source": [
    "def ran():\n",
    "    r = random.choices(range(10), k = 4)\n",
    "    return r\n",
    "    \n",
    "ran()"
   ]
  },
  {
   "cell_type": "code",
   "execution_count": 43,
   "id": "0e6b846c",
   "metadata": {},
   "outputs": [
    {
     "data": {
      "text/plain": [
       "[9, 1, 2, 3]"
      ]
     },
     "execution_count": 43,
     "metadata": {},
     "output_type": "execute_result"
    }
   ],
   "source": [
    "ran()"
   ]
  },
  {
   "cell_type": "code",
   "execution_count": 44,
   "id": "5a0c0274",
   "metadata": {},
   "outputs": [
    {
     "data": {
      "text/plain": [
       "[9, 6, 9, 7]"
      ]
     },
     "execution_count": 44,
     "metadata": {},
     "output_type": "execute_result"
    }
   ],
   "source": [
    "ran()"
   ]
  },
  {
   "cell_type": "code",
   "execution_count": 45,
   "id": "46dc268b",
   "metadata": {},
   "outputs": [
    {
     "data": {
      "text/plain": [
       "[4, 9, 3, 4]"
      ]
     },
     "execution_count": 45,
     "metadata": {},
     "output_type": "execute_result"
    }
   ],
   "source": [
    "ran()"
   ]
  },
  {
   "cell_type": "code",
   "execution_count": 46,
   "id": "15c7885b",
   "metadata": {},
   "outputs": [
    {
     "data": {
      "text/plain": [
       "[5, 4, 7, 6]"
      ]
     },
     "execution_count": 46,
     "metadata": {},
     "output_type": "execute_result"
    }
   ],
   "source": [
    "ran()"
   ]
  },
  {
   "cell_type": "code",
   "execution_count": 55,
   "id": "df4a5e00",
   "metadata": {},
   "outputs": [
    {
     "name": "stdout",
     "output_type": "stream",
     "text": [
      "<class 'str'>hello\n"
     ]
    },
    {
     "data": {
      "text/plain": [
       "['h', 'l']"
      ]
     },
     "execution_count": 55,
     "metadata": {},
     "output_type": "execute_result"
    }
   ],
   "source": [
    "def ran(x):\n",
    "    r = random.choices(x, k=2)\n",
    "    return r\n",
    "\n",
    "ran(input(str))"
   ]
  },
  {
   "cell_type": "code",
   "execution_count": 57,
   "id": "e950907c",
   "metadata": {},
   "outputs": [
    {
     "name": "stdout",
     "output_type": "stream",
     "text": [
      "<class 'str'>'hello python\n"
     ]
    },
    {
     "data": {
      "text/plain": [
       "[' ', 'p']"
      ]
     },
     "execution_count": 57,
     "metadata": {},
     "output_type": "execute_result"
    }
   ],
   "source": [
    "ran(input(str))"
   ]
  },
  {
   "cell_type": "code",
   "execution_count": 58,
   "id": "93a9b5a7",
   "metadata": {},
   "outputs": [
    {
     "name": "stdout",
     "output_type": "stream",
     "text": [
      "<class 'str'>hello python\n"
     ]
    },
    {
     "data": {
      "text/plain": [
       "['o', 'l']"
      ]
     },
     "execution_count": 58,
     "metadata": {},
     "output_type": "execute_result"
    }
   ],
   "source": [
    "ran(input(str))"
   ]
  },
  {
   "cell_type": "code",
   "execution_count": 62,
   "id": "d0777517",
   "metadata": {},
   "outputs": [],
   "source": [
    "s = random.shuffle([1,2,3,4,5])"
   ]
  },
  {
   "cell_type": "code",
   "execution_count": 63,
   "id": "16f72d62",
   "metadata": {},
   "outputs": [],
   "source": [
    "s"
   ]
  },
  {
   "cell_type": "code",
   "execution_count": 64,
   "id": "083b6ce2",
   "metadata": {},
   "outputs": [],
   "source": [
    "l = [1,2,3,4,5]\n",
    "random.shuffle(l)"
   ]
  },
  {
   "cell_type": "code",
   "execution_count": 65,
   "id": "16c9f2a2",
   "metadata": {},
   "outputs": [
    {
     "data": {
      "text/plain": [
       "[2, 3, 1, 4, 5]"
      ]
     },
     "execution_count": 65,
     "metadata": {},
     "output_type": "execute_result"
    }
   ],
   "source": [
    "l"
   ]
  },
  {
   "cell_type": "code",
   "execution_count": 66,
   "id": "5b48aa83",
   "metadata": {},
   "outputs": [
    {
     "data": {
      "text/plain": [
       "[2, 3, 1, 4, 5]"
      ]
     },
     "execution_count": 66,
     "metadata": {},
     "output_type": "execute_result"
    }
   ],
   "source": [
    "l"
   ]
  },
  {
   "cell_type": "code",
   "execution_count": 70,
   "id": "d5e1b86b",
   "metadata": {},
   "outputs": [
    {
     "data": {
      "text/plain": [
       "[6, 5, 1, 3, 2, 4]"
      ]
     },
     "execution_count": 70,
     "metadata": {},
     "output_type": "execute_result"
    }
   ],
   "source": [
    "def shu():\n",
    "    l = [1,2,3,4,5,6]\n",
    "    random.shuffle(l)\n",
    "    return l\n",
    "\n",
    "shu()"
   ]
  },
  {
   "cell_type": "code",
   "execution_count": 71,
   "id": "9f723e4b",
   "metadata": {},
   "outputs": [
    {
     "data": {
      "text/plain": [
       "[6, 5, 2, 4, 1, 3]"
      ]
     },
     "execution_count": 71,
     "metadata": {},
     "output_type": "execute_result"
    }
   ],
   "source": [
    "shu()"
   ]
  },
  {
   "cell_type": "code",
   "execution_count": 72,
   "id": "098850bd",
   "metadata": {},
   "outputs": [
    {
     "data": {
      "text/plain": [
       "[5, 2, 1, 6, 3, 4]"
      ]
     },
     "execution_count": 72,
     "metadata": {},
     "output_type": "execute_result"
    }
   ],
   "source": [
    "shu()"
   ]
  },
  {
   "cell_type": "code",
   "execution_count": 87,
   "id": "b88455c9",
   "metadata": {},
   "outputs": [
    {
     "data": {
      "text/plain": [
       "['l', 'e']"
      ]
     },
     "execution_count": 87,
     "metadata": {},
     "output_type": "execute_result"
    }
   ],
   "source": [
    "def choice():\n",
    "    \n",
    "    return random.choices('hello', k = 2)\n",
    "    \n",
    "choice()"
   ]
  },
  {
   "cell_type": "code",
   "execution_count": 82,
   "id": "2ee5735d",
   "metadata": {},
   "outputs": [
    {
     "data": {
      "text/plain": [
       "['e', 'l']"
      ]
     },
     "execution_count": 82,
     "metadata": {},
     "output_type": "execute_result"
    }
   ],
   "source": [
    "choice()"
   ]
  },
  {
   "cell_type": "code",
   "execution_count": 84,
   "id": "a35f6b0b",
   "metadata": {},
   "outputs": [
    {
     "data": {
      "text/plain": [
       "[7, 9]"
      ]
     },
     "execution_count": 84,
     "metadata": {},
     "output_type": "execute_result"
    }
   ],
   "source": [
    "def num():\n",
    "    \n",
    "    return random.choices(range(10), k = 2)\n",
    "    \n",
    "num()"
   ]
  },
  {
   "cell_type": "code",
   "execution_count": 85,
   "id": "fff5e6fb",
   "metadata": {},
   "outputs": [
    {
     "data": {
      "text/plain": [
       "[6, 4]"
      ]
     },
     "execution_count": 85,
     "metadata": {},
     "output_type": "execute_result"
    }
   ],
   "source": [
    "num()"
   ]
  },
  {
   "cell_type": "code",
   "execution_count": 88,
   "id": "fa3aa618",
   "metadata": {},
   "outputs": [
    {
     "data": {
      "text/plain": [
       "['h', 'e']"
      ]
     },
     "execution_count": 88,
     "metadata": {},
     "output_type": "execute_result"
    }
   ],
   "source": [
    "choice()"
   ]
  },
  {
   "cell_type": "code",
   "execution_count": 89,
   "id": "ef09190d",
   "metadata": {},
   "outputs": [
    {
     "data": {
      "text/plain": [
       "[9, 2]"
      ]
     },
     "execution_count": 89,
     "metadata": {},
     "output_type": "execute_result"
    }
   ],
   "source": [
    "num()"
   ]
  },
  {
   "cell_type": "code",
   "execution_count": 6,
   "id": "199be639",
   "metadata": {},
   "outputs": [
    {
     "name": "stdout",
     "output_type": "stream",
     "text": [
      "0Jp8kxu!\n"
     ]
    }
   ],
   "source": [
    "import random\n",
    "def password():\n",
    "    use = ''\n",
    "    for i in range(97, 123):\n",
    "        use += chr(i)\n",
    "    else:\n",
    "        use += use.upper()\n",
    "        use += '1234567890'\n",
    "        use += '!@#$%^&*_+=-'\n",
    "        \n",
    "        PASSWORD = ''.join(random.choices(use, k=8))\n",
    "        \n",
    "        print(PASSWORD)\n",
    "    \n",
    "password()"
   ]
  },
  {
   "cell_type": "code",
   "execution_count": 94,
   "id": "77d1bd40",
   "metadata": {},
   "outputs": [
    {
     "data": {
      "text/plain": [
       "'gLOsQqei'"
      ]
     },
     "execution_count": 94,
     "metadata": {},
     "output_type": "execute_result"
    }
   ],
   "source": [
    "password()"
   ]
  },
  {
   "cell_type": "code",
   "execution_count": 95,
   "id": "96d02a1b",
   "metadata": {},
   "outputs": [
    {
     "data": {
      "text/plain": [
       "'jw+XYU4e'"
      ]
     },
     "execution_count": 95,
     "metadata": {},
     "output_type": "execute_result"
    }
   ],
   "source": [
    "password()"
   ]
  },
  {
   "cell_type": "code",
   "execution_count": 101,
   "id": "d5c52c74",
   "metadata": {},
   "outputs": [
    {
     "data": {
      "text/plain": [
       "'C:\\\\Users\\\\DEVAI TECHNOLOGIES\\\\Desktop\\\\python practice'"
      ]
     },
     "execution_count": 101,
     "metadata": {},
     "output_type": "execute_result"
    }
   ],
   "source": [
    "import os\n",
    "\n",
    "os.getcwd()"
   ]
  },
  {
   "cell_type": "code",
   "execution_count": 102,
   "id": "c19b4f98",
   "metadata": {},
   "outputs": [
    {
     "data": {
      "text/plain": [
       "'C:\\\\Users\\\\DEVAI TECHNOLOGIES\\\\Desktop\\\\python practice'"
      ]
     },
     "execution_count": 102,
     "metadata": {},
     "output_type": "execute_result"
    }
   ],
   "source": [
    "os.getcwd()"
   ]
  },
  {
   "cell_type": "code",
   "execution_count": 103,
   "id": "db6270bb",
   "metadata": {},
   "outputs": [
    {
     "data": {
      "text/plain": [
       "['.git',\n",
       " '.ipynb_checkpoints',\n",
       " 'Conditional Statements.ipynb',\n",
       " 'license.ipynb',\n",
       " 'operators calculate.ipynb',\n",
       " 'practice_mod1_python.ipynb',\n",
       " 'Python - Fundamentals.ipynb',\n",
       " 'python loops and control statement.ipynb',\n",
       " 'python_anonymous_functions.ipynb',\n",
       " 'python_even_odd_number.ipynb',\n",
       " 'python_find_length_string.ipynb',\n",
       " 'python_functions.ipynb',\n",
       " 'python_modules_random.ipynb',\n",
       " 'python_set.ipynb',\n",
       " 'python_slicing.ipynb',\n",
       " 'python_string_operators_collections.ipynb',\n",
       " 'Readme.md']"
      ]
     },
     "execution_count": 103,
     "metadata": {},
     "output_type": "execute_result"
    }
   ],
   "source": [
    "os.listdir(os.getcwd())"
   ]
  },
  {
   "cell_type": "code",
   "execution_count": 110,
   "id": "9e28ff81",
   "metadata": {},
   "outputs": [
    {
     "data": {
      "text/plain": [
       "'WOv4vVId'"
      ]
     },
     "execution_count": 110,
     "metadata": {},
     "output_type": "execute_result"
    }
   ],
   "source": [
    "password()"
   ]
  },
  {
   "cell_type": "code",
   "execution_count": 111,
   "id": "aa1283a0",
   "metadata": {},
   "outputs": [
    {
     "data": {
      "text/plain": [
       "[2, 0]"
      ]
     },
     "execution_count": 111,
     "metadata": {},
     "output_type": "execute_result"
    }
   ],
   "source": [
    "num()"
   ]
  },
  {
   "cell_type": "code",
   "execution_count": 112,
   "id": "317d7c2a",
   "metadata": {},
   "outputs": [
    {
     "data": {
      "text/plain": [
       "['h', 'l']"
      ]
     },
     "execution_count": 112,
     "metadata": {},
     "output_type": "execute_result"
    }
   ],
   "source": [
    "choice()"
   ]
  },
  {
   "cell_type": "code",
   "execution_count": 5,
   "id": "5d598337",
   "metadata": {},
   "outputs": [
    {
     "name": "stdout",
     "output_type": "stream",
     "text": [
      "enter your name: v\n",
      "enter your id:v\n",
      "('v', 'v', \"',K|VO</T/\")\n"
     ]
    }
   ],
   "source": [
    "import random\n",
    "\n",
    "#input characters\n",
    "\n",
    "#import string\n",
    "import string\n",
    "\n",
    "#including data\n",
    "upper=string.ascii_uppercase       #uppercase characters\n",
    "num =string.digits                 #numbers\n",
    "symbols =string.punctuation        #symbols\n",
    "\n",
    "#adding data\n",
    "add =upper+num+symbols\n",
    "\n",
    "#collect data\n",
    "user =list()\n",
    "name= input('enter your name: ')\n",
    "user_id = input('enter your id:')\n",
    "password =''.join(random.choices(add,k=10))\n",
    "user.extend([name,user_id,password])\n",
    "print(tuple(user))"
   ]
  },
  {
   "cell_type": "code",
   "execution_count": 1,
   "id": "3831fbf9",
   "metadata": {},
   "outputs": [
    {
     "name": "stdout",
     "output_type": "stream",
     "text": [
      "Method One\n",
      "BkMqkC8h\n",
      "\n",
      "Method Two\n",
      "VIqK254b\n",
      "\n",
      "Method Three\n",
      "zP0FOFRm\n",
      "\n",
      "Method Four\n",
      "pKXVxzsJ\n"
     ]
    }
   ],
   "source": [
    "import string\n",
    "import random\n",
    "\n",
    "\n",
    "class RandomPasswordGenerator:\n",
    "    '''Generate Random Password'''\n",
    "\n",
    "    def __init__(self, length=8):\n",
    "        self.length = length\n",
    "        self.strings = string.printable[:62]\n",
    "        self.len_strings = len(self.strings) - 1\n",
    "\n",
    "    def method_one(self):\n",
    "        '''Using random.randint for getting random indexes of self.strings and slicing using that indexes'''\n",
    "\n",
    "        password = ''\n",
    "\n",
    "        for _ in range(self.length):\n",
    "            random_index = random.randint(0, self.len_strings)\n",
    "            password += self.strings[random_index]\n",
    "\n",
    "        return password\n",
    "\n",
    "    def method_two(self):\n",
    "        '''Using random.choice for getting the random letter from self.strings and joining them'''\n",
    "\n",
    "        password = ''\n",
    "\n",
    "        for _ in range(self.length):\n",
    "            random_word = random.choice(self.strings)\n",
    "            password += random_word\n",
    "\n",
    "        return password\n",
    "\n",
    "    def method_three(self):\n",
    "        '''Using List Comprehension at method_one'''\n",
    "\n",
    "        password = [self.strings[random.randint(0, self.len_strings)] for _ in range(self.length)]\n",
    "\n",
    "        return ''.join(password)\n",
    "\n",
    "    def method_four(self):\n",
    "        '''Using List Comprehension at method_two'''\n",
    "\n",
    "        password = [random.choice(self.strings) for _ in range(self.length)]\n",
    "\n",
    "        return ''.join(password)\n",
    "\n",
    "\n",
    "if __name__ == '__main__':\n",
    "    random_password = RandomPasswordGenerator()\n",
    "\n",
    "    print('Method One')\n",
    "    print(random_password.method_one())\n",
    "\n",
    "    print('\\nMethod Two')\n",
    "    print(random_password.method_two())\n",
    "\n",
    "    print('\\nMethod Three')\n",
    "    print(random_password.method_three())\n",
    "\n",
    "    print('\\nMethod Four')\n",
    "    print(random_password.method_four())"
   ]
  },
  {
   "cell_type": "code",
   "execution_count": null,
   "id": "efc59a8a",
   "metadata": {},
   "outputs": [],
   "source": []
  }
 ],
 "metadata": {
  "kernelspec": {
   "display_name": "Python 3 (ipykernel)",
   "language": "python",
   "name": "python3"
  },
  "language_info": {
   "codemirror_mode": {
    "name": "ipython",
    "version": 3
   },
   "file_extension": ".py",
   "mimetype": "text/x-python",
   "name": "python",
   "nbconvert_exporter": "python",
   "pygments_lexer": "ipython3",
   "version": "3.9.12"
  }
 },
 "nbformat": 4,
 "nbformat_minor": 5
}
