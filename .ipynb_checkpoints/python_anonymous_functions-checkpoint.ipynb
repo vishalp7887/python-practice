{
 "cells": [
  {
   "cell_type": "markdown",
   "id": "235a2613",
   "metadata": {},
   "source": [
    "lambda"
   ]
  },
  {
   "cell_type": "code",
   "execution_count": 1,
   "id": "c801664c",
   "metadata": {},
   "outputs": [],
   "source": [
    "hello = lambda : 'vishal'"
   ]
  },
  {
   "cell_type": "code",
   "execution_count": 2,
   "id": "40295cba",
   "metadata": {},
   "outputs": [
    {
     "data": {
      "text/plain": [
       "'vishal'"
      ]
     },
     "execution_count": 2,
     "metadata": {},
     "output_type": "execute_result"
    }
   ],
   "source": [
    "hello()"
   ]
  },
  {
   "cell_type": "code",
   "execution_count": 3,
   "id": "c794d7a1",
   "metadata": {},
   "outputs": [
    {
     "data": {
      "text/plain": [
       "'vishal'"
      ]
     },
     "execution_count": 3,
     "metadata": {},
     "output_type": "execute_result"
    }
   ],
   "source": [
    "hello()"
   ]
  },
  {
   "cell_type": "code",
   "execution_count": 4,
   "id": "7c33fe3a",
   "metadata": {},
   "outputs": [
    {
     "data": {
      "text/plain": [
       "function"
      ]
     },
     "execution_count": 4,
     "metadata": {},
     "output_type": "execute_result"
    }
   ],
   "source": [
    "type(hello)"
   ]
  },
  {
   "cell_type": "code",
   "execution_count": 5,
   "id": "9e31ad26",
   "metadata": {},
   "outputs": [],
   "source": [
    "h = hello"
   ]
  },
  {
   "cell_type": "code",
   "execution_count": 6,
   "id": "f2f91b12",
   "metadata": {},
   "outputs": [
    {
     "data": {
      "text/plain": [
       "<function __main__.<lambda>()>"
      ]
     },
     "execution_count": 6,
     "metadata": {},
     "output_type": "execute_result"
    }
   ],
   "source": [
    "h"
   ]
  },
  {
   "cell_type": "code",
   "execution_count": 7,
   "id": "c9cf2f35",
   "metadata": {},
   "outputs": [
    {
     "data": {
      "text/plain": [
       "function"
      ]
     },
     "execution_count": 7,
     "metadata": {},
     "output_type": "execute_result"
    }
   ],
   "source": [
    "type(h)"
   ]
  },
  {
   "cell_type": "code",
   "execution_count": 8,
   "id": "29318a10",
   "metadata": {},
   "outputs": [
    {
     "data": {
      "text/plain": [
       "'<lambda>'"
      ]
     },
     "execution_count": 8,
     "metadata": {},
     "output_type": "execute_result"
    }
   ],
   "source": [
    "hello.__name__"
   ]
  },
  {
   "cell_type": "code",
   "execution_count": 9,
   "id": "4d48a126",
   "metadata": {},
   "outputs": [],
   "source": [
    "h = hello()"
   ]
  },
  {
   "cell_type": "code",
   "execution_count": 10,
   "id": "79e38c6f",
   "metadata": {},
   "outputs": [
    {
     "data": {
      "text/plain": [
       "'vishal'"
      ]
     },
     "execution_count": 10,
     "metadata": {},
     "output_type": "execute_result"
    }
   ],
   "source": [
    "h"
   ]
  },
  {
   "cell_type": "code",
   "execution_count": 11,
   "id": "61538b2d",
   "metadata": {},
   "outputs": [
    {
     "data": {
      "text/plain": [
       "str"
      ]
     },
     "execution_count": 11,
     "metadata": {},
     "output_type": "execute_result"
    }
   ],
   "source": [
    "type(h)"
   ]
  },
  {
   "cell_type": "code",
   "execution_count": 12,
   "id": "27d2681c",
   "metadata": {},
   "outputs": [],
   "source": [
    "hello = lambda : 'vishal'"
   ]
  },
  {
   "cell_type": "code",
   "execution_count": 13,
   "id": "d08f6c8b",
   "metadata": {},
   "outputs": [
    {
     "name": "stdout",
     "output_type": "stream",
     "text": [
      "v\n",
      "i\n",
      "s\n",
      "h\n",
      "a\n",
      "l\n"
     ]
    }
   ],
   "source": [
    "for i in hello():\n",
    "    print(i)"
   ]
  },
  {
   "cell_type": "code",
   "execution_count": 17,
   "id": "cd6cf6c8",
   "metadata": {},
   "outputs": [],
   "source": [
    "hello = lambda a : a + 10"
   ]
  },
  {
   "cell_type": "code",
   "execution_count": 18,
   "id": "4f201c73",
   "metadata": {},
   "outputs": [
    {
     "data": {
      "text/plain": [
       "15"
      ]
     },
     "execution_count": 18,
     "metadata": {},
     "output_type": "execute_result"
    }
   ],
   "source": [
    "hello(5)"
   ]
  },
  {
   "cell_type": "code",
   "execution_count": 19,
   "id": "91a85f92",
   "metadata": {},
   "outputs": [
    {
     "name": "stdout",
     "output_type": "stream",
     "text": [
      "15\n"
     ]
    }
   ],
   "source": [
    "hello = lambda a, b : a +b\n",
    "\n",
    "print(hello(5,10))"
   ]
  },
  {
   "cell_type": "code",
   "execution_count": 39,
   "id": "d915274a",
   "metadata": {},
   "outputs": [],
   "source": [
    "e_o = lambda x : x % 2 == 0"
   ]
  },
  {
   "cell_type": "code",
   "execution_count": 40,
   "id": "8c8073df",
   "metadata": {},
   "outputs": [
    {
     "data": {
      "text/plain": [
       "True"
      ]
     },
     "execution_count": 40,
     "metadata": {},
     "output_type": "execute_result"
    }
   ],
   "source": [
    "e_o(4)"
   ]
  },
  {
   "cell_type": "code",
   "execution_count": 41,
   "id": "613b7144",
   "metadata": {},
   "outputs": [
    {
     "data": {
      "text/plain": [
       "False"
      ]
     },
     "execution_count": 41,
     "metadata": {},
     "output_type": "execute_result"
    }
   ],
   "source": [
    "e_o(3)"
   ]
  },
  {
   "cell_type": "markdown",
   "id": "eefc12ba",
   "metadata": {},
   "source": [
    "filter()"
   ]
  },
  {
   "cell_type": "code",
   "execution_count": 16,
   "id": "4541b7f8",
   "metadata": {},
   "outputs": [],
   "source": [
    "# filter(function, iterable_object)"
   ]
  },
  {
   "cell_type": "code",
   "execution_count": 20,
   "id": "860153f4",
   "metadata": {},
   "outputs": [],
   "source": [
    "f = filter(None, 'hello')"
   ]
  },
  {
   "cell_type": "code",
   "execution_count": 21,
   "id": "3d7d615c",
   "metadata": {},
   "outputs": [
    {
     "data": {
      "text/plain": [
       "<filter at 0x1fd594a0af0>"
      ]
     },
     "execution_count": 21,
     "metadata": {},
     "output_type": "execute_result"
    }
   ],
   "source": [
    "f"
   ]
  },
  {
   "cell_type": "code",
   "execution_count": 22,
   "id": "ff9f42ec",
   "metadata": {},
   "outputs": [
    {
     "data": {
      "text/plain": [
       "filter"
      ]
     },
     "execution_count": 22,
     "metadata": {},
     "output_type": "execute_result"
    }
   ],
   "source": [
    "type(f)"
   ]
  },
  {
   "cell_type": "code",
   "execution_count": 24,
   "id": "35989543",
   "metadata": {},
   "outputs": [
    {
     "name": "stdout",
     "output_type": "stream",
     "text": [
      "h\n",
      "e\n",
      "l\n",
      "l\n",
      "o\n"
     ]
    }
   ],
   "source": [
    "for i in f:\n",
    "    print(i)"
   ]
  },
  {
   "cell_type": "code",
   "execution_count": 25,
   "id": "c44967f1",
   "metadata": {},
   "outputs": [],
   "source": [
    "for i in f:\n",
    "    print(i)"
   ]
  },
  {
   "cell_type": "code",
   "execution_count": 26,
   "id": "f20246cd",
   "metadata": {},
   "outputs": [],
   "source": [
    "def even(x):\n",
    "    return x % 2 == 0"
   ]
  },
  {
   "cell_type": "code",
   "execution_count": 27,
   "id": "1cc1e17c",
   "metadata": {},
   "outputs": [],
   "source": [
    "l = [1,2,3,4,5,7,8,9,7,5,43]"
   ]
  },
  {
   "cell_type": "code",
   "execution_count": 29,
   "id": "fa00f531",
   "metadata": {},
   "outputs": [
    {
     "name": "stdout",
     "output_type": "stream",
     "text": [
      "False\n",
      "True\n",
      "False\n",
      "True\n",
      "False\n",
      "False\n",
      "True\n",
      "False\n",
      "False\n",
      "False\n",
      "False\n"
     ]
    }
   ],
   "source": [
    "for i in l:\n",
    "    print(even(i))"
   ]
  },
  {
   "cell_type": "code",
   "execution_count": 30,
   "id": "f8c38a59",
   "metadata": {},
   "outputs": [
    {
     "name": "stdout",
     "output_type": "stream",
     "text": [
      "True\n",
      "False\n",
      "True\n",
      "False\n",
      "True\n",
      "True\n",
      "False\n",
      "True\n",
      "True\n",
      "True\n",
      "True\n"
     ]
    }
   ],
   "source": [
    "def odd(x):\n",
    "    return x % 2 == 1\n",
    "\n",
    "l = [1,2,3,4,5,7,8,9,7,5,43]\n",
    "\n",
    "for i in l:\n",
    "    print(odd(i))"
   ]
  },
  {
   "cell_type": "code",
   "execution_count": 31,
   "id": "62a7a6af",
   "metadata": {},
   "outputs": [],
   "source": [
    "even1 = filter(even, l)"
   ]
  },
  {
   "cell_type": "code",
   "execution_count": 32,
   "id": "eb19a2e4",
   "metadata": {},
   "outputs": [
    {
     "name": "stdout",
     "output_type": "stream",
     "text": [
      "2 4 8 "
     ]
    }
   ],
   "source": [
    "for i in even1:\n",
    "    print(i, end=' ')"
   ]
  },
  {
   "cell_type": "code",
   "execution_count": 33,
   "id": "38fb1fcd",
   "metadata": {},
   "outputs": [
    {
     "name": "stdout",
     "output_type": "stream",
     "text": [
      "1 3 5 7 9 7 5 43 "
     ]
    }
   ],
   "source": [
    "even2 = filter(odd, l)\n",
    "\n",
    "for i in even2:\n",
    "    print(i, end=' ')"
   ]
  },
  {
   "cell_type": "code",
   "execution_count": 34,
   "id": "89830e5f",
   "metadata": {},
   "outputs": [],
   "source": [
    "x = filter(None, l)"
   ]
  },
  {
   "cell_type": "code",
   "execution_count": 35,
   "id": "e14a39f0",
   "metadata": {},
   "outputs": [
    {
     "data": {
      "text/plain": [
       "1"
      ]
     },
     "execution_count": 35,
     "metadata": {},
     "output_type": "execute_result"
    }
   ],
   "source": [
    "next(x)"
   ]
  },
  {
   "cell_type": "code",
   "execution_count": 36,
   "id": "727dfd90",
   "metadata": {},
   "outputs": [
    {
     "data": {
      "text/plain": [
       "2"
      ]
     },
     "execution_count": 36,
     "metadata": {},
     "output_type": "execute_result"
    }
   ],
   "source": [
    "next(x)"
   ]
  },
  {
   "cell_type": "code",
   "execution_count": 37,
   "id": "ff9b4d10",
   "metadata": {},
   "outputs": [
    {
     "data": {
      "text/plain": [
       "3"
      ]
     },
     "execution_count": 37,
     "metadata": {},
     "output_type": "execute_result"
    }
   ],
   "source": [
    "next(x)"
   ]
  },
  {
   "cell_type": "code",
   "execution_count": 38,
   "id": "633f304e",
   "metadata": {},
   "outputs": [
    {
     "name": "stdout",
     "output_type": "stream",
     "text": [
      "4 5 7 8 9 7 5 43\n"
     ]
    }
   ],
   "source": [
    "print(*x)"
   ]
  },
  {
   "cell_type": "markdown",
   "id": "02ca7ff1",
   "metadata": {},
   "source": [
    "reduce"
   ]
  },
  {
   "cell_type": "code",
   "execution_count": 42,
   "id": "25143b8f",
   "metadata": {},
   "outputs": [
    {
     "data": {
      "text/plain": [
       "11"
      ]
     },
     "execution_count": 42,
     "metadata": {},
     "output_type": "execute_result"
    }
   ],
   "source": [
    "from functools import reduce\n",
    "\n",
    "def add(x, y):\n",
    "    return x + y\n",
    "\n",
    "\n",
    "\n",
    "add(5,6)"
   ]
  },
  {
   "cell_type": "code",
   "execution_count": 43,
   "id": "5766a56f",
   "metadata": {},
   "outputs": [],
   "source": [
    "r = reduce(add, [2,6,3])"
   ]
  },
  {
   "cell_type": "code",
   "execution_count": 44,
   "id": "a81f5a7b",
   "metadata": {},
   "outputs": [
    {
     "data": {
      "text/plain": [
       "11"
      ]
     },
     "execution_count": 44,
     "metadata": {},
     "output_type": "execute_result"
    }
   ],
   "source": [
    "r"
   ]
  },
  {
   "cell_type": "code",
   "execution_count": null,
   "id": "b7ba4904",
   "metadata": {},
   "outputs": [],
   "source": []
  }
 ],
 "metadata": {
  "kernelspec": {
   "display_name": "Python 3 (ipykernel)",
   "language": "python",
   "name": "python3"
  },
  "language_info": {
   "codemirror_mode": {
    "name": "ipython",
    "version": 3
   },
   "file_extension": ".py",
   "mimetype": "text/x-python",
   "name": "python",
   "nbconvert_exporter": "python",
   "pygments_lexer": "ipython3",
   "version": "3.9.12"
  }
 },
 "nbformat": 4,
 "nbformat_minor": 5
}
