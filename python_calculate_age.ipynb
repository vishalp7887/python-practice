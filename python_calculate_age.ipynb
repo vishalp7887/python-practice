{
 "cells": [
  {
   "cell_type": "code",
   "execution_count": 4,
   "id": "aecead93",
   "metadata": {},
   "outputs": [
    {
     "name": "stdout",
     "output_type": "stream",
     "text": [
      "\n",
      "\t\t\t\tNOTE : Enter Your DOB in \"YYYY-MM-DD\" formate \n",
      "\n",
      "[ YYYY ] Birth Year : 2001\n",
      "[ MM ] Birth Month : 08\n",
      "[ DD ] Birth Date : 01\n",
      "\n",
      "[+] Your age is => 21 Year, 2 Months \n",
      "\n",
      "[!] Press 'y' to view more info : y\n",
      "\n",
      "* Total Year => 21\n",
      "* Total Month => 254\n",
      "* Total Days => 7737\n",
      "* Weeks => 1105.2857142857142\n",
      "\n"
     ]
    }
   ],
   "source": [
    "import datetime\n",
    "\n",
    "today = datetime.date.today()\n",
    "print('\\n\\t\\t\\t\\tNOTE : Enter Your DOB in \"YYYY-MM-DD\" formate \\n')\n",
    "\n",
    "try:\n",
    "    dob_y = int(input('[ YYYY ] Birth Year : '))\n",
    "    dob_m = int(input('[ MM ] Birth Month : '))\n",
    "    dob_d = int(input('[ DD ] Birth Date : '))\n",
    "except:\n",
    "    print('[-] Invaild input !')\n",
    "    exit()\n",
    "\n",
    "def monthToYear(month): \n",
    "    \n",
    "    year = 0\n",
    "    \n",
    "    while month>0:\n",
    "        month-=12    \n",
    "        year+=1     \n",
    "\n",
    "    if month<0:  \n",
    "        year = year-1   \n",
    "        month = 12 + month   \n",
    "\n",
    "    return month,year  \n",
    "\n",
    "try:\n",
    "    userDOB = datetime.date(dob_y, dob_m, dob_d)  \n",
    "except:\n",
    "    print('[-] Invaild date of birth !')\n",
    "    exit()\n",
    "\n",
    "total_month = (today.year - userDOB.year)*12 + today.month - userDOB.month  \n",
    "total_year = today.year - userDOB.year  \n",
    "total_days = (today-userDOB).days \n",
    "total_weeks = total_days/7\n",
    "res_month,res_year = monthToYear(total_month)   \n",
    "\n",
    "if total_days < 0:\n",
    "    print('\\n[!] You are not yet born !\\n')\n",
    "    exit()\n",
    "\n",
    "print(f'\\n[+] Your age is => {res_year} Year, {res_month} Months ')\n",
    "\n",
    "ans = input(\"\\n[!] Press 'y' to view more info : \")\n",
    "if ans.lower()=='y':\n",
    "    print(f'\\n* Total Year => {res_year}\\n* Total Month => {total_month}\\n* Total Days => {total_days}\\n* Weeks => {total_weeks}\\n')\n",
    "else:\n",
    "    print('Quitting !\\n')"
   ]
  },
  {
   "cell_type": "code",
   "execution_count": null,
   "id": "23b638c5",
   "metadata": {},
   "outputs": [],
   "source": []
  }
 ],
 "metadata": {
  "kernelspec": {
   "display_name": "Python 3 (ipykernel)",
   "language": "python",
   "name": "python3"
  },
  "language_info": {
   "codemirror_mode": {
    "name": "ipython",
    "version": 3
   },
   "file_extension": ".py",
   "mimetype": "text/x-python",
   "name": "python",
   "nbconvert_exporter": "python",
   "pygments_lexer": "ipython3",
   "version": "3.9.12"
  }
 },
 "nbformat": 4,
 "nbformat_minor": 5
}
