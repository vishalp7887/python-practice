{
 "cells": [
  {
   "cell_type": "code",
   "execution_count": 1,
   "id": "49c30445",
   "metadata": {},
   "outputs": [
    {
     "name": "stdout",
     "output_type": "stream",
     "text": [
      "enter your first number5\n",
      "enter operators (+ , - , * , % , / ,):-\n",
      "enter your second number2\n",
      "3\n"
     ]
    }
   ],
   "source": [
    "first = int(input('enter your first number'))\n",
    "operators =input('enter operators (+ , - , * , % , / ,):')\n",
    "second = int(input('enter your second number'))\n",
    "\n",
    "if operators == '+':\n",
    "    print(first + second)\n",
    "elif operators == '-':\n",
    "    print(first - second)\n",
    "elif operatoes == '*':\n",
    "    print(first * second)\n",
    "elif operatorts == '%':\n",
    "    print(first % second)\n",
    "elif operators == '/':\n",
    "    print(first / second)\n",
    "else:\n",
    "    print('invalid operators')"
   ]
  },
  {
   "cell_type": "code",
   "execution_count": 2,
   "id": "d19d7cfe",
   "metadata": {},
   "outputs": [
    {
     "name": "stdout",
     "output_type": "stream",
     "text": [
      "enter your number3\n",
      "3 * 1 = 3\n",
      "3 * 2 = 6\n",
      "3 * 3 = 9\n",
      "3 * 4 = 12\n",
      "3 * 5 = 15\n",
      "3 * 6 = 18\n",
      "3 * 7 = 21\n",
      "3 * 8 = 24\n",
      "3 * 9 = 27\n",
      "3 * 10 = 30\n"
     ]
    }
   ],
   "source": [
    "t = int(input('enter your number'))\n",
    "\n",
    "for i in range(1,11):\n",
    "    print(f'{t} * {i} = {t * i}')"
   ]
  },
  {
   "cell_type": "code",
   "execution_count": null,
   "id": "7db29d04",
   "metadata": {},
   "outputs": [],
   "source": []
  }
 ],
 "metadata": {
  "kernelspec": {
   "display_name": "Python 3.10.6 64-bit",
   "language": "python",
   "name": "python3"
  },
  "language_info": {
   "codemirror_mode": {
    "name": "ipython",
    "version": 3
   },
   "file_extension": ".py",
   "mimetype": "text/x-python",
   "name": "python",
   "nbconvert_exporter": "python",
   "pygments_lexer": "ipython3",
   "version": "3.10.6"
  },
  "vscode": {
   "interpreter": {
    "hash": "36722ccd9d33e900b5ce901e21f97f77cc13653ad0a90c4a65af2088720fca59"
   }
  }
 },
 "nbformat": 4,
 "nbformat_minor": 5
}
