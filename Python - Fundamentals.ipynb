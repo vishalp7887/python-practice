{
 "cells": [
  {
   "cell_type": "code",
   "execution_count": 1,
   "id": "8cf1b251",
   "metadata": {},
   "outputs": [],
   "source": [
    "s = 'welcome to india'"
   ]
  },
  {
   "cell_type": "code",
   "execution_count": 2,
   "id": "15061267",
   "metadata": {},
   "outputs": [
    {
     "data": {
      "text/plain": [
       "'welcome to india'"
      ]
     },
     "execution_count": 2,
     "metadata": {},
     "output_type": "execute_result"
    }
   ],
   "source": [
    "s"
   ]
  },
  {
   "cell_type": "code",
   "execution_count": 3,
   "id": "baef2969",
   "metadata": {},
   "outputs": [
    {
     "data": {
      "text/plain": [
       "'e'"
      ]
     },
     "execution_count": 3,
     "metadata": {},
     "output_type": "execute_result"
    }
   ],
   "source": [
    "s[1]"
   ]
  },
  {
   "cell_type": "code",
   "execution_count": 5,
   "id": "2c64915b",
   "metadata": {},
   "outputs": [
    {
     "data": {
      "text/plain": [
       "'Welcome to india'"
      ]
     },
     "execution_count": 5,
     "metadata": {},
     "output_type": "execute_result"
    }
   ],
   "source": [
    "s.capitalize()"
   ]
  },
  {
   "cell_type": "code",
   "execution_count": 7,
   "id": "b8781aa4",
   "metadata": {},
   "outputs": [
    {
     "name": "stdout",
     "output_type": "stream",
     "text": [
      "True False\n"
     ]
    }
   ],
   "source": [
    "a = 'e' in 'hello'\n",
    "\n",
    "b = 'e' not in 'hello'\n",
    "\n",
    "print(a,b)"
   ]
  },
  {
   "cell_type": "code",
   "execution_count": 7,
   "id": "1a9f6459",
   "metadata": {},
   "outputs": [
    {
     "data": {
      "text/plain": [
       "2"
      ]
     },
     "execution_count": 7,
     "metadata": {},
     "output_type": "execute_result"
    }
   ],
   "source": [
    "s.count('o')"
   ]
  },
  {
   "cell_type": "code",
   "execution_count": 2,
   "id": "572e8b83",
   "metadata": {},
   "outputs": [
    {
     "name": "stdout",
     "output_type": "stream",
     "text": [
      "str =  welcome to india\n",
      "str[0] =  w\n",
      "str[-1] =  a\n",
      "str[1:5] =  elco\n",
      "str[5:-2] =  me to ind\n"
     ]
    }
   ],
   "source": [
    "str = 'welcome to india'\n",
    "print('str = ', str)\n",
    "\n",
    "print('str[0] = ', str[0])\n",
    "\n",
    "print('str[-1] = ', str[-1])\n",
    "\n",
    "print('str[1:5] = ', str[1:5])\n",
    "\n",
    "print('str[5:-2] = ', str[5:-2])\n"
   ]
  },
  {
   "cell_type": "code",
   "execution_count": 11,
   "id": "11fab6aa",
   "metadata": {},
   "outputs": [
    {
     "data": {
      "text/plain": [
       "'w e l c o m e   t o   i n d i a'"
      ]
     },
     "execution_count": 11,
     "metadata": {},
     "output_type": "execute_result"
    }
   ],
   "source": [
    "' '.join(s)"
   ]
  },
  {
   "cell_type": "code",
   "execution_count": 13,
   "id": "fb2c04da",
   "metadata": {},
   "outputs": [
    {
     "name": "stdout",
     "output_type": "stream",
     "text": [
      "hello welcome to india\n"
     ]
    }
   ],
   "source": [
    "print(f'hello {s}')"
   ]
  },
  {
   "cell_type": "code",
   "execution_count": 14,
   "id": "ede90562",
   "metadata": {},
   "outputs": [
    {
     "data": {
      "text/plain": [
       "'welcome to india'"
      ]
     },
     "execution_count": 14,
     "metadata": {},
     "output_type": "execute_result"
    }
   ],
   "source": [
    "s"
   ]
  },
  {
   "cell_type": "code",
   "execution_count": 15,
   "id": "cf0d6939",
   "metadata": {},
   "outputs": [],
   "source": [
    "x = 5\n",
    "y = 4"
   ]
  },
  {
   "cell_type": "code",
   "execution_count": 16,
   "id": "87549d8d",
   "metadata": {},
   "outputs": [
    {
     "data": {
      "text/plain": [
       "True"
      ]
     },
     "execution_count": 16,
     "metadata": {},
     "output_type": "execute_result"
    }
   ],
   "source": [
    "x > y"
   ]
  },
  {
   "cell_type": "code",
   "execution_count": 17,
   "id": "8e83685c",
   "metadata": {},
   "outputs": [
    {
     "data": {
      "text/plain": [
       "False"
      ]
     },
     "execution_count": 17,
     "metadata": {},
     "output_type": "execute_result"
    }
   ],
   "source": [
    "x < y"
   ]
  },
  {
   "cell_type": "code",
   "execution_count": 18,
   "id": "f676acf0",
   "metadata": {},
   "outputs": [
    {
     "data": {
      "text/plain": [
       "1"
      ]
     },
     "execution_count": 18,
     "metadata": {},
     "output_type": "execute_result"
    }
   ],
   "source": [
    "x // y"
   ]
  },
  {
   "cell_type": "code",
   "execution_count": 1,
   "id": "68efab70",
   "metadata": {},
   "outputs": [],
   "source": [
    "# loops - 1.for ,2.while"
   ]
  },
  {
   "cell_type": "code",
   "execution_count": 2,
   "id": "c98a9470",
   "metadata": {},
   "outputs": [
    {
     "name": "stdout",
     "output_type": "stream",
     "text": [
      "h\n",
      "e\n",
      "l\n",
      "l\n",
      "o\n"
     ]
    }
   ],
   "source": [
    "for i in 'hello':\n",
    "    print(i)"
   ]
  },
  {
   "cell_type": "code",
   "execution_count": 3,
   "id": "4ed51a89",
   "metadata": {},
   "outputs": [
    {
     "name": "stdout",
     "output_type": "stream",
     "text": [
      "1\n",
      "2\n",
      "3\n",
      "4\n",
      "5\n",
      "6\n",
      "7\n",
      "8\n",
      "9\n",
      "10\n"
     ]
    }
   ],
   "source": [
    "for i in range(1,11):\n",
    "    print(i)"
   ]
  },
  {
   "cell_type": "code",
   "execution_count": 4,
   "id": "6a409211",
   "metadata": {},
   "outputs": [
    {
     "name": "stdout",
     "output_type": "stream",
     "text": [
      "1 2 3 4 5 6 7 8 9 10 "
     ]
    }
   ],
   "source": [
    "for i in range(1,11):\n",
    "    print(i , end=' ')"
   ]
  },
  {
   "cell_type": "code",
   "execution_count": 5,
   "id": "3b05faba",
   "metadata": {},
   "outputs": [
    {
     "name": "stdout",
     "output_type": "stream",
     "text": [
      "3\n",
      "6\n",
      "9\n",
      "12\n",
      "15\n",
      "18\n",
      "21\n",
      "24\n",
      "27\n",
      "30\n"
     ]
    }
   ],
   "source": [
    "t = 3\n",
    "\n",
    "for i in range(1,11):\n",
    "    print(i * t)"
   ]
  },
  {
   "cell_type": "code",
   "execution_count": 6,
   "id": "37d45a20",
   "metadata": {},
   "outputs": [
    {
     "name": "stdout",
     "output_type": "stream",
     "text": [
      "3 * 1 = 3\n",
      "3 * 2 = 6\n",
      "3 * 3 = 9\n",
      "3 * 4 = 12\n",
      "3 * 5 = 15\n",
      "3 * 6 = 18\n",
      "3 * 7 = 21\n",
      "3 * 8 = 24\n",
      "3 * 9 = 27\n",
      "3 * 10 = 30\n"
     ]
    }
   ],
   "source": [
    "for i in range(1,11):\n",
    "    print(f'{t} * {i} = {t * i}')"
   ]
  },
  {
   "cell_type": "code",
   "execution_count": 7,
   "id": "2b05695b",
   "metadata": {},
   "outputs": [
    {
     "name": "stdout",
     "output_type": "stream",
     "text": [
      "1\n",
      "4\n",
      "7\n",
      "10\n",
      "13\n",
      "16\n",
      "19\n",
      "22\n",
      "25\n",
      "28\n",
      "31\n",
      "34\n",
      "37\n",
      "40\n",
      "43\n"
     ]
    }
   ],
   "source": [
    "for i in range(1,44,3):\n",
    "    print(i)"
   ]
  },
  {
   "cell_type": "code",
   "execution_count": 8,
   "id": "9efbc984",
   "metadata": {},
   "outputs": [
    {
     "name": "stdout",
     "output_type": "stream",
     "text": [
      "11\n",
      "10\n",
      "9\n",
      "8\n",
      "7\n",
      "6\n",
      "5\n",
      "4\n",
      "3\n",
      "2\n"
     ]
    }
   ],
   "source": [
    "for i in range(11,1,-1):\n",
    "    print(i)"
   ]
  },
  {
   "cell_type": "code",
   "execution_count": 9,
   "id": "6d904d87",
   "metadata": {},
   "outputs": [
    {
     "name": "stdout",
     "output_type": "stream",
     "text": [
      "11 10 9 8 7 6 5 4 3 2 "
     ]
    }
   ],
   "source": [
    "for i in range(11,1,-1):\n",
    "    print(i ,end=' ')"
   ]
  },
  {
   "cell_type": "code",
   "execution_count": 10,
   "id": "12c827bc",
   "metadata": {},
   "outputs": [
    {
     "name": "stdout",
     "output_type": "stream",
     "text": [
      "*\n",
      "**\n",
      "***\n",
      "****\n",
      "*****\n",
      "******\n",
      "*******\n",
      "********\n",
      "*********\n",
      "**********\n"
     ]
    }
   ],
   "source": [
    "for i in range(1,11):\n",
    "    print('*' * i)"
   ]
  },
  {
   "cell_type": "code",
   "execution_count": 11,
   "id": "a0a0da04",
   "metadata": {},
   "outputs": [
    {
     "name": "stdout",
     "output_type": "stream",
     "text": [
      "0\n",
      "1\n",
      "2\n",
      "3\n",
      "4\n",
      "5\n",
      "6\n",
      "7\n",
      "8\n",
      "9\n"
     ]
    }
   ],
   "source": [
    "i = 0\n",
    "while i < 10:\n",
    "    print(i)\n",
    "    i += 1"
   ]
  },
  {
   "cell_type": "code",
   "execution_count": 12,
   "id": "a4cb4500",
   "metadata": {},
   "outputs": [
    {
     "data": {
      "text/plain": [
       "118"
      ]
     },
     "execution_count": 12,
     "metadata": {},
     "output_type": "execute_result"
    }
   ],
   "source": [
    "ord('v')"
   ]
  },
  {
   "cell_type": "code",
   "execution_count": 13,
   "id": "99b37681",
   "metadata": {},
   "outputs": [
    {
     "name": "stdout",
     "output_type": "stream",
     "text": [
      "118\n",
      "105\n",
      "115\n",
      "104\n",
      "97\n",
      "108\n"
     ]
    }
   ],
   "source": [
    "name = 'vishal'\n",
    "\n",
    "for i in name:\n",
    "    print(ord(i))"
   ]
  },
  {
   "cell_type": "code",
   "execution_count": 14,
   "id": "c4240302",
   "metadata": {},
   "outputs": [
    {
     "data": {
      "text/plain": [
       "'vishal'"
      ]
     },
     "execution_count": 14,
     "metadata": {},
     "output_type": "execute_result"
    }
   ],
   "source": [
    "name"
   ]
  },
  {
   "cell_type": "code",
   "execution_count": 15,
   "id": "1b4aaca9",
   "metadata": {},
   "outputs": [
    {
     "name": "stdout",
     "output_type": "stream",
     "text": [
      "v\n",
      "i\n",
      "s\n",
      "h\n",
      "a\n",
      "l\n"
     ]
    }
   ],
   "source": [
    "for i in name:\n",
    "    print(i)"
   ]
  },
  {
   "cell_type": "code",
   "execution_count": 16,
   "id": "8b77a858",
   "metadata": {},
   "outputs": [
    {
     "name": "stdout",
     "output_type": "stream",
     "text": [
      "118 v\n",
      "105 i\n",
      "115 s\n",
      "104 h\n",
      "97 a\n",
      "108 l\n"
     ]
    }
   ],
   "source": [
    "for i in name:\n",
    "    print(ord(i),chr(ord(i)))"
   ]
  },
  {
   "cell_type": "code",
   "execution_count": 17,
   "id": "29ef1fe3",
   "metadata": {},
   "outputs": [
    {
     "data": {
      "text/plain": [
       "97"
      ]
     },
     "execution_count": 17,
     "metadata": {},
     "output_type": "execute_result"
    }
   ],
   "source": [
    "ord('a')"
   ]
  },
  {
   "cell_type": "code",
   "execution_count": 18,
   "id": "05f65acc",
   "metadata": {},
   "outputs": [
    {
     "data": {
      "text/plain": [
       "122"
      ]
     },
     "execution_count": 18,
     "metadata": {},
     "output_type": "execute_result"
    }
   ],
   "source": [
    "ord('z')"
   ]
  },
  {
   "cell_type": "code",
   "execution_count": 19,
   "id": "8f6149a8",
   "metadata": {},
   "outputs": [
    {
     "name": "stdout",
     "output_type": "stream",
     "text": [
      "86 V\n",
      "73 I\n",
      "83 S\n",
      "72 H\n",
      "65 A\n",
      "76 L\n"
     ]
    }
   ],
   "source": [
    "# convert to upper\n",
    "for i in name:\n",
    "    print(ord(i)-32 , chr(ord(i)-32))"
   ]
  },
  {
   "cell_type": "code",
   "execution_count": 20,
   "id": "7a3bbe50",
   "metadata": {},
   "outputs": [
    {
     "name": "stdout",
     "output_type": "stream",
     "text": [
      "118 v\n",
      "105 i\n",
      "115 s\n",
      "104 h\n",
      "97 a\n",
      "108 l\n"
     ]
    }
   ],
   "source": [
    "#convert to lower\n",
    "name ='VISHAL'\n",
    "\n",
    "for i in name:\n",
    "    print(ord(i)+32 , chr(ord(i)+32))"
   ]
  },
  {
   "cell_type": "code",
   "execution_count": 21,
   "id": "eca5ba15",
   "metadata": {},
   "outputs": [
    {
     "name": "stdout",
     "output_type": "stream",
     "text": [
      "already in lowercase\n",
      "already in lowercase\n",
      "already in lowercase\n",
      "already in lowercase\n",
      "already in lowercase\n",
      "vishal\n"
     ]
    }
   ],
   "source": [
    "name = 'vishal'\n",
    "\n",
    "for i in name:\n",
    "    if ord(i) > 97 and ord(i) < 122:\n",
    "        print('already in lowercase')\n",
    "else:\n",
    "    print(name)"
   ]
  },
  {
   "cell_type": "code",
   "execution_count": 22,
   "id": "ec03b5af",
   "metadata": {},
   "outputs": [
    {
     "name": "stdout",
     "output_type": "stream",
     "text": [
      "already in lowercase\n"
     ]
    }
   ],
   "source": [
    "name = 'vishal'\n",
    "\n",
    "for i in name:\n",
    "    if ord(i) > 97 and ord(i) < 122:\n",
    "        print('already in lowercase')\n",
    "        break\n",
    "else:\n",
    "    print(name)"
   ]
  },
  {
   "cell_type": "code",
   "execution_count": 23,
   "id": "dd19e4b6",
   "metadata": {},
   "outputs": [
    {
     "name": "stdout",
     "output_type": "stream",
     "text": [
      "already in lowercase\n",
      "already in lowercase\n",
      "already in lowercase\n",
      "not lowercase\n"
     ]
    }
   ],
   "source": [
    "name = 'vishal'\n",
    "\n",
    "for i in name:\n",
    "    if ord(i) > 97 and ord(i) < 111:\n",
    "        print('already in lowercase')\n",
    "else:\n",
    "    print('not lowercase')"
   ]
  },
  {
   "cell_type": "code",
   "execution_count": 24,
   "id": "1c80dcd0",
   "metadata": {},
   "outputs": [
    {
     "name": "stdout",
     "output_type": "stream",
     "text": [
      "1\n",
      "2\n",
      "3\n",
      "4\n"
     ]
    }
   ],
   "source": [
    "for i in range(1,11):\n",
    "    if i == 5:\n",
    "        break\n",
    "    print(i)"
   ]
  },
  {
   "cell_type": "code",
   "execution_count": 25,
   "id": "beccd5eb",
   "metadata": {},
   "outputs": [
    {
     "name": "stdout",
     "output_type": "stream",
     "text": [
      "0\n",
      "1\n",
      "2\n",
      "3\n",
      "4\n",
      "5\n"
     ]
    }
   ],
   "source": [
    "for i in range(11):\n",
    "    print(i)\n",
    "    if i ==5:\n",
    "        break"
   ]
  },
  {
   "cell_type": "code",
   "execution_count": 26,
   "id": "d0d956aa",
   "metadata": {},
   "outputs": [
    {
     "name": "stdout",
     "output_type": "stream",
     "text": [
      "h\n",
      "e\n",
      "o\n"
     ]
    }
   ],
   "source": [
    "for i in 'hello':\n",
    "    if i == 'l':\n",
    "        continue\n",
    "    print(i)"
   ]
  },
  {
   "cell_type": "code",
   "execution_count": 27,
   "id": "152e2750",
   "metadata": {},
   "outputs": [],
   "source": [
    "for i in range(1,11):\n",
    "    pass"
   ]
  },
  {
   "cell_type": "code",
   "execution_count": 28,
   "id": "c10f81d6",
   "metadata": {},
   "outputs": [
    {
     "name": "stdout",
     "output_type": "stream",
     "text": [
      "w\n",
      "e\n",
      "l\n",
      "c\n"
     ]
    }
   ],
   "source": [
    "string = 'welcome to india'\n",
    "f = 'o'\n",
    "\n",
    "for i in string:\n",
    "    if i == f:\n",
    "        break\n",
    "    print(i)"
   ]
  },
  {
   "cell_type": "code",
   "execution_count": 29,
   "id": "7ad20172",
   "metadata": {},
   "outputs": [
    {
     "name": "stdout",
     "output_type": "stream",
     "text": [
      "2\n"
     ]
    }
   ],
   "source": [
    "c = 0\n",
    "string = 'welcome to india'\n",
    "f = 'o'\n",
    "\n",
    "for i in string:\n",
    "    if i == f:\n",
    "        c += 1\n",
    "else:\n",
    "    print(c)"
   ]
  },
  {
   "cell_type": "code",
   "execution_count": 30,
   "id": "5443527f",
   "metadata": {},
   "outputs": [
    {
     "name": "stdout",
     "output_type": "stream",
     "text": [
      "$ \n",
      "$ $ \n",
      "$ $ $ \n",
      "$ $ $ $ \n",
      "$ $ $ $ $ \n",
      "$ $ $ $ $ $ \n",
      "$ $ $ $ $ $ $ \n",
      "$ $ $ $ $ $ $ $ \n",
      "$ $ $ $ $ $ $ $ $ \n",
      "$ $ $ $ $ $ $ $ $ $ \n"
     ]
    }
   ],
   "source": [
    "for i in range(1,11):\n",
    "    print('$ '  * i)"
   ]
  },
  {
   "cell_type": "code",
   "execution_count": 31,
   "id": "22753ca5",
   "metadata": {},
   "outputs": [
    {
     "name": "stdout",
     "output_type": "stream",
     "text": [
      "$ $ $ $ $ $ $ $ $ $ \n",
      "$ $ $ $ $ $ $ $ $ \n",
      "$ $ $ $ $ $ $ $ \n",
      "$ $ $ $ $ $ $ \n",
      "$ $ $ $ $ $ \n",
      "$ $ $ $ $ \n",
      "$ $ $ $ \n",
      "$ $ $ \n",
      "$ $ \n",
      "$ \n",
      "\n"
     ]
    }
   ],
   "source": [
    "for i in range(11):\n",
    "    print('$ ' * (10 - i))"
   ]
  },
  {
   "cell_type": "code",
   "execution_count": 32,
   "id": "2881d25e",
   "metadata": {},
   "outputs": [
    {
     "name": "stdout",
     "output_type": "stream",
     "text": [
      "$ $ $ $ $ $ $ $ $ $ $ $ $ $ $ $ $ $ $ $       $ $ $ $ $ $ $ $ $ $ $ $ $ $ $ $ $ $ $ $ \n",
      "$ $ $ $ $ $ $ $ $     $ $ $ $ $ $ $ $ $       $ $ $ $ $ $ $ $ $     $ $ $ $ $ $ $ $ $ \n",
      "$ $ $ $ $ $ $ $         $ $ $ $ $ $ $ $       $ $ $ $ $ $ $ $         $ $ $ $ $ $ $ $ \n",
      "$ $ $ $ $ $ $             $ $ $ $ $ $ $       $ $ $ $ $ $ $             $ $ $ $ $ $ $ \n",
      "$ $ $ $ $ $                 $ $ $ $ $ $       $ $ $ $ $ $                 $ $ $ $ $ $ \n",
      "$ $ $ $ $                     $ $ $ $ $       $ $ $ $ $                     $ $ $ $ $ \n",
      "$ $ $ $                         $ $ $ $       $ $ $ $                         $ $ $ $ \n",
      "$ $ $                             $ $ $       $ $ $                             $ $ $ \n",
      "$ $                                 $ $       $ $                                 $ $ \n",
      "$                                     $       $                                     $ \n",
      "                                                                                      \n"
     ]
    }
   ],
   "source": [
    "for i in range(11):\n",
    "    print('$ ' * (10 - i) + '  ' * i + '  ' * i + '$ ' *(10 - i) +'      ' +'$ ' * (10 - i) + '  ' * i + '  ' * i + '$ ' *(10 - i))    "
   ]
  },
  {
   "cell_type": "code",
   "execution_count": 33,
   "id": "131ee696",
   "metadata": {},
   "outputs": [
    {
     "name": "stdout",
     "output_type": "stream",
     "text": [
      "$ $ $ $ $ $ $ $ $ $ $ $ $ $ $ $ $ $ $ $       $ $ $ $ $ $ $ $ $ $ $ $ $ $ $ $ $ $ $ $ \n",
      "$ $ $ $ $ $ $ $ $     $ $ $ $ $ $ $ $ $       $ $ $ $ $ $ $ $ $     $ $ $ $ $ $ $ $ $ \n",
      "$ $ $ $ $ $ $ $         $ $ $ $ $ $ $ $       $ $ $ $ $ $ $ $         $ $ $ $ $ $ $ $ \n",
      "$ $ $ $ $ $ $             $ $ $ $ $ $ $       $ $ $ $ $ $ $             $ $ $ $ $ $ $ \n",
      "$ $ $ $ $ $                 $ $ $ $ $ $       $ $ $ $ $ $                 $ $ $ $ $ $ \n",
      "$ $ $ $ $                     $ $ $ $ $       $ $ $ $ $                     $ $ $ $ $ \n",
      "$ $ $ $                         $ $ $ $       $ $ $ $                         $ $ $ $ \n",
      "$ $ $                             $ $ $       $ $ $                             $ $ $ \n",
      "$ $                                 $ $       $ $                                 $ $ \n",
      "$                                     $       $                                     $ \n",
      "                                                                                      \n",
      "$ $ $ $ $ $ $ $ $ $ $ $ $ $ $ $ $ $ $ $       $ $ $ $ $ $ $ $ $ $ $ $ $ $ $ $ $ $ $ $ \n",
      "$ $ $ $ $ $ $ $ $     $ $ $ $ $ $ $ $ $       $ $ $ $ $ $ $ $ $     $ $ $ $ $ $ $ $ $ \n",
      "$ $ $ $ $ $ $ $         $ $ $ $ $ $ $ $       $ $ $ $ $ $ $ $         $ $ $ $ $ $ $ $ \n",
      "$ $ $ $ $ $ $             $ $ $ $ $ $ $       $ $ $ $ $ $ $             $ $ $ $ $ $ $ \n",
      "$ $ $ $ $ $                 $ $ $ $ $ $       $ $ $ $ $ $                 $ $ $ $ $ $ \n",
      "$ $ $ $ $                     $ $ $ $ $       $ $ $ $ $                     $ $ $ $ $ \n",
      "$ $ $ $                         $ $ $ $       $ $ $ $                         $ $ $ $ \n",
      "$ $ $                             $ $ $       $ $ $                             $ $ $ \n",
      "$ $                                 $ $       $ $                                 $ $ \n",
      "$                                     $       $                                     $ \n",
      "                                                                                      \n"
     ]
    }
   ],
   "source": [
    "for i in range(11):\n",
    "    print('$ ' * (10 - i) + '  ' * i + '  ' * i + '$ ' *(10 - i) +'      ' +'$ ' * (10 - i) + '  ' * i + '  ' * i + '$ ' *(10 - i))\n",
    "for i in range(11):\n",
    "    print('$ ' * (10 - i) + '  ' * i + '  ' * i + '$ ' *(10 - i) +'      ' +'$ ' * (10 - i) + '  ' * i + '  ' * i + '$ ' *(10 - i))    "
   ]
  },
  {
   "cell_type": "code",
   "execution_count": 34,
   "id": "a282e608",
   "metadata": {},
   "outputs": [
    {
     "name": "stdout",
     "output_type": "stream",
     "text": [
      "\n",
      "$  $  \n",
      "$  $  $  $  \n",
      "$  $  $  $  $  $  \n",
      "$  $  $  $  $  $  $  $  \n",
      "$  $  $  $  $  $  $  $  $  $  \n",
      "$  $  $  $  $  $  $  $  $  $  $  $  \n",
      "$  $  $  $  $  $  $  $  $  $  $  $  $  $  \n",
      "$  $  $  $  $  $  $  $  $  $  $  $  $  $  $  $  \n",
      "$  $  $  $  $  $  $  $  $  $  $  $  $  $  $  $  $  $  \n",
      "$  $  $  $  $  $  $  $  $  $  $  $  $  $  $  $  $  $  $  $  \n"
     ]
    }
   ],
   "source": [
    "for i in range(11):\n",
    "    print('$  ' * i + '$  ' * i)"
   ]
  },
  {
   "cell_type": "code",
   "execution_count": 35,
   "id": "8e8c4240",
   "metadata": {},
   "outputs": [
    {
     "name": "stdout",
     "output_type": "stream",
     "text": [
      "0\n",
      "1\n",
      "2\n",
      "3\n",
      "4\n",
      "5\n",
      "6\n",
      "7\n",
      "8\n",
      "9\n",
      "10\n",
      "11\n",
      "12\n",
      "13\n",
      "14\n",
      "15\n",
      "16\n"
     ]
    }
   ],
   "source": [
    "t = 6\n",
    "\n",
    "for i in range((t+11)):\n",
    "    print(i)"
   ]
  },
  {
   "cell_type": "code",
   "execution_count": 36,
   "id": "d39eb737",
   "metadata": {},
   "outputs": [
    {
     "name": "stdout",
     "output_type": "stream",
     "text": [
      "enter your number3\n",
      "3 * 1 = 3\n",
      "3 * 2 = 6\n",
      "3 * 3 = 9\n",
      "3 * 4 = 12\n",
      "3 * 5 = 15\n",
      "3 * 6 = 18\n",
      "3 * 7 = 21\n",
      "3 * 8 = 24\n",
      "3 * 9 = 27\n",
      "3 * 10 = 30\n"
     ]
    }
   ],
   "source": [
    "t = int(input('enter your number'))\n",
    "\n",
    "for i in range(1,11):\n",
    "    print(f'{t} * {i} = {t * i}')\n",
    "    "
   ]
  },
  {
   "cell_type": "code",
   "execution_count": 37,
   "id": "d471ccc9",
   "metadata": {},
   "outputs": [
    {
     "name": "stdout",
     "output_type": "stream",
     "text": [
      "[22, 35, 46, 2, 21, 1, 3, 4, 32, 312]\n"
     ]
    }
   ],
   "source": [
    "l = [22,35,46,2,21,1,2,3,4,2,32,1,2,312,2]\n",
    "\n",
    "l2 = list()\n",
    "\n",
    "for i in l:\n",
    "  if i not in l2:\n",
    "    l2.append(i)\n",
    "else:\n",
    "  print(l2)"
   ]
  },
  {
   "cell_type": "code",
   "execution_count": null,
   "id": "3f0592e3",
   "metadata": {},
   "outputs": [],
   "source": []
  }
 ],
 "metadata": {
  "kernelspec": {
   "display_name": "Python 3 (ipykernel)",
   "language": "python",
   "name": "python3"
  },
  "language_info": {
   "codemirror_mode": {
    "name": "ipython",
    "version": 3
   },
   "file_extension": ".py",
   "mimetype": "text/x-python",
   "name": "python",
   "nbconvert_exporter": "python",
   "pygments_lexer": "ipython3",
   "version": "3.9.12"
  }
 },
 "nbformat": 4,
 "nbformat_minor": 5
}
