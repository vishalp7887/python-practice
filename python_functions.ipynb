{
 "cells": [
  {
   "cell_type": "code",
   "execution_count": 1,
   "id": "6416076e",
   "metadata": {},
   "outputs": [],
   "source": [
    "def name():\n",
    "    print('vishal')"
   ]
  },
  {
   "cell_type": "code",
   "execution_count": 2,
   "id": "be40f4e9",
   "metadata": {},
   "outputs": [
    {
     "name": "stdout",
     "output_type": "stream",
     "text": [
      "vishal\n"
     ]
    }
   ],
   "source": [
    "name()"
   ]
  },
  {
   "cell_type": "code",
   "execution_count": 3,
   "id": "f0f01089",
   "metadata": {},
   "outputs": [
    {
     "data": {
      "text/plain": [
       "function"
      ]
     },
     "execution_count": 3,
     "metadata": {},
     "output_type": "execute_result"
    }
   ],
   "source": [
    "type(name)"
   ]
  },
  {
   "cell_type": "code",
   "execution_count": 4,
   "id": "07e680db",
   "metadata": {},
   "outputs": [
    {
     "name": "stdout",
     "output_type": "stream",
     "text": [
      "vishal\n"
     ]
    }
   ],
   "source": [
    "a = name()"
   ]
  },
  {
   "cell_type": "code",
   "execution_count": 5,
   "id": "d5ca0a63",
   "metadata": {},
   "outputs": [],
   "source": [
    "a"
   ]
  },
  {
   "cell_type": "code",
   "execution_count": 6,
   "id": "ac78fc4f",
   "metadata": {},
   "outputs": [],
   "source": [
    "def name():\n",
    "    return 'vishal'"
   ]
  },
  {
   "cell_type": "code",
   "execution_count": 7,
   "id": "ad996563",
   "metadata": {},
   "outputs": [
    {
     "data": {
      "text/plain": [
       "'vishal'"
      ]
     },
     "execution_count": 7,
     "metadata": {},
     "output_type": "execute_result"
    }
   ],
   "source": [
    "name()"
   ]
  },
  {
   "cell_type": "code",
   "execution_count": 10,
   "id": "76c01b80",
   "metadata": {},
   "outputs": [
    {
     "data": {
      "text/plain": [
       "function"
      ]
     },
     "execution_count": 10,
     "metadata": {},
     "output_type": "execute_result"
    }
   ],
   "source": [
    "type(name)"
   ]
  },
  {
   "cell_type": "code",
   "execution_count": 14,
   "id": "5e5b13ba",
   "metadata": {},
   "outputs": [],
   "source": [
    "def name():\n",
    "    return 'vishal'"
   ]
  },
  {
   "cell_type": "code",
   "execution_count": 15,
   "id": "1282dd6f",
   "metadata": {},
   "outputs": [
    {
     "data": {
      "text/plain": [
       "'vishal'"
      ]
     },
     "execution_count": 15,
     "metadata": {},
     "output_type": "execute_result"
    }
   ],
   "source": [
    "name()"
   ]
  },
  {
   "cell_type": "code",
   "execution_count": 16,
   "id": "79c5da95",
   "metadata": {},
   "outputs": [
    {
     "data": {
      "text/plain": [
       "function"
      ]
     },
     "execution_count": 16,
     "metadata": {},
     "output_type": "execute_result"
    }
   ],
   "source": [
    "type(name)"
   ]
  },
  {
   "cell_type": "code",
   "execution_count": 17,
   "id": "2a9ae8f5",
   "metadata": {},
   "outputs": [],
   "source": [
    "a = name()"
   ]
  },
  {
   "cell_type": "code",
   "execution_count": 18,
   "id": "54d5b22f",
   "metadata": {},
   "outputs": [
    {
     "data": {
      "text/plain": [
       "'vishal'"
      ]
     },
     "execution_count": 18,
     "metadata": {},
     "output_type": "execute_result"
    }
   ],
   "source": [
    "a"
   ]
  },
  {
   "cell_type": "code",
   "execution_count": 19,
   "id": "bee6352f",
   "metadata": {},
   "outputs": [
    {
     "data": {
      "text/plain": [
       "str"
      ]
     },
     "execution_count": 19,
     "metadata": {},
     "output_type": "execute_result"
    }
   ],
   "source": [
    "type(a)"
   ]
  },
  {
   "cell_type": "code",
   "execution_count": 20,
   "id": "dc6acb5d",
   "metadata": {},
   "outputs": [],
   "source": [
    "def name():\n",
    "    print('vishal')"
   ]
  },
  {
   "cell_type": "code",
   "execution_count": 21,
   "id": "de14e96b",
   "metadata": {},
   "outputs": [
    {
     "name": "stdout",
     "output_type": "stream",
     "text": [
      "vishal\n"
     ]
    }
   ],
   "source": [
    "name()"
   ]
  },
  {
   "cell_type": "code",
   "execution_count": 22,
   "id": "0434ec03",
   "metadata": {},
   "outputs": [
    {
     "data": {
      "text/plain": [
       "function"
      ]
     },
     "execution_count": 22,
     "metadata": {},
     "output_type": "execute_result"
    }
   ],
   "source": [
    "type(name)"
   ]
  },
  {
   "cell_type": "code",
   "execution_count": 23,
   "id": "60c40690",
   "metadata": {},
   "outputs": [
    {
     "name": "stdout",
     "output_type": "stream",
     "text": [
      "vishal\n"
     ]
    }
   ],
   "source": [
    "a = name()"
   ]
  },
  {
   "cell_type": "code",
   "execution_count": 25,
   "id": "30383969",
   "metadata": {},
   "outputs": [
    {
     "data": {
      "text/plain": [
       "NoneType"
      ]
     },
     "execution_count": 25,
     "metadata": {},
     "output_type": "execute_result"
    }
   ],
   "source": [
    "type(a)\n"
   ]
  },
  {
   "cell_type": "code",
   "execution_count": 26,
   "id": "0990a1f6",
   "metadata": {},
   "outputs": [],
   "source": [
    "def hello(name):\n",
    "    print(name)"
   ]
  },
  {
   "cell_type": "code",
   "execution_count": 27,
   "id": "808e2a06",
   "metadata": {},
   "outputs": [
    {
     "name": "stdout",
     "output_type": "stream",
     "text": [
      "vishal\n"
     ]
    }
   ],
   "source": [
    "hello('vishal')"
   ]
  },
  {
   "cell_type": "code",
   "execution_count": 33,
   "id": "28f14284",
   "metadata": {},
   "outputs": [],
   "source": [
    "def hello(name):\n",
    "    return name"
   ]
  },
  {
   "cell_type": "code",
   "execution_count": 36,
   "id": "ab0672d2",
   "metadata": {},
   "outputs": [
    {
     "name": "stdout",
     "output_type": "stream",
     "text": [
      "vi\n"
     ]
    }
   ],
   "source": [
    "hello('vi')"
   ]
  },
  {
   "cell_type": "code",
   "execution_count": 40,
   "id": "f1512f62",
   "metadata": {},
   "outputs": [],
   "source": [
    "def hello(name):\n",
    "    return f'hello {name}'"
   ]
  },
  {
   "cell_type": "code",
   "execution_count": 41,
   "id": "c864b683",
   "metadata": {},
   "outputs": [
    {
     "data": {
      "text/plain": [
       "'hello vishal'"
      ]
     },
     "execution_count": 41,
     "metadata": {},
     "output_type": "execute_result"
    }
   ],
   "source": [
    "hello('vishal')"
   ]
  },
  {
   "cell_type": "code",
   "execution_count": 44,
   "id": "a4ca30fc",
   "metadata": {},
   "outputs": [],
   "source": [
    "def add(x ,y):\n",
    "    return x + y"
   ]
  },
  {
   "cell_type": "code",
   "execution_count": 46,
   "id": "54e1d260",
   "metadata": {},
   "outputs": [
    {
     "data": {
      "text/plain": [
       "10"
      ]
     },
     "execution_count": 46,
     "metadata": {},
     "output_type": "execute_result"
    }
   ],
   "source": [
    "add(5 ,5)"
   ]
  },
  {
   "cell_type": "code",
   "execution_count": 49,
   "id": "c171b4d0",
   "metadata": {},
   "outputs": [],
   "source": [
    "def add(x ,y):\n",
    "    return x - y"
   ]
  },
  {
   "cell_type": "code",
   "execution_count": 50,
   "id": "9aaeb9d5",
   "metadata": {},
   "outputs": [
    {
     "data": {
      "text/plain": [
       "3"
      ]
     },
     "execution_count": 50,
     "metadata": {},
     "output_type": "execute_result"
    }
   ],
   "source": [
    "add(5, 2)"
   ]
  },
  {
   "cell_type": "code",
   "execution_count": 1,
   "id": "8c51ce12",
   "metadata": {},
   "outputs": [],
   "source": [
    "def func(*number):\n",
    "    print(number)"
   ]
  },
  {
   "cell_type": "code",
   "execution_count": 2,
   "id": "c7381958",
   "metadata": {},
   "outputs": [
    {
     "name": "stdout",
     "output_type": "stream",
     "text": [
      "(1, 2, 3, 4)\n"
     ]
    }
   ],
   "source": [
    "func(1,2,3,4)"
   ]
  },
  {
   "cell_type": "code",
   "execution_count": 3,
   "id": "3b9238ea",
   "metadata": {},
   "outputs": [
    {
     "name": "stdout",
     "output_type": "stream",
     "text": [
      "()\n"
     ]
    }
   ],
   "source": [
    "func()"
   ]
  },
  {
   "cell_type": "code",
   "execution_count": 6,
   "id": "1b930721",
   "metadata": {},
   "outputs": [
    {
     "name": "stdout",
     "output_type": "stream",
     "text": [
      "('name',)\n"
     ]
    }
   ],
   "source": [
    "func('name')"
   ]
  },
  {
   "cell_type": "code",
   "execution_count": 7,
   "id": "251135ab",
   "metadata": {},
   "outputs": [],
   "source": [
    "def func(**number):\n",
    "    print(number)"
   ]
  },
  {
   "cell_type": "code",
   "execution_count": 12,
   "id": "e4211567",
   "metadata": {},
   "outputs": [
    {
     "name": "stdout",
     "output_type": "stream",
     "text": [
      "{'n': 2}\n"
     ]
    }
   ],
   "source": [
    "func(n=2)"
   ]
  },
  {
   "cell_type": "code",
   "execution_count": 13,
   "id": "56981b44",
   "metadata": {},
   "outputs": [],
   "source": [
    "def func(**number):\n",
    "    return number"
   ]
  },
  {
   "cell_type": "code",
   "execution_count": 14,
   "id": "cb3f4bae",
   "metadata": {},
   "outputs": [
    {
     "data": {
      "text/plain": [
       "{'n': 2}"
      ]
     },
     "execution_count": 14,
     "metadata": {},
     "output_type": "execute_result"
    }
   ],
   "source": [
    "func(n=2)"
   ]
  },
  {
   "cell_type": "code",
   "execution_count": 15,
   "id": "e6a6e2fc",
   "metadata": {},
   "outputs": [],
   "source": [
    "# positional argument\n",
    "\n",
    "def func(name, age):\n",
    "    print(f'my name is {name} and i am {age} years old')"
   ]
  },
  {
   "cell_type": "code",
   "execution_count": 16,
   "id": "184021e2",
   "metadata": {},
   "outputs": [
    {
     "name": "stdout",
     "output_type": "stream",
     "text": [
      "my name is vishal and i am 22 years old\n"
     ]
    }
   ],
   "source": [
    "func('vishal',22)"
   ]
  },
  {
   "cell_type": "code",
   "execution_count": 20,
   "id": "ac577e23",
   "metadata": {},
   "outputs": [
    {
     "name": "stdout",
     "output_type": "stream",
     "text": [
      "my name is vishal and I am 22 years old and my ahmedabad city and\n",
      "          my degree is B.sc chemistry and my course in data analytics in ahmedabad\n"
     ]
    }
   ],
   "source": [
    "def func(name, age, city, mobile, degree, course):\n",
    "    print(f'''my name is {name} and I am {age} years old and my {city} city and\n",
    "          my degree is {degree} and my course in {course} in ahmedabad''')\n",
    "          \n",
    "func('vishal',22,'ahmedabad',7887,'B.sc chemistry','data analytics')"
   ]
  },
  {
   "cell_type": "code",
   "execution_count": 21,
   "id": "bbf54a9f",
   "metadata": {},
   "outputs": [
    {
     "name": "stdout",
     "output_type": "stream",
     "text": [
      "my name is vishal and I am 22 years old and my ahmedabad city and\n",
      "          my degree is B.sc chemistry and my course in data analytics in ahmedabad\n"
     ]
    }
   ],
   "source": [
    "# keyword argument\n",
    "\n",
    "def func(name, age, city, mobile, degree, course):\n",
    "    print(f'''my name is {name} and I am {age} years old and my {city} city and\n",
    "          my degree is {degree} and my course in {course} in ahmedabad''')\n",
    "\n",
    "func(mobile=7887, name='vishal', age=22, city='ahmedabad', course= 'data analytics', degree='B.sc chemistry')"
   ]
  },
  {
   "cell_type": "code",
   "execution_count": 25,
   "id": "57af95e5",
   "metadata": {},
   "outputs": [
    {
     "name": "stdout",
     "output_type": "stream",
     "text": [
      "vishal 22\n"
     ]
    }
   ],
   "source": [
    "# default argument\n",
    "\n",
    "def func(name, age, city=None):\n",
    "    if city:\n",
    "        print(name, age, city)\n",
    "    else:\n",
    "        print(name, age)\n",
    "\n",
    "func('vishal', 22)"
   ]
  },
  {
   "cell_type": "code",
   "execution_count": 26,
   "id": "c4c9a09e",
   "metadata": {},
   "outputs": [
    {
     "name": "stdout",
     "output_type": "stream",
     "text": [
      "vishal 22 ahmedabad\n"
     ]
    }
   ],
   "source": [
    "def func(name, age, city=None):\n",
    "    if city:\n",
    "        print(name, age, city)\n",
    "    else:\n",
    "        print(name, age)\n",
    "\n",
    "func('vishal', 22, 'ahmedabad')"
   ]
  },
  {
   "cell_type": "code",
   "execution_count": 30,
   "id": "55a3e74b",
   "metadata": {},
   "outputs": [],
   "source": [
    "s = 'hello'"
   ]
  },
  {
   "cell_type": "code",
   "execution_count": 33,
   "id": "747c20b6",
   "metadata": {},
   "outputs": [
    {
     "name": "stdout",
     "output_type": "stream",
     "text": [
      "h e l l o "
     ]
    }
   ],
   "source": [
    "for i in s:\n",
    "    print(i, end=' ')"
   ]
  },
  {
   "cell_type": "code",
   "execution_count": 34,
   "id": "443b6382",
   "metadata": {},
   "outputs": [
    {
     "name": "stdout",
     "output_type": "stream",
     "text": [
      "h e l l o\n"
     ]
    }
   ],
   "source": [
    "print(*s)"
   ]
  },
  {
   "cell_type": "code",
   "execution_count": 36,
   "id": "dca3e23e",
   "metadata": {},
   "outputs": [
    {
     "data": {
      "text/plain": [
       "['h', 'e', 'l', 'l', 'o']"
      ]
     },
     "execution_count": 36,
     "metadata": {},
     "output_type": "execute_result"
    }
   ],
   "source": [
    "[*s]"
   ]
  },
  {
   "cell_type": "code",
   "execution_count": 48,
   "id": "f64276a0",
   "metadata": {},
   "outputs": [],
   "source": [
    "def func():\n",
    "    return 'hello'\n",
    "    "
   ]
  },
  {
   "cell_type": "code",
   "execution_count": 49,
   "id": "184cf18b",
   "metadata": {},
   "outputs": [
    {
     "data": {
      "text/plain": [
       "'hello'"
      ]
     },
     "execution_count": 49,
     "metadata": {},
     "output_type": "execute_result"
    }
   ],
   "source": [
    "func()"
   ]
  },
  {
   "cell_type": "code",
   "execution_count": 50,
   "id": "d93876bd",
   "metadata": {},
   "outputs": [],
   "source": [
    "a = func()"
   ]
  },
  {
   "cell_type": "code",
   "execution_count": 51,
   "id": "e0be0471",
   "metadata": {},
   "outputs": [
    {
     "data": {
      "text/plain": [
       "'hello'"
      ]
     },
     "execution_count": 51,
     "metadata": {},
     "output_type": "execute_result"
    }
   ],
   "source": [
    "a"
   ]
  },
  {
   "cell_type": "code",
   "execution_count": 53,
   "id": "ba5ba518",
   "metadata": {},
   "outputs": [
    {
     "data": {
      "text/plain": [
       "['h', 'e', 'l', 'l', 'o']"
      ]
     },
     "execution_count": 53,
     "metadata": {},
     "output_type": "execute_result"
    }
   ],
   "source": [
    "[*a]"
   ]
  },
  {
   "cell_type": "code",
   "execution_count": 56,
   "id": "40fa9682",
   "metadata": {},
   "outputs": [
    {
     "name": "stdout",
     "output_type": "stream",
     "text": [
      "{'name': 'vishal'}\n"
     ]
    }
   ],
   "source": [
    "# arbitrary keyword argument list - **kwargs\n",
    "\n",
    "def func(**name):\n",
    "    print(name)\n",
    "    \n",
    "func(name='vishal')"
   ]
  },
  {
   "cell_type": "code",
   "execution_count": 66,
   "id": "57c48785",
   "metadata": {
    "scrolled": true
   },
   "outputs": [
    {
     "data": {
      "text/plain": [
       "{'age': 22, 'name': 'vishal'}"
      ]
     },
     "execution_count": 66,
     "metadata": {},
     "output_type": "execute_result"
    }
   ],
   "source": [
    "def func(age,**name):\n",
    "    a = {'age':age}\n",
    "    \n",
    "    a.update(name)\n",
    "    return a\n",
    "\n",
    "func(22, name='vishal')"
   ]
  },
  {
   "cell_type": "code",
   "execution_count": 67,
   "id": "5496f31f",
   "metadata": {},
   "outputs": [
    {
     "data": {
      "text/plain": [
       "11"
      ]
     },
     "execution_count": 67,
     "metadata": {},
     "output_type": "execute_result"
    }
   ],
   "source": [
    "def func(x, y, *num):\n",
    "    s = x + y\n",
    "    for i in num:\n",
    "        s += i\n",
    "        \n",
    "        return s\n",
    "    \n",
    "func(1,4,6,7,3)"
   ]
  },
  {
   "cell_type": "code",
   "execution_count": 5,
   "id": "a803d718",
   "metadata": {},
   "outputs": [
    {
     "data": {
      "text/plain": [
       "78"
      ]
     },
     "execution_count": 5,
     "metadata": {},
     "output_type": "execute_result"
    }
   ],
   "source": [
    "def func(x,y, * a):\n",
    "    s = x + y\n",
    "    for i in a:\n",
    "        s += i\n",
    "        \n",
    "        return s\n",
    "    \n",
    "func(46,27,5)"
   ]
  },
  {
   "cell_type": "code",
   "execution_count": 6,
   "id": "42a89c2d",
   "metadata": {},
   "outputs": [
    {
     "name": "stdout",
     "output_type": "stream",
     "text": [
      "hello python\n"
     ]
    }
   ],
   "source": [
    "def func():\n",
    "    print('hello python')\n",
    "    \n",
    "func()"
   ]
  },
  {
   "cell_type": "code",
   "execution_count": 7,
   "id": "e8f4ce5c",
   "metadata": {},
   "outputs": [
    {
     "data": {
      "text/plain": [
       "'hello python'"
      ]
     },
     "execution_count": 7,
     "metadata": {},
     "output_type": "execute_result"
    }
   ],
   "source": [
    "def func():\n",
    "    return 'hello python'\n",
    "\n",
    "func()"
   ]
  },
  {
   "cell_type": "code",
   "execution_count": 8,
   "id": "a398cb36",
   "metadata": {},
   "outputs": [
    {
     "name": "stdout",
     "output_type": "stream",
     "text": [
      "hello\n"
     ]
    }
   ],
   "source": [
    "def func():\n",
    "    x = 'hello'\n",
    "    print(x)\n",
    "    \n",
    "func()"
   ]
  },
  {
   "cell_type": "code",
   "execution_count": 9,
   "id": "4a86b380",
   "metadata": {},
   "outputs": [
    {
     "data": {
      "text/plain": [
       "'hello'"
      ]
     },
     "execution_count": 9,
     "metadata": {},
     "output_type": "execute_result"
    }
   ],
   "source": [
    "def func():\n",
    "    x = 'hello'\n",
    "    return x\n",
    "\n",
    "func()"
   ]
  },
  {
   "cell_type": "code",
   "execution_count": 10,
   "id": "bf198f52",
   "metadata": {},
   "outputs": [
    {
     "name": "stdout",
     "output_type": "stream",
     "text": [
      "9\n",
      "1\n"
     ]
    }
   ],
   "source": [
    "def func():\n",
    "    x = 5\n",
    "    y = 4\n",
    "    print(x + y)\n",
    "    print(x - y)\n",
    "    \n",
    "func()"
   ]
  },
  {
   "cell_type": "markdown",
   "id": "908b6b0e",
   "metadata": {},
   "source": [
    "## func"
   ]
  },
  {
   "cell_type": "code",
   "execution_count": 13,
   "id": "b7ae4fc4",
   "metadata": {},
   "outputs": [
    {
     "name": "stdout",
     "output_type": "stream",
     "text": [
      "enter number3\n",
      "3 * 1 = 3\n",
      "3 * 2 = 6\n",
      "3 * 3 = 9\n",
      "3 * 4 = 12\n",
      "3 * 5 = 15\n",
      "3 * 6 = 18\n",
      "3 * 7 = 21\n",
      "3 * 8 = 24\n",
      "3 * 9 = 27\n",
      "3 * 10 = 30\n"
     ]
    }
   ],
   "source": [
    "def func():\n",
    "    t = int(input('enter number'))\n",
    "    for i in range(1,11):\n",
    "        print(f'{t} * {i} = {t * i}')\n",
    "        \n",
    "func()"
   ]
  },
  {
   "cell_type": "code",
   "execution_count": 21,
   "id": "fee8e420",
   "metadata": {},
   "outputs": [
    {
     "name": "stdout",
     "output_type": "stream",
     "text": [
      "a: 1 b: 2\n"
     ]
    }
   ],
   "source": [
    "def func(a, b,):\n",
    "    print('a:',a,'b:',b)\n",
    "    \n",
    "func(1,2)"
   ]
  },
  {
   "cell_type": "code",
   "execution_count": 1,
   "id": "c97bf2ba",
   "metadata": {},
   "outputs": [
    {
     "name": "stdout",
     "output_type": "stream",
     "text": [
      "hello\n",
      "python\n"
     ]
    }
   ],
   "source": [
    "def func():\n",
    "    print('hello')\n",
    "    print('python')\n",
    "    \n",
    "func()"
   ]
  },
  {
   "cell_type": "code",
   "execution_count": 3,
   "id": "9047056b",
   "metadata": {},
   "outputs": [
    {
     "data": {
      "text/plain": [
       "'hello'"
      ]
     },
     "execution_count": 3,
     "metadata": {},
     "output_type": "execute_result"
    }
   ],
   "source": [
    "def func():\n",
    "    return('hello')\n",
    "    return('python')\n",
    "    \n",
    "func()"
   ]
  },
  {
   "cell_type": "code",
   "execution_count": 4,
   "id": "386a8cf3",
   "metadata": {},
   "outputs": [
    {
     "name": "stdout",
     "output_type": "stream",
     "text": [
      "enter your namevishal\n",
      "vishal are you fine\n"
     ]
    }
   ],
   "source": [
    "def hello(name):\n",
    "    print(name + ' ' + 'are you fine')\n",
    "    \n",
    "hello(input('enter your name'))"
   ]
  },
  {
   "cell_type": "code",
   "execution_count": 5,
   "id": "2a7f4f29",
   "metadata": {},
   "outputs": [
    {
     "name": "stdout",
     "output_type": "stream",
     "text": [
      "enter your namevishal\n",
      "vishal are you fine\n",
      "hello vishal are you fine\n"
     ]
    }
   ],
   "source": [
    "def hello(name):\n",
    "    print(name + ' ' + 'are you fine')\n",
    "    print('hello ' + name +' are you fine' )\n",
    "    \n",
    "hello(input('enter your name'))"
   ]
  },
  {
   "cell_type": "code",
   "execution_count": 2,
   "id": "e6866366",
   "metadata": {},
   "outputs": [
    {
     "name": "stdout",
     "output_type": "stream",
     "text": [
      "enter your name : vishal\n",
      "enter your age: 22\n",
      "enter your mobile: 7887\n",
      "my name is: vishal\n",
      "my age is: 22\n",
      "my mobile no.is: 7887\n"
     ]
    }
   ],
   "source": [
    "def hello(name, age, mobile):\n",
    "    print('my name is: ' + name )\n",
    "    print('my age is: ' + age)\n",
    "    print('my mobile no.is: ' + mobile)\n",
    "    \n",
    "hello(input('enter your name : '),input('enter your age: '),input('enter your mobile: '))"
   ]
  },
  {
   "cell_type": "code",
   "execution_count": 1,
   "id": "5fef54ba",
   "metadata": {},
   "outputs": [
    {
     "name": "stdout",
     "output_type": "stream",
     "text": [
      "enter your name : vishal\n",
      "enter your age22\n",
      "enter your mobile7887\n",
      "my name is: vishal\n",
      "my age is: 22\n",
      "my mobile no.is: 7887\n"
     ]
    }
   ],
   "source": [
    "def hello(name, age, mobile):\n",
    "    print('my name is: ' + name )\n",
    "    print('my age is: ' + age)\n",
    "    print('my mobile no.is: ' + mobile)\n",
    "    \n",
    "hello(input('enter your name : '),input('enter your age'),input('enter your mobile'))"
   ]
  },
  {
   "cell_type": "markdown",
   "id": "613ab5ab",
   "metadata": {},
   "source": [
    "# def"
   ]
  },
  {
   "cell_type": "markdown",
   "id": "de9104b7",
   "metadata": {},
   "source": [
    "### def"
   ]
  },
  {
   "cell_type": "code",
   "execution_count": 3,
   "id": "4719af6a",
   "metadata": {},
   "outputs": [
    {
     "name": "stdout",
     "output_type": "stream",
     "text": [
      "enter number5\n",
      "enter number4\n",
      "9\n"
     ]
    }
   ],
   "source": [
    "def addr():\n",
    "    x = int(input('enter number'))\n",
    "    y = int(input('enter number'))\n",
    "    print(x + y)\n",
    "    \n",
    "    \n",
    "addr()"
   ]
  },
  {
   "cell_type": "code",
   "execution_count": 4,
   "id": "66d4edde",
   "metadata": {},
   "outputs": [
    {
     "name": "stdout",
     "output_type": "stream",
     "text": [
      "enter number5\n",
      "enter number4\n"
     ]
    },
    {
     "data": {
      "text/plain": [
       "9"
      ]
     },
     "execution_count": 4,
     "metadata": {},
     "output_type": "execute_result"
    }
   ],
   "source": [
    "def addr():\n",
    "    x = int(input('enter number'))\n",
    "    y = int(input('enter number'))\n",
    "    return(x + y)\n",
    "    \n",
    "    \n",
    "addr()"
   ]
  },
  {
   "cell_type": "code",
   "execution_count": 7,
   "id": "ca2f4f3e",
   "metadata": {},
   "outputs": [
    {
     "name": "stdout",
     "output_type": "stream",
     "text": [
      "enter number: 5\n",
      "enter number: 4\n"
     ]
    },
    {
     "data": {
      "text/plain": [
       "(9, 20)"
      ]
     },
     "execution_count": 7,
     "metadata": {},
     "output_type": "execute_result"
    }
   ],
   "source": [
    "def addr():\n",
    "    x = int(input('enter number: '))\n",
    "    y = int(input('enter number: '))\n",
    "    z = x + y    # addition\n",
    "    a = x * y    # multiplication\n",
    "    return z, a\n",
    "\n",
    "addr()"
   ]
  },
  {
   "cell_type": "code",
   "execution_count": 15,
   "id": "0b0d3f9a",
   "metadata": {},
   "outputs": [
    {
     "data": {
      "text/plain": [
       "12"
      ]
     },
     "execution_count": 15,
     "metadata": {},
     "output_type": "execute_result"
    }
   ],
   "source": [
    "def multi(x,y,z):\n",
    "    return x + y + z\n",
    "\n",
    "multi(5,4,3)"
   ]
  },
  {
   "cell_type": "code",
   "execution_count": 16,
   "id": "8d17950d",
   "metadata": {},
   "outputs": [
    {
     "data": {
      "text/plain": [
       "6"
      ]
     },
     "execution_count": 16,
     "metadata": {},
     "output_type": "execute_result"
    }
   ],
   "source": [
    "def multi(x,y,z):\n",
    "    return x + y - z\n",
    "\n",
    "multi(5,4,3)"
   ]
  },
  {
   "cell_type": "code",
   "execution_count": 25,
   "id": "6c4d8b0c",
   "metadata": {},
   "outputs": [],
   "source": [
    "def info():\n",
    "    name = input('enter your name: ')\n",
    "    age = int(input('enter your age: '))\n",
    "    city = input('enter your city: ')\n",
    "    print('\\nname: ', name, '\\nage: ', age, '\\ncity: ',city)"
   ]
  },
  {
   "cell_type": "code",
   "execution_count": 26,
   "id": "b72da446",
   "metadata": {},
   "outputs": [
    {
     "name": "stdout",
     "output_type": "stream",
     "text": [
      "enter your name: vishal\n",
      "enter your age: 22\n",
      "enter your city: ahmedabad\n",
      "\n",
      "name:  vishal \n",
      "age:  22 \n",
      "city:  ahmedabad\n"
     ]
    }
   ],
   "source": [
    "info()"
   ]
  },
  {
   "cell_type": "code",
   "execution_count": 32,
   "id": "3611a650",
   "metadata": {},
   "outputs": [],
   "source": [
    "def calu():\n",
    "    even = []\n",
    "    odd = []\n",
    "    a = int(input('enter a number: '))\n",
    "    for i in range(1,a):\n",
    "        if i % 2 == 0:\n",
    "            even.append(i)\n",
    "        else:\n",
    "            odd.append(i)\n",
    "    else:\n",
    "        print(even,odd)"
   ]
  },
  {
   "cell_type": "code",
   "execution_count": 33,
   "id": "ec1dc80b",
   "metadata": {},
   "outputs": [
    {
     "name": "stdout",
     "output_type": "stream",
     "text": [
      "enter a number: 10\n",
      "[2, 4, 6, 8] [1, 3, 5, 7, 9]\n"
     ]
    }
   ],
   "source": [
    "calu()"
   ]
  },
  {
   "cell_type": "code",
   "execution_count": 41,
   "id": "ea4fed61",
   "metadata": {},
   "outputs": [],
   "source": [
    "def calu():\n",
    "    even = []\n",
    "    odd = []\n",
    "    a = int(input('enter a number: '))\n",
    "    for i in range(1,a):\n",
    "        if i % 2 == 0:\n",
    "            even.append(i)\n",
    "        else:\n",
    "            odd.append(i)\n",
    "    else:\n",
    "        print('even number: ',even, '\\nodd number: ',odd)"
   ]
  },
  {
   "cell_type": "code",
   "execution_count": 42,
   "id": "a3a096cb",
   "metadata": {},
   "outputs": [
    {
     "name": "stdout",
     "output_type": "stream",
     "text": [
      "enter a number: 100\n",
      "even number:  [2, 4, 6, 8, 10, 12, 14, 16, 18, 20, 22, 24, 26, 28, 30, 32, 34, 36, 38, 40, 42, 44, 46, 48, 50, 52, 54, 56, 58, 60, 62, 64, 66, 68, 70, 72, 74, 76, 78, 80, 82, 84, 86, 88, 90, 92, 94, 96, 98] \n",
      "odd number:  [1, 3, 5, 7, 9, 11, 13, 15, 17, 19, 21, 23, 25, 27, 29, 31, 33, 35, 37, 39, 41, 43, 45, 47, 49, 51, 53, 55, 57, 59, 61, 63, 65, 67, 69, 71, 73, 75, 77, 79, 81, 83, 85, 87, 89, 91, 93, 95, 97, 99]\n"
     ]
    }
   ],
   "source": [
    "calu()"
   ]
  },
  {
   "cell_type": "code",
   "execution_count": 51,
   "id": "069c440e",
   "metadata": {},
   "outputs": [],
   "source": [
    "def calu():\n",
    "    even = []\n",
    "    odd = []\n",
    "    a = int(input('enter a number: '))\n",
    "    for i in range(1,a):\n",
    "        if i % 2 == 0:\n",
    "            even.append(i)\n",
    "        else:\n",
    "            odd.append(i)\n",
    "    else:\n",
    "        return('even number: ',even, 'odd number: ',odd)"
   ]
  },
  {
   "cell_type": "code",
   "execution_count": 52,
   "id": "5f50c4ed",
   "metadata": {},
   "outputs": [
    {
     "name": "stdout",
     "output_type": "stream",
     "text": [
      "enter a number: 20\n"
     ]
    },
    {
     "data": {
      "text/plain": [
       "('even number: ',\n",
       " [2, 4, 6, 8, 10, 12, 14, 16, 18],\n",
       " 'odd number: ',\n",
       " [1, 3, 5, 7, 9, 11, 13, 15, 17, 19])"
      ]
     },
     "execution_count": 52,
     "metadata": {},
     "output_type": "execute_result"
    }
   ],
   "source": [
    "calu()"
   ]
  },
  {
   "cell_type": "code",
   "execution_count": 61,
   "id": "770ab9d3",
   "metadata": {},
   "outputs": [
    {
     "name": "stdout",
     "output_type": "stream",
     "text": [
      "1662474545584 outside\n",
      "4 inside\n",
      "1662474545552 inside\n",
      "5 outside\n"
     ]
    }
   ],
   "source": [
    "x = 5\n",
    "print(id(x),'outside')\n",
    "def con(x):\n",
    "    x = 4\n",
    "    print(x,'inside')\n",
    "    print(id(x),'inside')\n",
    "\n",
    "\n",
    "con(x)\n",
    "print(x,'outside')"
   ]
  },
  {
   "cell_type": "code",
   "execution_count": 65,
   "id": "b4be919b",
   "metadata": {},
   "outputs": [
    {
     "name": "stdout",
     "output_type": "stream",
     "text": [
      "1 , 2 , 3\n"
     ]
    }
   ],
   "source": [
    "def intro(*num):\n",
    "    print(num[0],',', num[1],',', num[2])\n",
    "    \n",
    "    \n",
    "intro(1,2,3)"
   ]
  },
  {
   "cell_type": "code",
   "execution_count": 73,
   "id": "fae41ebe",
   "metadata": {},
   "outputs": [],
   "source": [
    "def func(*num):\n",
    "    for i in num:\n",
    "        print('num: ', i, '\\n')\n",
    "        \n"
   ]
  },
  {
   "cell_type": "code",
   "execution_count": 74,
   "id": "5cd598e8",
   "metadata": {},
   "outputs": [
    {
     "name": "stdout",
     "output_type": "stream",
     "text": [
      "num:  1 \n",
      "\n",
      "num:  2 \n",
      "\n",
      "num:  3 \n",
      "\n",
      "num:  4 \n",
      "\n",
      "num:  5 \n",
      "\n",
      "num:  6 \n",
      "\n"
     ]
    }
   ],
   "source": [
    "func(1,2,3,4,5,6)"
   ]
  },
  {
   "cell_type": "code",
   "execution_count": 79,
   "id": "c9dcc7cf",
   "metadata": {},
   "outputs": [
    {
     "name": "stdout",
     "output_type": "stream",
     "text": [
      "[1, 2, 3, 4, 5, 6, 7, 8, 9, 10] \n",
      " [1, 4, 9, 16, 25, 36, 49, 64, 81, 100]\n"
     ]
    }
   ],
   "source": [
    "def seq(*num):\n",
    "    l1 = []\n",
    "    l2 = []\n",
    "    for i in num:\n",
    "        l1.append(i)\n",
    "        i = i ** 2\n",
    "        l2.append(i)\n",
    "    print(l1,'\\n',l2)\n",
    "        \n",
    "        \n",
    "seq(1,2,3,4,5,6,7,8,9,10)"
   ]
  },
  {
   "cell_type": "code",
   "execution_count": 4,
   "id": "ab001482",
   "metadata": {},
   "outputs": [
    {
     "name": "stdout",
     "output_type": "stream",
     "text": [
      "vishal\n"
     ]
    }
   ],
   "source": [
    "def func(name):\n",
    "    print(name)\n",
    "    \n",
    "func('vishal')"
   ]
  },
  {
   "cell_type": "code",
   "execution_count": 6,
   "id": "d15f4d96",
   "metadata": {},
   "outputs": [
    {
     "name": "stdout",
     "output_type": "stream",
     "text": [
      "a\n",
      "aa\n",
      "aaa\n",
      "aaaa\n"
     ]
    }
   ],
   "source": [
    "def func():\n",
    "    for i in range(1,5):\n",
    "        \n",
    "        print('a' * i)\n",
    "        \n",
    "func()"
   ]
  },
  {
   "cell_type": "code",
   "execution_count": 8,
   "id": "8ad1c7cb",
   "metadata": {},
   "outputs": [
    {
     "name": "stdout",
     "output_type": "stream",
     "text": [
      "a  a\n",
      "a a  a a\n",
      "a a a  a a a\n",
      "a a a a  a a a a\n",
      "a a a a a  a a a a a\n"
     ]
    }
   ],
   "source": [
    "def func():\n",
    "    for i in range(1,6):\n",
    "        print('a ' * i + ' a' * i)\n",
    "        \n",
    "        \n",
    "func()"
   ]
  },
  {
   "cell_type": "code",
   "execution_count": null,
   "id": "756ad183",
   "metadata": {},
   "outputs": [],
   "source": []
  }
 ],
 "metadata": {
  "kernelspec": {
   "display_name": "Python 3 (ipykernel)",
   "language": "python",
   "name": "python3"
  },
  "language_info": {
   "codemirror_mode": {
    "name": "ipython",
    "version": 3
   },
   "file_extension": ".py",
   "mimetype": "text/x-python",
   "name": "python",
   "nbconvert_exporter": "python",
   "pygments_lexer": "ipython3",
   "version": "3.9.12"
  }
 },
 "nbformat": 4,
 "nbformat_minor": 5
}
