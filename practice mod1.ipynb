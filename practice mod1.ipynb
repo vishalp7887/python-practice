{
 "cells": [
  {
   "cell_type": "code",
   "execution_count": 2,
   "id": "e7aaf33c",
   "metadata": {},
   "outputs": [
    {
     "name": "stdout",
     "output_type": "stream",
     "text": [
      "enter your number: 7\n",
      "Sum of the first 7 positive integers: 28.0\n"
     ]
    }
   ],
   "source": [
    "#sum of the first n positive integers.\n",
    "\n",
    "n = int(input(\"enter your number: \"))\n",
    "sum_num = (n * (n + 1)) / 2\n",
    "print(\"Sum of the first\", n ,\"positive integers:\", sum_num)"
   ]
  },
  {
   "cell_type": "code",
   "execution_count": 4,
   "id": "35a2ab97",
   "metadata": {},
   "outputs": [
    {
     "name": "stdout",
     "output_type": "stream",
     "text": [
      "Enter 1st number: 123\n",
      "enter 2nd number: 456\n",
      "before swapping a=123 b=456\n",
      "after swapping a=456 b=123\n"
     ]
    }
   ],
   "source": [
    "#swapping value with temp keyword\n",
    "\n",
    "a=int(input('Enter 1st number: '))\n",
    "b=int(input('enter 2nd number: '))\n",
    "print(f'before swapping a={a} b={b}')\n",
    "temp=a\n",
    "a=b\n",
    "b=temp\n",
    "print(f'after swapping a={a} b={b}')\n"
   ]
  },
  {
   "cell_type": "code",
   "execution_count": 3,
   "id": "7740636e",
   "metadata": {},
   "outputs": [
    {
     "name": "stdout",
     "output_type": "stream",
     "text": [
      "enter your string: typing\n",
      "typingly\n"
     ]
    }
   ],
   "source": [
    "# add 'ing' at the end (length should be at least 3) string already ends with 'ing' then add 'ly'.\n",
    "\n",
    "s = input('enter your string: ')\n",
    "\n",
    "l = len(s)\n",
    "  \n",
    "if l > 2:\n",
    "    if s[-3:] == 'ing':\n",
    "      s += 'ly'\n",
    "    else:\n",
    "      s += 'ing'\n",
    "    print(s)"
   ]
  },
  {
   "cell_type": "code",
   "execution_count": 34,
   "id": "2bad9389",
   "metadata": {},
   "outputs": [
    {
     "name": "stdout",
     "output_type": "stream",
     "text": [
      "second smallest number in: 3\n"
     ]
    }
   ],
   "source": [
    "# second smallest number in a list.\n",
    "\n",
    "l = [1,6,3,73,7,3]\n",
    "l.sort()\n",
    "print('second smallest number in:',l[1])"
   ]
  },
  {
   "cell_type": "code",
   "execution_count": 35,
   "id": "5e013bfe",
   "metadata": {},
   "outputs": [
    {
     "name": "stdout",
     "output_type": "stream",
     "text": [
      "[5, 10, 1, 23, 41]\n"
     ]
    }
   ],
   "source": [
    "# get unique values from a list.\n",
    "\n",
    "l = [5,10,5,1,23,41,5,10]\n",
    "l2 =list()\n",
    "\n",
    "for i in l:\n",
    "    if i not in l2:\n",
    "        l2.append(i)\n",
    "else:\n",
    "    print(l2)"
   ]
  },
  {
   "cell_type": "code",
   "execution_count": 86,
   "id": "8d819baa",
   "metadata": {},
   "outputs": [
    {
     "name": "stdout",
     "output_type": "stream",
     "text": [
      "[(1, 4, 9), (2, 7, 3)]\n"
     ]
    }
   ],
   "source": [
    "# unzip a list of tuples into individual lists.\n",
    "\n",
    "l = [(1,2),(4,7),(9,3)]\n",
    "\n",
    "print(list(zip(*l)))"
   ]
  },
  {
   "cell_type": "code",
   "execution_count": 44,
   "id": "2119d045",
   "metadata": {},
   "outputs": [
    {
     "name": "stdout",
     "output_type": "stream",
     "text": [
      "{1: 2, 4: 7, 9: 3}\n"
     ]
    }
   ],
   "source": [
    "# convert a list of tuples into a dictionary\n",
    "\n",
    "l = [(1,2),(4,7),(9,3)]\n",
    "\n",
    "l = dict(l)\n",
    "\n",
    "print(l)"
   ]
  },
  {
   "cell_type": "code",
   "execution_count": 87,
   "id": "a1e86415",
   "metadata": {},
   "outputs": [
    {
     "name": "stdout",
     "output_type": "stream",
     "text": [
      "[('a', 1), ('b', 2), ('c', 3), ('d', 4)]\n"
     ]
    }
   ],
   "source": [
    "# sort a dictionary (ascending /descending) by value.\n",
    "d = {'c': 3,'a': 1,'d': 4,'b': 2}\n",
    " \n",
    "s = sorted([(key, value)\n",
    " for (key, value) in d.items()])\n",
    " \n",
    "print(s)"
   ]
  },
  {
   "cell_type": "code",
   "execution_count": null,
   "id": "e3c071ab",
   "metadata": {},
   "outputs": [],
   "source": []
  },
  {
   "cell_type": "code",
   "execution_count": null,
   "id": "b90fc4e3",
   "metadata": {},
   "outputs": [],
   "source": [
    "string = input('enter your string')\n",
    "\n",
    "string = string.split() \n",
    "\n",
    "i = 0\n",
    "count = 0\n",
    "\n",
    "while i < len(string):\n",
    "    count = 0\n",
    "    for x in string:\n",
    "        if string[i] == x:\n",
    "           count += 1\n",
    "    print(count)\n",
    "    i = i +1"
   ]
  },
  {
   "cell_type": "code",
   "execution_count": null,
   "id": "8ac5fc8a",
   "metadata": {},
   "outputs": [],
   "source": [
    "x = 5"
   ]
  },
  {
   "cell_type": "code",
   "execution_count": null,
   "id": "31c90c63",
   "metadata": {},
   "outputs": [],
   "source": []
  }
 ],
 "metadata": {
  "kernelspec": {
   "display_name": "Python 3 (ipykernel)",
   "language": "python",
   "name": "python3"
  },
  "language_info": {
   "codemirror_mode": {
    "name": "ipython",
    "version": 3
   },
   "file_extension": ".py",
   "mimetype": "text/x-python",
   "name": "python",
   "nbconvert_exporter": "python",
   "pygments_lexer": "ipython3",
   "version": "3.9.12"
  }
 },
 "nbformat": 4,
 "nbformat_minor": 5
}
