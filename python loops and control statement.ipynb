{
 "cells": [
  {
   "cell_type": "code",
   "execution_count": 1,
   "id": "c0a70f85",
   "metadata": {},
   "outputs": [],
   "source": [
    "# loops - 1.for ,2.while"
   ]
  },
  {
   "cell_type": "code",
   "execution_count": 2,
   "id": "766e8233",
   "metadata": {},
   "outputs": [
    {
     "name": "stdout",
     "output_type": "stream",
     "text": [
      "h\n",
      "e\n",
      "l\n",
      "l\n",
      "o\n"
     ]
    }
   ],
   "source": [
    "for i in 'hello':\n",
    "    print(i)"
   ]
  },
  {
   "cell_type": "code",
   "execution_count": 4,
   "id": "64323d1c",
   "metadata": {},
   "outputs": [
    {
     "name": "stdout",
     "output_type": "stream",
     "text": [
      "1\n",
      "2\n",
      "3\n",
      "4\n",
      "5\n",
      "6\n",
      "7\n",
      "8\n",
      "9\n",
      "10\n"
     ]
    }
   ],
   "source": [
    "for i in range(1,11):\n",
    "    print(i)"
   ]
  },
  {
   "cell_type": "code",
   "execution_count": 5,
   "id": "a8acd5fe",
   "metadata": {},
   "outputs": [
    {
     "name": "stdout",
     "output_type": "stream",
     "text": [
      "1 2 3 4 5 6 7 8 9 10 "
     ]
    }
   ],
   "source": [
    "for i in range(1,11):\n",
    "    print(i , end=' ')"
   ]
  },
  {
   "cell_type": "code",
   "execution_count": 6,
   "id": "3d77ead1",
   "metadata": {},
   "outputs": [
    {
     "name": "stdout",
     "output_type": "stream",
     "text": [
      "3\n",
      "6\n",
      "9\n",
      "12\n",
      "15\n",
      "18\n",
      "21\n",
      "24\n",
      "27\n",
      "30\n"
     ]
    }
   ],
   "source": [
    "t = 3\n",
    "\n",
    "for i in range(1,11):\n",
    "    print(i * t)"
   ]
  },
  {
   "cell_type": "code",
   "execution_count": 8,
   "id": "536f0e4b",
   "metadata": {},
   "outputs": [
    {
     "name": "stdout",
     "output_type": "stream",
     "text": [
      "3 * 1 = 3\n",
      "3 * 2 = 6\n",
      "3 * 3 = 9\n",
      "3 * 4 = 12\n",
      "3 * 5 = 15\n",
      "3 * 6 = 18\n",
      "3 * 7 = 21\n",
      "3 * 8 = 24\n",
      "3 * 9 = 27\n",
      "3 * 10 = 30\n"
     ]
    }
   ],
   "source": [
    "for i in range(1,11):\n",
    "    print(f'{t} * {i} = {t * i}')"
   ]
  },
  {
   "cell_type": "code",
   "execution_count": 9,
   "id": "848f2b55",
   "metadata": {},
   "outputs": [
    {
     "name": "stdout",
     "output_type": "stream",
     "text": [
      "1\n",
      "4\n",
      "7\n",
      "10\n",
      "13\n",
      "16\n",
      "19\n",
      "22\n",
      "25\n",
      "28\n",
      "31\n",
      "34\n",
      "37\n",
      "40\n",
      "43\n"
     ]
    }
   ],
   "source": [
    "for i in range(1,44,3):\n",
    "    print(i)"
   ]
  },
  {
   "cell_type": "code",
   "execution_count": 10,
   "id": "888dd699",
   "metadata": {},
   "outputs": [
    {
     "name": "stdout",
     "output_type": "stream",
     "text": [
      "11\n",
      "10\n",
      "9\n",
      "8\n",
      "7\n",
      "6\n",
      "5\n",
      "4\n",
      "3\n",
      "2\n"
     ]
    }
   ],
   "source": [
    "for i in range(11,1,-1):\n",
    "    print(i)"
   ]
  },
  {
   "cell_type": "code",
   "execution_count": 11,
   "id": "4c1899a4",
   "metadata": {},
   "outputs": [
    {
     "name": "stdout",
     "output_type": "stream",
     "text": [
      "11 10 9 8 7 6 5 4 3 2 "
     ]
    }
   ],
   "source": [
    "for i in range(11,1,-1):\n",
    "    print(i ,end=' ')"
   ]
  },
  {
   "cell_type": "code",
   "execution_count": null,
   "id": "21696331",
   "metadata": {},
   "outputs": [],
   "source": [
    "\n",
    "    "
   ]
  },
  {
   "cell_type": "code",
   "execution_count": 2,
   "id": "958e960c",
   "metadata": {},
   "outputs": [
    {
     "name": "stdout",
     "output_type": "stream",
     "text": [
      "*\n",
      "**\n",
      "***\n",
      "****\n",
      "*****\n",
      "******\n",
      "*******\n",
      "********\n",
      "*********\n",
      "**********\n"
     ]
    }
   ],
   "source": [
    "for i in range(1,11):\n",
    "    print('*' * i)"
   ]
  },
  {
   "cell_type": "code",
   "execution_count": 4,
   "id": "74a14136",
   "metadata": {},
   "outputs": [
    {
     "name": "stdout",
     "output_type": "stream",
     "text": [
      "0\n",
      "1\n",
      "2\n",
      "3\n",
      "4\n",
      "5\n",
      "6\n",
      "7\n",
      "8\n",
      "9\n"
     ]
    }
   ],
   "source": [
    "i = 0\n",
    "while i < 10:\n",
    "    print(i)\n",
    "    i += 1"
   ]
  },
  {
   "cell_type": "code",
   "execution_count": 1,
   "id": "a264f7a5",
   "metadata": {},
   "outputs": [
    {
     "data": {
      "text/plain": [
       "118"
      ]
     },
     "execution_count": 1,
     "metadata": {},
     "output_type": "execute_result"
    }
   ],
   "source": [
    "ord('v')"
   ]
  },
  {
   "cell_type": "code",
   "execution_count": 2,
   "id": "0d86c0b2",
   "metadata": {},
   "outputs": [
    {
     "name": "stdout",
     "output_type": "stream",
     "text": [
      "118\n",
      "105\n",
      "115\n",
      "104\n",
      "97\n",
      "108\n"
     ]
    }
   ],
   "source": [
    "name = 'vishal'\n",
    "\n",
    "for i in name:\n",
    "    print(ord(i))"
   ]
  },
  {
   "cell_type": "code",
   "execution_count": 3,
   "id": "ede19121",
   "metadata": {},
   "outputs": [
    {
     "data": {
      "text/plain": [
       "'vishal'"
      ]
     },
     "execution_count": 3,
     "metadata": {},
     "output_type": "execute_result"
    }
   ],
   "source": [
    "name"
   ]
  },
  {
   "cell_type": "code",
   "execution_count": 4,
   "id": "59d4c066",
   "metadata": {},
   "outputs": [
    {
     "name": "stdout",
     "output_type": "stream",
     "text": [
      "v\n",
      "i\n",
      "s\n",
      "h\n",
      "a\n",
      "l\n"
     ]
    }
   ],
   "source": [
    "for i in name:\n",
    "    print(i)"
   ]
  },
  {
   "cell_type": "code",
   "execution_count": 5,
   "id": "42d832b5",
   "metadata": {},
   "outputs": [
    {
     "name": "stdout",
     "output_type": "stream",
     "text": [
      "118 v\n",
      "105 i\n",
      "115 s\n",
      "104 h\n",
      "97 a\n",
      "108 l\n"
     ]
    }
   ],
   "source": [
    "for i in name:\n",
    "    print(ord(i),chr(ord(i)))"
   ]
  },
  {
   "cell_type": "code",
   "execution_count": 6,
   "id": "da1f7db0",
   "metadata": {},
   "outputs": [
    {
     "data": {
      "text/plain": [
       "97"
      ]
     },
     "execution_count": 6,
     "metadata": {},
     "output_type": "execute_result"
    }
   ],
   "source": [
    "ord('a')"
   ]
  },
  {
   "cell_type": "code",
   "execution_count": 10,
   "id": "9f994b84",
   "metadata": {},
   "outputs": [
    {
     "data": {
      "text/plain": [
       "122"
      ]
     },
     "execution_count": 10,
     "metadata": {},
     "output_type": "execute_result"
    }
   ],
   "source": [
    "ord('z')"
   ]
  },
  {
   "cell_type": "code",
   "execution_count": 8,
   "id": "596945bd",
   "metadata": {},
   "outputs": [
    {
     "name": "stdout",
     "output_type": "stream",
     "text": [
      "86 V\n",
      "73 I\n",
      "83 S\n",
      "72 H\n",
      "65 A\n",
      "76 L\n"
     ]
    }
   ],
   "source": [
    "# convert to upper\n",
    "for i in name:\n",
    "    print(ord(i)-32 , chr(ord(i)-32))"
   ]
  },
  {
   "cell_type": "code",
   "execution_count": 9,
   "id": "26c300a5",
   "metadata": {},
   "outputs": [
    {
     "name": "stdout",
     "output_type": "stream",
     "text": [
      "118 v\n",
      "105 i\n",
      "115 s\n",
      "104 h\n",
      "97 a\n",
      "108 l\n"
     ]
    }
   ],
   "source": [
    "#convert to lower\n",
    "name ='VISHAL'\n",
    "\n",
    "for i in name:\n",
    "    print(ord(i)+32 , chr(ord(i)+32))"
   ]
  },
  {
   "cell_type": "code",
   "execution_count": 12,
   "id": "b05c00e0",
   "metadata": {},
   "outputs": [
    {
     "name": "stdout",
     "output_type": "stream",
     "text": [
      "already in lowercase\n",
      "already in lowercase\n",
      "already in lowercase\n",
      "already in lowercase\n",
      "already in lowercase\n",
      "vishal\n"
     ]
    }
   ],
   "source": [
    "name = 'vishal'\n",
    "\n",
    "for i in name:\n",
    "    if ord(i) > 97 and ord(i) < 122:\n",
    "        print('already in lowercase')\n",
    "else:\n",
    "    print(name)"
   ]
  },
  {
   "cell_type": "code",
   "execution_count": 19,
   "id": "eaa80ea3",
   "metadata": {},
   "outputs": [
    {
     "name": "stdout",
     "output_type": "stream",
     "text": [
      "already in lowercase\n"
     ]
    }
   ],
   "source": [
    "name = 'vishal'\n",
    "\n",
    "for i in name:\n",
    "    if ord(i) > 97 and ord(i) < 122:\n",
    "        print('already in lowercase')\n",
    "        break\n",
    "else:\n",
    "    print(name)"
   ]
  },
  {
   "cell_type": "code",
   "execution_count": 22,
   "id": "62c104f7",
   "metadata": {},
   "outputs": [
    {
     "name": "stdout",
     "output_type": "stream",
     "text": [
      "already in lowercase\n",
      "already in lowercase\n",
      "already in lowercase\n",
      "not lowercase\n"
     ]
    }
   ],
   "source": [
    "name = 'vishal'\n",
    "\n",
    "for i in name:\n",
    "    if ord(i) > 97 and ord(i) < 111:\n",
    "        print('already in lowercase')\n",
    "else:\n",
    "    print('not lowercase')"
   ]
  },
  {
   "cell_type": "code",
   "execution_count": 23,
   "id": "15780923",
   "metadata": {},
   "outputs": [
    {
     "name": "stdout",
     "output_type": "stream",
     "text": [
      "1\n",
      "2\n",
      "3\n",
      "4\n"
     ]
    }
   ],
   "source": [
    "for i in range(1,11):\n",
    "    if i == 5:\n",
    "        break\n",
    "    print(i)"
   ]
  },
  {
   "cell_type": "code",
   "execution_count": 24,
   "id": "2bca6562",
   "metadata": {},
   "outputs": [
    {
     "name": "stdout",
     "output_type": "stream",
     "text": [
      "0\n",
      "1\n",
      "2\n",
      "3\n",
      "4\n",
      "5\n"
     ]
    }
   ],
   "source": [
    "for i in range(11):\n",
    "    print(i)\n",
    "    if i ==5:\n",
    "        break"
   ]
  },
  {
   "cell_type": "code",
   "execution_count": 26,
   "id": "5baa876f",
   "metadata": {},
   "outputs": [
    {
     "name": "stdout",
     "output_type": "stream",
     "text": [
      "h\n",
      "e\n",
      "o\n"
     ]
    }
   ],
   "source": [
    "for i in 'hello':\n",
    "    if i == 'l':\n",
    "        continue\n",
    "    print(i)"
   ]
  },
  {
   "cell_type": "code",
   "execution_count": 30,
   "id": "d38c7c72",
   "metadata": {},
   "outputs": [],
   "source": [
    "for i in range(1,11):\n",
    "    pass"
   ]
  },
  {
   "cell_type": "code",
   "execution_count": 32,
   "id": "1869e97c",
   "metadata": {},
   "outputs": [
    {
     "name": "stdout",
     "output_type": "stream",
     "text": [
      "w\n",
      "e\n",
      "l\n",
      "c\n"
     ]
    }
   ],
   "source": [
    "\n",
    "string = 'welcome to india'\n",
    "f = 'o'\n",
    "\n",
    "for i in string:\n",
    "    if i == f:\n",
    "        break\n",
    "    print(i)"
   ]
  },
  {
   "cell_type": "code",
   "execution_count": 35,
   "id": "8642aa84",
   "metadata": {},
   "outputs": [
    {
     "name": "stdout",
     "output_type": "stream",
     "text": [
      "2\n"
     ]
    }
   ],
   "source": [
    "c = 0\n",
    "string = 'welcome to india'\n",
    "f = 'o'\n",
    "\n",
    "for i in string:\n",
    "    if i == f:\n",
    "        c += 1\n",
    "else:\n",
    "    print(c)"
   ]
  },
  {
   "cell_type": "code",
   "execution_count": 37,
   "id": "c3c9cc66",
   "metadata": {},
   "outputs": [
    {
     "name": "stdout",
     "output_type": "stream",
     "text": [
      "$ \n",
      "$ $ \n",
      "$ $ $ \n",
      "$ $ $ $ \n",
      "$ $ $ $ $ \n",
      "$ $ $ $ $ $ \n",
      "$ $ $ $ $ $ $ \n",
      "$ $ $ $ $ $ $ $ \n",
      "$ $ $ $ $ $ $ $ $ \n",
      "$ $ $ $ $ $ $ $ $ $ \n"
     ]
    }
   ],
   "source": [
    "for i in range(1,11):\n",
    "    print('$ '  * i)"
   ]
  },
  {
   "cell_type": "code",
   "execution_count": 38,
   "id": "d55a25e1",
   "metadata": {},
   "outputs": [
    {
     "name": "stdout",
     "output_type": "stream",
     "text": [
      "$ $ $ $ $ $ $ $ $ $ \n",
      "$ $ $ $ $ $ $ $ $ \n",
      "$ $ $ $ $ $ $ $ \n",
      "$ $ $ $ $ $ $ \n",
      "$ $ $ $ $ $ \n",
      "$ $ $ $ $ \n",
      "$ $ $ $ \n",
      "$ $ $ \n",
      "$ $ \n",
      "$ \n",
      "\n"
     ]
    }
   ],
   "source": [
    "for i in range(11):\n",
    "    print('$ ' * (10 - i))"
   ]
  },
  {
   "cell_type": "code",
   "execution_count": 47,
   "id": "8abccba9",
   "metadata": {},
   "outputs": [
    {
     "name": "stdout",
     "output_type": "stream",
     "text": [
      "$ $ $ $ $ $ $ $ $ $ $ $ $ $ $ $ $ $ $ $       $ $ $ $ $ $ $ $ $ $ $ $ $ $ $ $ $ $ $ $ \n",
      "$ $ $ $ $ $ $ $ $     $ $ $ $ $ $ $ $ $       $ $ $ $ $ $ $ $ $     $ $ $ $ $ $ $ $ $ \n",
      "$ $ $ $ $ $ $ $         $ $ $ $ $ $ $ $       $ $ $ $ $ $ $ $         $ $ $ $ $ $ $ $ \n",
      "$ $ $ $ $ $ $             $ $ $ $ $ $ $       $ $ $ $ $ $ $             $ $ $ $ $ $ $ \n",
      "$ $ $ $ $ $                 $ $ $ $ $ $       $ $ $ $ $ $                 $ $ $ $ $ $ \n",
      "$ $ $ $ $                     $ $ $ $ $       $ $ $ $ $                     $ $ $ $ $ \n",
      "$ $ $ $                         $ $ $ $       $ $ $ $                         $ $ $ $ \n",
      "$ $ $                             $ $ $       $ $ $                             $ $ $ \n",
      "$ $                                 $ $       $ $                                 $ $ \n",
      "$                                     $       $                                     $ \n",
      "                                                                                      \n"
     ]
    }
   ],
   "source": [
    "for i in range(11):\n",
    "    print('$ ' * (10 - i) + '  ' * i + '  ' * i + '$ ' *(10 - i) +'      ' +'$ ' * (10 - i) + '  ' * i + '  ' * i + '$ ' *(10 - i))    "
   ]
  },
  {
   "cell_type": "code",
   "execution_count": 60,
   "id": "abc37cc3",
   "metadata": {},
   "outputs": [
    {
     "name": "stdout",
     "output_type": "stream",
     "text": [
      "$ $ $ $ $ $ $ $ $ $ $ $ $ $ $ $ $ $ $ $       $ $ $ $ $ $ $ $ $ $ $ $ $ $ $ $ $ $ $ $ \n",
      "$ $ $ $ $ $ $ $ $     $ $ $ $ $ $ $ $ $       $ $ $ $ $ $ $ $ $     $ $ $ $ $ $ $ $ $ \n",
      "$ $ $ $ $ $ $ $         $ $ $ $ $ $ $ $       $ $ $ $ $ $ $ $         $ $ $ $ $ $ $ $ \n",
      "$ $ $ $ $ $ $             $ $ $ $ $ $ $       $ $ $ $ $ $ $             $ $ $ $ $ $ $ \n",
      "$ $ $ $ $ $                 $ $ $ $ $ $       $ $ $ $ $ $                 $ $ $ $ $ $ \n",
      "$ $ $ $ $                     $ $ $ $ $       $ $ $ $ $                     $ $ $ $ $ \n",
      "$ $ $ $                         $ $ $ $       $ $ $ $                         $ $ $ $ \n",
      "$ $ $                             $ $ $       $ $ $                             $ $ $ \n",
      "$ $                                 $ $       $ $                                 $ $ \n",
      "$                                     $       $                                     $ \n",
      "                                                                                      \n",
      "$ $ $ $ $ $ $ $ $ $ $ $ $ $ $ $ $ $ $ $       $ $ $ $ $ $ $ $ $ $ $ $ $ $ $ $ $ $ $ $ \n",
      "$ $ $ $ $ $ $ $ $     $ $ $ $ $ $ $ $ $       $ $ $ $ $ $ $ $ $     $ $ $ $ $ $ $ $ $ \n",
      "$ $ $ $ $ $ $ $         $ $ $ $ $ $ $ $       $ $ $ $ $ $ $ $         $ $ $ $ $ $ $ $ \n",
      "$ $ $ $ $ $ $             $ $ $ $ $ $ $       $ $ $ $ $ $ $             $ $ $ $ $ $ $ \n",
      "$ $ $ $ $ $                 $ $ $ $ $ $       $ $ $ $ $ $                 $ $ $ $ $ $ \n",
      "$ $ $ $ $                     $ $ $ $ $       $ $ $ $ $                     $ $ $ $ $ \n",
      "$ $ $ $                         $ $ $ $       $ $ $ $                         $ $ $ $ \n",
      "$ $ $                             $ $ $       $ $ $                             $ $ $ \n",
      "$ $                                 $ $       $ $                                 $ $ \n",
      "$                                     $       $                                     $ \n",
      "                                                                                      \n"
     ]
    }
   ],
   "source": [
    "for i in range(11):\n",
    "    print('$ ' * (10 - i) + '  ' * i + '  ' * i + '$ ' *(10 - i) +'      ' +'$ ' * (10 - i) + '  ' * i + '  ' * i + '$ ' *(10 - i))\n",
    "for i in range(11):\n",
    "    print('$ ' * (10 - i) + '  ' * i + '  ' * i + '$ ' *(10 - i) +'      ' +'$ ' * (10 - i) + '  ' * i + '  ' * i + '$ ' *(10 - i))    "
   ]
  },
  {
   "cell_type": "code",
   "execution_count": 62,
   "id": "0eef0603",
   "metadata": {},
   "outputs": [
    {
     "name": "stdout",
     "output_type": "stream",
     "text": [
      "\n",
      "$  $  \n",
      "$  $  $  $  \n",
      "$  $  $  $  $  $  \n",
      "$  $  $  $  $  $  $  $  \n",
      "$  $  $  $  $  $  $  $  $  $  \n",
      "$  $  $  $  $  $  $  $  $  $  $  $  \n",
      "$  $  $  $  $  $  $  $  $  $  $  $  $  $  \n",
      "$  $  $  $  $  $  $  $  $  $  $  $  $  $  $  $  \n",
      "$  $  $  $  $  $  $  $  $  $  $  $  $  $  $  $  $  $  \n",
      "$  $  $  $  $  $  $  $  $  $  $  $  $  $  $  $  $  $  $  $  \n"
     ]
    }
   ],
   "source": [
    "for i in range(11):\n",
    "    print('$  ' * i + '$  ' * i)"
   ]
  },
  {
   "cell_type": "code",
   "execution_count": 67,
   "id": "6c713eb6",
   "metadata": {},
   "outputs": [
    {
     "name": "stdout",
     "output_type": "stream",
     "text": [
      "0\n",
      "1\n",
      "2\n",
      "3\n",
      "4\n",
      "5\n",
      "6\n",
      "7\n",
      "8\n",
      "9\n",
      "10\n",
      "11\n",
      "12\n",
      "13\n",
      "14\n",
      "15\n",
      "16\n"
     ]
    }
   ],
   "source": [
    "t = 6\n",
    "\n",
    "for i in range((t+11)):\n",
    "    print(i)"
   ]
  },
  {
   "cell_type": "code",
   "execution_count": 75,
   "id": "30579682",
   "metadata": {},
   "outputs": [
    {
     "name": "stdout",
     "output_type": "stream",
     "text": [
      "enter your number2\n",
      "2 * 1 = 2\n",
      "2 * 2 = 4\n",
      "2 * 3 = 6\n",
      "2 * 4 = 8\n",
      "2 * 5 = 10\n",
      "2 * 6 = 12\n",
      "2 * 7 = 14\n",
      "2 * 8 = 16\n",
      "2 * 9 = 18\n",
      "2 * 10 = 20\n"
     ]
    }
   ],
   "source": [
    "t = int(input('enter your number'))\n",
    "\n",
    "for i in range(1,11):\n",
    "    print(f'{t} * {i} = {t * i}')\n",
    "    "
   ]
  },
  {
   "cell_type": "code",
   "execution_count": 76,
   "id": "440388a8",
   "metadata": {},
   "outputs": [
    {
     "name": "stdout",
     "output_type": "stream",
     "text": [
      "enter your number5\n",
      "5 * 1 = 5\n",
      "5 * 2 = 10\n",
      "5 * 3 = 15\n",
      "5 * 4 = 20\n",
      "5 * 5 = 25\n",
      "5 * 6 = 30\n",
      "5 * 7 = 35\n",
      "5 * 8 = 40\n",
      "5 * 9 = 45\n",
      "5 * 10 = 50\n"
     ]
    }
   ],
   "source": [
    "t = int(input('enter your number'))\n",
    "\n",
    "for i in range(1,11):\n",
    "    print(f'{t} * {i} = {t * i}')"
   ]
  },
  {
   "cell_type": "code",
   "execution_count": 77,
   "id": "4ed1f9c1",
   "metadata": {},
   "outputs": [
    {
     "name": "stdout",
     "output_type": "stream",
     "text": [
      "[22, 35, 46, 2, 21, 1, 3, 4, 32, 312]\n"
     ]
    }
   ],
   "source": [
    "l = [22,35,46,2,21,1,2,3,4,2,32,1,2,312,2]\n",
    "\n",
    "l2 = list()\n",
    "\n",
    "for i in l:\n",
    "  if i not in l2:\n",
    "    l2.append(i)\n",
    "else:\n",
    "  print(l2)"
   ]
  },
  {
   "cell_type": "code",
   "execution_count": null,
   "id": "1ad2a08b",
   "metadata": {},
   "outputs": [],
   "source": []
  }
 ],
 "metadata": {
  "kernelspec": {
   "display_name": "Python 3 (ipykernel)",
   "language": "python",
   "name": "python3"
  },
  "language_info": {
   "codemirror_mode": {
    "name": "ipython",
    "version": 3
   },
   "file_extension": ".py",
   "mimetype": "text/x-python",
   "name": "python",
   "nbconvert_exporter": "python",
   "pygments_lexer": "ipython3",
   "version": "3.9.12"
  }
 },
 "nbformat": 4,
 "nbformat_minor": 5
}
