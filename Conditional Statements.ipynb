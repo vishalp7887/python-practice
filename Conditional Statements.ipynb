{
 "cells": [
  {
   "cell_type": "code",
   "execution_count": 3,
   "id": "ecccec7c",
   "metadata": {},
   "outputs": [
    {
     "name": "stdout",
     "output_type": "stream",
     "text": [
      "Enter 1st Value: 4\n",
      "Enter 2nd Value: 4\n",
      "x is equal to y\n"
     ]
    }
   ],
   "source": [
    "x = input(\"Enter 1st Value: \")\n",
    "x = int(x)\n",
    "y = input(\"Enter 2nd Value: \")\n",
    "y = int(y)\n",
    "\n",
    "if x == y:\n",
    "    print('x is equal to y')"
   ]
  },
  {
   "cell_type": "code",
   "execution_count": 5,
   "id": "4a96ef15",
   "metadata": {},
   "outputs": [
    {
     "name": "stdout",
     "output_type": "stream",
     "text": [
      "a is greater than b\n"
     ]
    }
   ],
   "source": [
    "a = 3\n",
    "b = 5\n",
    "if a < b:\n",
    "    print('a is greater than b')"
   ]
  },
  {
   "cell_type": "code",
   "execution_count": 12,
   "id": "0f16d5b9",
   "metadata": {},
   "outputs": [
    {
     "name": "stdout",
     "output_type": "stream",
     "text": [
      "Enter a number: 3\n",
      "The number 3 is positive\n"
     ]
    }
   ],
   "source": [
    "a = input('Enter a number: ')\n",
    "a = int(a)              \n",
    "if a > 0:\n",
    "    print('The number', a, 'is positive')\n",
    "    if a % 2 == 0:\n",
    "        print('The Number', a, 'is also even')\n",
    "        if a > 10:\n",
    "            print('The number', a, 'is also greater than 10')"
   ]
  },
  {
   "cell_type": "code",
   "execution_count": 13,
   "id": "aff150a9",
   "metadata": {},
   "outputs": [
    {
     "name": "stdout",
     "output_type": "stream",
     "text": [
      "Enter a number: 4\n",
      "The number 4 is an Even number\n"
     ]
    }
   ],
   "source": [
    "a = int(input(\"Enter a number: \"))\n",
    "\n",
    "if a%2 == 0:\n",
    "    print('The number', a, 'is an Even number')\n",
    "else:\n",
    "    print('The number', a, 'is an Odd number')"
   ]
  },
  {
   "cell_type": "code",
   "execution_count": 14,
   "id": "0a7df059",
   "metadata": {},
   "outputs": [
    {
     "name": "stdout",
     "output_type": "stream",
     "text": [
      "Enter the value of x: 3\n",
      "Enter the value of y: 5\n",
      "\n",
      "y is greater than x\n",
      "\n",
      "(Running else block)\n"
     ]
    }
   ],
   "source": [
    "x = int(input('Enter the value of x: '))\n",
    "y = int(input('Enter the value of y: '))\n",
    "\n",
    "if x > y:\n",
    "    print('\\nx is greater than y\\n')\n",
    "    print('(Running if block)\\n')\n",
    "else:\n",
    "    print('\\ny is greater than x\\n')\n",
    "    print('(Running else block)')"
   ]
  },
  {
   "cell_type": "code",
   "execution_count": 15,
   "id": "ce7c46c0",
   "metadata": {},
   "outputs": [
    {
     "name": "stdout",
     "output_type": "stream",
     "text": [
      "Enter a value of a: 4\n",
      "Enter a value of b: 8\n",
      "a is smaller than b\n"
     ]
    }
   ],
   "source": [
    "a = int(input('Enter a value of a: '))\n",
    "b = int(input('Enter a value of b: '))\n",
    "\n",
    "if a > b: \n",
    "    print('a is greater than b')\n",
    "elif a < b:\n",
    "    print('a is smaller than b')\n",
    "else:\n",
    "    print('a and b are equal')"
   ]
  },
  {
   "cell_type": "code",
   "execution_count": 16,
   "id": "800cf05a",
   "metadata": {},
   "outputs": [
    {
     "name": "stdout",
     "output_type": "stream",
     "text": [
      "Enter a value of a: 5\n",
      "The given number is Positive\n",
      "5 is an Odd number\n"
     ]
    }
   ],
   "source": [
    "a = int(input('Enter a value of a: '))\n",
    "\n",
    "if a > 0:\n",
    "    print('The given number is Positive')\n",
    "    if a%2 == 0:\n",
    "        print(a, 'is an Even number')\n",
    "    else:\n",
    "        print(a, 'is an Odd number')\n",
    "elif a < 0:\n",
    "    print('The given number is Negative')\n",
    "    if a%2 == 0:\n",
    "        print(a, 'is a negative even')\n",
    "else:\n",
    "    print('The given number is Zero')"
   ]
  },
  {
   "cell_type": "code",
   "execution_count": 17,
   "id": "61b087bc",
   "metadata": {},
   "outputs": [
    {
     "name": "stdout",
     "output_type": "stream",
     "text": [
      "Enter a number between 1 and 7: 3\n",
      "3 for Tuesday\n"
     ]
    }
   ],
   "source": [
    "number = int(input('Enter a number between 1 and 7: '))\n",
    "if number == 1:\n",
    "    print('1 for Sunday')\n",
    "elif number == 2:\n",
    "    print('2 for Monday')\n",
    "elif number == 3:\n",
    "    print('3 for Tuesday')\n",
    "elif number == 4:\n",
    "    print('4 for Wednesday')\n",
    "elif number == 5:\n",
    "    print('5 for Thursday')\n",
    "elif number == 6:\n",
    "    print('6 for Friday')\n",
    "elif number == 7:\n",
    "    print('7 for Saturday')\n",
    "else:\n",
    "    print('Enter a number between 1 and 7: ')"
   ]
  },
  {
   "cell_type": "code",
   "execution_count": null,
   "id": "c3433f6a",
   "metadata": {},
   "outputs": [],
   "source": []
  }
 ],
 "metadata": {
  "kernelspec": {
   "display_name": "Python 3 (ipykernel)",
   "language": "python",
   "name": "python3"
  },
  "language_info": {
   "codemirror_mode": {
    "name": "ipython",
    "version": 3
   },
   "file_extension": ".py",
   "mimetype": "text/x-python",
   "name": "python",
   "nbconvert_exporter": "python",
   "pygments_lexer": "ipython3",
   "version": "3.9.12"
  }
 },
 "nbformat": 4,
 "nbformat_minor": 5
}
