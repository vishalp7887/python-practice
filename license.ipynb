{
 "cells": [
  {
   "cell_type": "code",
   "execution_count": 1,
   "id": "530ccb7e",
   "metadata": {},
   "outputs": [
    {
     "name": "stdout",
     "output_type": "stream",
     "text": [
      "vishal you can get the license\n"
     ]
    }
   ],
   "source": [
    "# can apply license or not\n",
    "\n",
    "name = input('name of license holder:')\n",
    "age = int(input('age of license holder:'))\n",
    "\n",
    "if age >= 18 :\n",
    "    print(name,'you can get the license')\n",
    "elif age <= 18:\n",
    "    print(name,'you can not get the license')\n"
   ]
  },
  {
   "cell_type": "code",
   "execution_count": 24,
   "id": "e041a739",
   "metadata": {},
   "outputs": [
    {
     "name": "stdout",
     "output_type": "stream",
     "text": [
      "vishal no upper age driving license\n"
     ]
    }
   ],
   "source": [
    "name = input('name of license holder:')\n",
    "age = int(input('age of license holder:'))\n",
    "\n",
    "if age <= 30:\n",
    "    print(name,'you can get the license')\n",
    "elif age <= 17:\n",
    "    print(name,'you can not get the license')\n",
    "elif age <= 50 :\n",
    "    print('the license to valid till 10 years')\n",
    "elif age <= 70:\n",
    "    print(name,'from 50 to 70 age it is valid until the holder')\n",
    "elif age >= 71:\n",
    "    print(name,'no upper age driving license')\n",
    "else:\n",
    "    print('not a age')"
   ]
  },
  {
   "cell_type": "code",
   "execution_count": null,
   "id": "1b9591c2",
   "metadata": {},
   "outputs": [],
   "source": []
  },
  {
   "cell_type": "code",
   "execution_count": null,
   "id": "21e124f4",
   "metadata": {},
   "outputs": [],
   "source": []
  }
 ],
 "metadata": {
  "kernelspec": {
   "display_name": "Python 3.10.6 64-bit",
   "language": "python",
   "name": "python3"
  },
  "language_info": {
   "codemirror_mode": {
    "name": "ipython",
    "version": 3
   },
   "file_extension": ".py",
   "mimetype": "text/x-python",
   "name": "python",
   "nbconvert_exporter": "python",
   "pygments_lexer": "ipython3",
   "version": "3.10.6"
  },
  "vscode": {
   "interpreter": {
    "hash": "36722ccd9d33e900b5ce901e21f97f77cc13653ad0a90c4a65af2088720fca59"
   }
  }
 },
 "nbformat": 4,
 "nbformat_minor": 5
}
