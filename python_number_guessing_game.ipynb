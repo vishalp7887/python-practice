{
 "cells": [
  {
   "cell_type": "code",
   "execution_count": 9,
   "id": "a4213c0c",
   "metadata": {},
   "outputs": [
    {
     "name": "stdout",
     "output_type": "stream",
     "text": [
      "Enter your level : 10\n",
      "Level applied :  Easy \n",
      "You got  5  attempts\n",
      "\n",
      "Enter your guess 10\n",
      "Too high\n",
      "\n",
      "Enter your guess 8\n",
      "Too high\n",
      "\n",
      "Enter your guess 3\n",
      "\n",
      " Congratulations,You got  12.0  bonus points\n",
      "\n",
      "Game over\n"
     ]
    }
   ],
   "source": [
    "import random\n",
    "\n",
    "max_value =int(input('Enter your level : '))\n",
    "\n",
    "if max_value==0:\n",
    "\t\tprint(\"\\n\\tLevel zero is not available\\n\\t\\tGame over\\n\\nError : \")\n",
    "\t\t\n",
    "remaining_attempts=float(1)\n",
    "remaining_attempts=75%max_value\n",
    "\n",
    "player_state=bool(False)\n",
    "bot_state=bool(False)\n",
    "\n",
    "if max_value<=10:\n",
    "\tlevel=\"Easy\"\n",
    "elif max_value>10 and max_value<=40:\n",
    "\tlevel=\"Hard\"\n",
    "else:\n",
    "\tlevel=\"Impossible\"\n",
    "\tremaining_attempts=remaining_attempts -15% remaining_attempts\n",
    "\n",
    "print('Level applied : ',level,\"\\nYou got \", remaining_attempts,\" attempts\")\n",
    "\n",
    "number= random.randint(1, max_value)\n",
    "bot_input=random.randint(1,max_value)\n",
    "\n",
    "for I in range(remaining_attempts):\n",
    "\tremaining_attempts=remaining_attempts-1\n",
    "\ttry:\n",
    "\t\t\t\n",
    "\t\tguess = int(input('\\nEnter your guess '))\n",
    "\t\tif bot_input==number:\n",
    "\t\t\tbot_state=True\n",
    "\t\tif guess > number:\n",
    "\t\t\tprint('Too high')\n",
    "\t\tif guess < number:\n",
    "\t\t\tprint('Too low')\n",
    "\t\tif guess==number:\n",
    "\t\t\tplayer_state=True\n",
    "\t\t\tbonus=float(remaining_attempts+10)\n",
    "\t\t\tremaining_attempts=remaining_attempts+bonus\t\t\t\n",
    "\t\t\tprint(\"\\n Congratulations,You got \",bonus,\" bonus points\")\t\t\t\n",
    "\t\t\tbreak\n",
    "\t\t\t\n",
    "\texcept ValueError:\n",
    "\t\tprint(\"\\nInvalid Input\\n\")\n",
    "\n",
    "\t\n",
    "\t\tremaining_attempts=remaining_attempts+1\n",
    "print(\"\\nGame over\")\n",
    "if remaining_attempts==0:\n",
    "\tprint(\"You loose the game\\n\")"
   ]
  },
  {
   "cell_type": "code",
   "execution_count": null,
   "id": "cd9d9149",
   "metadata": {},
   "outputs": [],
   "source": []
  }
 ],
 "metadata": {
  "kernelspec": {
   "display_name": "Python 3 (ipykernel)",
   "language": "python",
   "name": "python3"
  },
  "language_info": {
   "codemirror_mode": {
    "name": "ipython",
    "version": 3
   },
   "file_extension": ".py",
   "mimetype": "text/x-python",
   "name": "python",
   "nbconvert_exporter": "python",
   "pygments_lexer": "ipython3",
   "version": "3.9.12"
  }
 },
 "nbformat": 4,
 "nbformat_minor": 5
}
