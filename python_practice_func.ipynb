{
 "cells": [
  {
   "cell_type": "code",
   "execution_count": 17,
   "id": "454b675f",
   "metadata": {},
   "outputs": [],
   "source": [
    "def func():\n",
    "    que1 = '1. Write a python program to sum of the first n positive integers.'\n",
    "    que2 = '2. Write a Python program to count occurrences of a substring in a string.'\n",
    "    que3 = '3. Write a Python program to count the occurrences of each word in a given sentence.'\n",
    "    print(que1,'\\n',que2,'\\n',que3)\n",
    "    que = int(input('enter a que'))\n",
    "    if que == 1:\n",
    "        print('''1. Write a python program to sum of the first n positive integers.\n",
    "              n = int(input('enter a number: '))\n",
    "        s = (n * (n + 1)) / 2\n",
    "        print('Sum of the first', n ,'positive integers:', s)''')\n",
    "        n = int(input('enter a number: '))\n",
    "        s = (n * (n + 1)) / 2\n",
    "        print('Sum of the first', n ,'positive integers:', s)\n",
    "    elif que == 2:\n",
    "        print('''2. Write a Python program to count occurrences of a substring in a string.\n",
    "              string = 'welcome to india '\n",
    "        substring = 'to'\n",
    "        c = string.count(substring)\n",
    "        print(c)''')\n",
    "        string = 'welcome to india '\n",
    "        substring = 'to'\n",
    "        c = string.count(substring)\n",
    "        print(c)\n",
    "    elif que == 3:\n",
    "        print('''3. Write a Python program to count the occurrences of each word in a given sentence.\n",
    "        s = input('enter your string: ') \n",
    "        s = s.split()\n",
    "        d = {}\n",
    "        for i in s:\n",
    "        if i in d:\n",
    "        d[i] += 1\n",
    "        else:\n",
    "        d[i] = 1\n",
    "        print(d)''')\n",
    "        s = input('enter your string: ') \n",
    "        s = s.split()\n",
    "        d = {}\n",
    "        for i in s:\n",
    "            if i in d:\n",
    "                d[i] += 1\n",
    "        else:\n",
    "            d[i] = 1\n",
    "            print(d)\n",
    "        \n"
   ]
  },
  {
   "cell_type": "code",
   "execution_count": 18,
   "id": "9c88600c",
   "metadata": {},
   "outputs": [
    {
     "name": "stdout",
     "output_type": "stream",
     "text": [
      "1. Write a python program to sum of the first n positive integers. \n",
      " 2. Write a Python program to count occurrences of a substring in a string. \n",
      " 3. Write a Python program to count the occurrences of each word in a given sentence.\n",
      "enter a que1\n",
      "1. Write a python program to sum of the first n positive integers.\n",
      "              n = int(input('enter a number: '))\n",
      "        s = (n * (n + 1)) / 2\n",
      "        print('Sum of the first', n ,'positive integers:', s)\n",
      "enter a number: 5\n",
      "Sum of the first 5 positive integers: 15.0\n"
     ]
    }
   ],
   "source": [
    "func()"
   ]
  },
  {
   "cell_type": "code",
   "execution_count": null,
   "id": "b02bda20",
   "metadata": {},
   "outputs": [],
   "source": []
  },
  {
   "cell_type": "markdown",
   "id": "bd035984",
   "metadata": {},
   "source": []
  }
 ],
 "metadata": {
  "kernelspec": {
   "display_name": "Python 3 (ipykernel)",
   "language": "python",
   "name": "python3"
  },
  "language_info": {
   "codemirror_mode": {
    "name": "ipython",
    "version": 3
   },
   "file_extension": ".py",
   "mimetype": "text/x-python",
   "name": "python",
   "nbconvert_exporter": "python",
   "pygments_lexer": "ipython3",
   "version": "3.9.12"
  }
 },
 "nbformat": 4,
 "nbformat_minor": 5
}
