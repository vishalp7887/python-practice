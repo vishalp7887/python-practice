{
 "cells": [
  {
   "cell_type": "code",
   "execution_count": 2,
   "id": "f04bfa06",
   "metadata": {},
   "outputs": [
    {
     "name": "stdout",
     "output_type": "stream",
     "text": [
      "num1 your number : 536\n",
      "num2 your number : 435\n",
      "num3 your number : 2\n",
      "num1 is a biggest number\n"
     ]
    }
   ],
   "source": [
    "num1 = int(input('num1 your number : '))\n",
    "num2 = int(input('num2 your number : '))\n",
    "num3 = int(input('num3 your number : '))\n",
    "\n",
    "if num1 > num2:\n",
    "    if num1 > num3:\n",
    "        print('num1 is a biggest number')\n",
    "    else :\n",
    "        print('num3 is a biggest number')\n",
    "else :\n",
    "    print('num2 is a biggest number')"
   ]
  },
  {
   "cell_type": "code",
   "execution_count": 8,
   "id": "b467fa26",
   "metadata": {},
   "outputs": [
    {
     "name": "stdout",
     "output_type": "stream",
     "text": [
      "list1 is a biggest number in :  90\n"
     ]
    }
   ],
   "source": [
    "list1 = [10,30,20,50,70,80,40,90,60]\n",
    "\n",
    "print('list1 is a biggest number in : ',max(list1))"
   ]
  },
  {
   "cell_type": "code",
   "execution_count": 10,
   "id": "f39c393a",
   "metadata": {},
   "outputs": [
    {
     "name": "stdout",
     "output_type": "stream",
     "text": [
      "90\n"
     ]
    }
   ],
   "source": [
    "list2 = [10,30,20,50,70,80,40,90,60]\n",
    "\n",
    "list2.sort()\n",
    "\n",
    "print(list2[-1])"
   ]
  },
  {
   "cell_type": "code",
   "execution_count": null,
   "id": "94dbf422",
   "metadata": {},
   "outputs": [],
   "source": []
  },
  {
   "cell_type": "code",
   "execution_count": null,
   "id": "d461d3a2",
   "metadata": {},
   "outputs": [],
   "source": [
    "list3 = []\n",
    "\n",
    "num = int(input('enter number of elements in list: '))\n",
    "\n",
    "for i in range(1, num + 1):\n",
    "    ele = int(input('enter elements: '))\n",
    "    list3.append(ele)\n",
    "    \n",
    "print('list is a biggest number in : ', max(list3))"
   ]
  },
  {
   "cell_type": "code",
   "execution_count": null,
   "id": "a853ab31",
   "metadata": {},
   "outputs": [],
   "source": []
  }
 ],
 "metadata": {
  "kernelspec": {
   "display_name": "Python 3 (ipykernel)",
   "language": "python",
   "name": "python3"
  },
  "language_info": {
   "codemirror_mode": {
    "name": "ipython",
    "version": 3
   },
   "file_extension": ".py",
   "mimetype": "text/x-python",
   "name": "python",
   "nbconvert_exporter": "python",
   "pygments_lexer": "ipython3",
   "version": "3.9.12"
  }
 },
 "nbformat": 4,
 "nbformat_minor": 5
}
