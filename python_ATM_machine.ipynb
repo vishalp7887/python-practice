{
 "cells": [
  {
   "cell_type": "code",
   "execution_count": 6,
   "id": "2daac5de",
   "metadata": {},
   "outputs": [
    {
     "name": "stdout",
     "output_type": "stream",
     "text": [
      "  🤗 WELCOME TO ATM\n",
      "Enter Your Pin : 1234\n",
      "1. Withdraw\n",
      "2. Balance Enquiry\n",
      "Enter choose transactions : 1\n",
      "Enter Withdraw amount : 15000\n",
      "please take your amount :  15000\n",
      "  🤗 Thank you 🤗\n"
     ]
    }
   ],
   "source": [
    "print('  \\U0001F917 WELCOME TO ATM')\n",
    "\n",
    "account_balance = 200000\n",
    "pin = int(input('Enter Your Pin : '))\n",
    "\n",
    "if pin == 1234 :\n",
    "    print('1. Withdraw')\n",
    "    print('2. Balance Enquiry')\n",
    "    \n",
    "    choose = int(input('Enter choose transactions : '))\n",
    "    if choose == 1:\n",
    "        withdraw = int(input('Enter Withdraw amount : '))\n",
    "        if withdraw < account_balance  :\n",
    "            print('please take your amount : ', withdraw)\n",
    "            print('  \\U0001F917 Thank you \\U0001F917')\n",
    "        else :\n",
    "            print('invalid cash')\n",
    "            \n",
    "    elif choose == 2:\n",
    "        print('your available amount : ', account_balance)\n",
    "        \n",
    "else:\n",
    "    print('wrong pin number')"
   ]
  },
  {
   "cell_type": "code",
   "execution_count": 24,
   "id": "fe5bbe20",
   "metadata": {},
   "outputs": [],
   "source": [
    "def ATM():\n",
    "    print('  WELCOME TO ATM  ')\n",
    "    account_balance = 200000\n",
    "    pin = int(input('Enter Your Pin : '))\n",
    "\n",
    "    if pin == 1234 :\n",
    "        print('1. Withdraw')\n",
    "        print('2. Balance Enquiry')\n",
    "    \n",
    "        choose = int(input('Enter choose transactions : '))\n",
    "        if choose == 1:\n",
    "            withdraw = int(input('Enter Withdraw amount : '))\n",
    "            if withdraw < account_balance  :\n",
    "                print('please take your amount : ', withdraw)\n",
    "                print('  \\U0001F917 Thank you \\U0001F917')\n",
    "            else :\n",
    "                print('invalid cash')\n",
    "              \n",
    "        elif choose == 2:\n",
    "            print('your available amount : ', account_balance)\n",
    "        \n",
    "    else:\n",
    "        print('wrong pin number')\n",
    "        \n",
    "        print(myfunc)"
   ]
  },
  {
   "cell_type": "code",
   "execution_count": 25,
   "id": "739720b4",
   "metadata": {},
   "outputs": [
    {
     "name": "stdout",
     "output_type": "stream",
     "text": [
      "  WELCOME TO ATM  \n",
      "Enter Your Pin : 1234\n",
      "1. Withdraw\n",
      "2. Balance Enquiry\n",
      "Enter choose transactions : 1\n",
      "Enter Withdraw amount : 10000\n",
      "please take your amount :  10000\n",
      "  🤗 Thank you 🤗\n"
     ]
    }
   ],
   "source": [
    "ATM()"
   ]
  },
  {
   "cell_type": "code",
   "execution_count": 27,
   "id": "3689a0d8",
   "metadata": {},
   "outputs": [],
   "source": [
    "def atm():\n",
    "    print('  WELCOME TO ATM  ')\n",
    "    account_balance = 200000\n",
    "    pin = int(input('Enter Your Pin : '))\n",
    "\n",
    "    if pin == 1234 :\n",
    "        print('1. Withdraw')\n",
    "        print('2. Balance Enquiry')\n",
    "    \n",
    "        choose = int(input('Enter choose transactions : '))\n",
    "        if choose == 1:\n",
    "            withdraw = int(input('Enter Withdraw amount : '))\n",
    "            if withdraw < account_balance  :\n",
    "                print('please take your amount : ', withdraw)\n",
    "                print('  \\U0001F917 Thank you \\U0001F917')\n",
    "            else :\n",
    "                print('invalid cash')\n",
    "              \n",
    "        elif choose == 2:\n",
    "            print('your available amount : ', account_balance)\n",
    "        \n",
    "    else:\n",
    "        print('wrong pin number')\n",
    "        \n",
    "        return atm"
   ]
  },
  {
   "cell_type": "code",
   "execution_count": 28,
   "id": "21a57188",
   "metadata": {},
   "outputs": [
    {
     "name": "stdout",
     "output_type": "stream",
     "text": [
      "  WELCOME TO ATM  \n",
      "Enter Your Pin : 1234\n",
      "1. Withdraw\n",
      "2. Balance Enquiry\n",
      "Enter choose transactions : 1\n",
      "Enter Withdraw amount : 5000\n",
      "please take your amount :  5000\n",
      "  🤗 Thank you 🤗\n"
     ]
    }
   ],
   "source": [
    "atm()"
   ]
  },
  {
   "cell_type": "code",
   "execution_count": null,
   "id": "f2681c16",
   "metadata": {},
   "outputs": [],
   "source": []
  }
 ],
 "metadata": {
  "kernelspec": {
   "display_name": "Python 3 (ipykernel)",
   "language": "python",
   "name": "python3"
  },
  "language_info": {
   "codemirror_mode": {
    "name": "ipython",
    "version": 3
   },
   "file_extension": ".py",
   "mimetype": "text/x-python",
   "name": "python",
   "nbconvert_exporter": "python",
   "pygments_lexer": "ipython3",
   "version": "3.9.12"
  }
 },
 "nbformat": 4,
 "nbformat_minor": 5
}
