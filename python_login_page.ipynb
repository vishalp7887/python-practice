{
 "cells": [
  {
   "cell_type": "code",
   "execution_count": 2,
   "id": "715965f7",
   "metadata": {},
   "outputs": [
    {
     "name": "stdout",
     "output_type": "stream",
     "text": [
      "Enter your username: user1\n",
      "Enter your password: ········\n",
      "Login successful!\n"
     ]
    }
   ],
   "source": [
    "# Import necessary modules\n",
    "import getpass\n",
    "\n",
    "# Set up a dictionary of usernames and passwords\n",
    "users = {\"user1\": \"password1\", \"user2\": \"password2\", \"user3\": \"password3\"}\n",
    "\n",
    "# Get user input for username and password\n",
    "username = input(\"Enter your username: \")\n",
    "password = getpass.getpass(\"Enter your password: \")\n",
    "\n",
    "# Check if the entered username and password are valid\n",
    "if username in users and password == users[username]:\n",
    "    print(\"Login successful!\")\n",
    "else:\n",
    "    print(\"Invalid username or password.\")\n"
   ]
  },
  {
   "cell_type": "code",
   "execution_count": null,
   "id": "1a727dcf",
   "metadata": {},
   "outputs": [],
   "source": []
  }
 ],
 "metadata": {
  "kernelspec": {
   "display_name": "Python 3 (ipykernel)",
   "language": "python",
   "name": "python3"
  },
  "language_info": {
   "codemirror_mode": {
    "name": "ipython",
    "version": 3
   },
   "file_extension": ".py",
   "mimetype": "text/x-python",
   "name": "python",
   "nbconvert_exporter": "python",
   "pygments_lexer": "ipython3",
   "version": "3.9.13"
  }
 },
 "nbformat": 4,
 "nbformat_minor": 5
}
