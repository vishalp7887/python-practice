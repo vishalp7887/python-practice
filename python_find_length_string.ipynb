{
 "cells": [
  {
   "cell_type": "markdown",
   "id": "04d8c7b0",
   "metadata": {},
   "source": [
    "## string length"
   ]
  },
  {
   "cell_type": "code",
   "execution_count": 2,
   "id": "6bb6fb9e",
   "metadata": {},
   "outputs": [
    {
     "name": "stdout",
     "output_type": "stream",
     "text": [
      "enter a string: welcome to tops\n",
      "15\n"
     ]
    }
   ],
   "source": [
    "s = input('enter a string: ')\n",
    "c = 0\n",
    "for i in s:\n",
    "    c += 1\n",
    "else:\n",
    "    print(c)"
   ]
  },
  {
   "cell_type": "markdown",
   "id": "7966e262",
   "metadata": {},
   "source": [
    "### substring in a string count"
   ]
  },
  {
   "cell_type": "code",
   "execution_count": 3,
   "id": "afa939d9",
   "metadata": {},
   "outputs": [
    {
     "name": "stdout",
     "output_type": "stream",
     "text": [
      "2\n"
     ]
    }
   ],
   "source": [
    "string = 'welcome to tops'\n",
    "substring = 'to'\n",
    "\n",
    "c = string.count(substring)\n",
    "\n",
    "print(c)"
   ]
  },
  {
   "cell_type": "markdown",
   "id": "4025f67d",
   "metadata": {},
   "source": [
    "### count the occurrences of each word in a given sentence"
   ]
  },
  {
   "cell_type": "code",
   "execution_count": 4,
   "id": "db1d297f",
   "metadata": {},
   "outputs": [
    {
     "name": "stdout",
     "output_type": "stream",
     "text": [
      "enter your string: welcome to tops, welcome to india\n",
      "{'welcome': 2, 'to': 2, 'tops,': 1, 'india': 1}\n"
     ]
    }
   ],
   "source": [
    "s = input('enter your string: ') \n",
    "s = s.split()\n",
    "d = {}\n",
    "\n",
    "for i in s:\n",
    "    if i in d:\n",
    "        d[i] += 1\n",
    "    else:\n",
    "        d[i] = 1\n",
    "print(d)"
   ]
  },
  {
   "cell_type": "code",
   "execution_count": null,
   "id": "be34f3ed",
   "metadata": {},
   "outputs": [],
   "source": []
  }
 ],
 "metadata": {
  "kernelspec": {
   "display_name": "Python 3 (ipykernel)",
   "language": "python",
   "name": "python3"
  },
  "language_info": {
   "codemirror_mode": {
    "name": "ipython",
    "version": 3
   },
   "file_extension": ".py",
   "mimetype": "text/x-python",
   "name": "python",
   "nbconvert_exporter": "python",
   "pygments_lexer": "ipython3",
   "version": "3.9.12"
  }
 },
 "nbformat": 4,
 "nbformat_minor": 5
}
