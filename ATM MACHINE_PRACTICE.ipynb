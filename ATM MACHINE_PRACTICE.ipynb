{
 "cells": [
  {
   "cell_type": "code",
   "execution_count": null,
   "id": "3f75c349",
   "metadata": {},
   "outputs": [
    {
     "name": "stdout",
     "output_type": "stream",
     "text": [
      "ATM\n",
      "\n",
      "    1)    Balance\n",
      "    2)    Withdraw\n",
      "    3)    Deposit\n",
      "    4)    Quit\n",
      "    \n",
      "Enter Option: 1\n",
      "Balance £ 10000\n",
      "ATM\n",
      "\n",
      "    1)    Balance\n",
      "    2)    Withdraw\n",
      "    3)    Deposit\n",
      "    4)    Quit\n",
      "    \n"
     ]
    }
   ],
   "source": [
    "while True:\n",
    "    balance=10000\n",
    "    print(\"ATM\")\n",
    "    print(\"\"\"\n",
    "    1)    Balance\n",
    "    2)    Withdraw\n",
    "    3)    Deposit\n",
    "    4)    Quit\n",
    "    \"\"\")\n",
    "    try:\n",
    "        Option=int(input(\"Enter Option: \"))\n",
    "    \n",
    "    except Exception as e: \n",
    "        print(\"Error:\", e)\n",
    "        print(\"Enter 1, 2, 3 or 4 only\")\n",
    "        \n",
    "        continue\n",
    "    if Option==1:\n",
    "        print(\"Balance £\",balance)\n",
    "        \n",
    "    if Option==2:\n",
    "        print(\"Balance £\",balance)\n",
    "        \n",
    "        Withdraw = float(input(\"Enter Withdraw amount £ \"))\n",
    "\n",
    "        if Withdraw>0:\n",
    "            forewardbalance=(balance-Withdraw)\n",
    "            print(\"Foreward Balance £\", forewardbalance)\n",
    "\n",
    "        elif Withdraw>balance:\n",
    "            print(\"No funs in account\") \n",
    "        \n",
    "        else:\n",
    "            print(\"None withdraw made\")\n",
    "\n",
    "    if Option==3:\n",
    "        print(\"Balance £\", balance)\n",
    "        Deposit= float(input(\"Enter deposit amount £ \"))\n",
    "\n",
    "        if Deposit>0:\n",
    "            forewardbalance=(balance+Deposit)\n",
    "            print(\"Forewardbalance £\", forewardbalance)\n",
    "\n",
    "        else:\n",
    "            print(\"None deposit made\")\n",
    "\n",
    "if Option==4:\n",
    "    exit()"
   ]
  },
  {
   "cell_type": "code",
   "execution_count": null,
   "id": "ad12b060",
   "metadata": {},
   "outputs": [],
   "source": []
  }
 ],
 "metadata": {
  "kernelspec": {
   "display_name": "Python 3 (ipykernel)",
   "language": "python",
   "name": "python3"
  },
  "language_info": {
   "codemirror_mode": {
    "name": "ipython",
    "version": 3
   },
   "file_extension": ".py",
   "mimetype": "text/x-python",
   "name": "python",
   "nbconvert_exporter": "python",
   "pygments_lexer": "ipython3",
   "version": "3.9.13"
  }
 },
 "nbformat": 4,
 "nbformat_minor": 5
}
