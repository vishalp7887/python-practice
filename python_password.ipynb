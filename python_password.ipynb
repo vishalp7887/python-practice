{
 "cells": [
  {
   "cell_type": "code",
   "execution_count": 2,
   "id": "de859aba",
   "metadata": {},
   "outputs": [],
   "source": [
    "import random"
   ]
  },
  {
   "cell_type": "code",
   "execution_count": 3,
   "id": "a294cbd8",
   "metadata": {},
   "outputs": [
    {
     "name": "stdout",
     "output_type": "stream",
     "text": [
      "XVp5zKkJ\n"
     ]
    }
   ],
   "source": [
    "use = ''\n",
    "\n",
    "for i in range(97, 123):\n",
    "    use += chr(i)\n",
    "else:\n",
    "    use += use.upper()\n",
    "    use += '!@#$%^&*_+=-'\n",
    "    use += '1234567890'\n",
    "    \n",
    "password = ''.join(random.choices(use, k = 8))\n",
    "\n",
    "print(password)"
   ]
  },
  {
   "cell_type": "code",
   "execution_count": 4,
   "id": "273891d4",
   "metadata": {},
   "outputs": [
    {
     "name": "stdout",
     "output_type": "stream",
     "text": [
      "Method One\n",
      "UApm1tJm\n",
      "\n",
      "Method Two\n",
      "JxTbSffP\n",
      "\n",
      "Method Three\n",
      "Gnuk6PM7\n",
      "\n",
      "Method Four\n",
      "tw3UA9wP\n"
     ]
    }
   ],
   "source": [
    "import string\n",
    "import random\n",
    "\n",
    "class RandomPasswordGenerator:\n",
    "    '''Generate Random Password'''\n",
    "\n",
    "    def __init__(self, length=8):\n",
    "        self.length = length\n",
    "        self.strings = string.printable[:62]\n",
    "        self.len_strings = len(self.strings) - 1\n",
    "\n",
    "    def method_one(self):\n",
    "        '''Using random.randint for getting random indexes of self.strings and slicing using that indexes'''\n",
    "\n",
    "        password = ''\n",
    "\n",
    "        for _ in range(self.length):\n",
    "            random_index = random.randint(0, self.len_strings)\n",
    "            password += self.strings[random_index]\n",
    "\n",
    "        return password\n",
    "\n",
    "    def method_two(self):\n",
    "        '''Using random.choice for getting the random letter from self.strings and joining them'''\n",
    "\n",
    "        password = ''\n",
    "\n",
    "        for _ in range(self.length):\n",
    "            random_word = random.choice(self.strings)\n",
    "            password += random_word\n",
    "\n",
    "        return password\n",
    "\n",
    "    def method_three(self):\n",
    "        '''Using List Comprehension at method_one'''\n",
    "\n",
    "        password = [self.strings[random.randint(0, self.len_strings)] for _ in range(self.length)]\n",
    "\n",
    "        return ''.join(password)\n",
    "\n",
    "    def method_four(self):\n",
    "        '''Using List Comprehension at method_two'''\n",
    "\n",
    "        password = [random.choice(self.strings) for _ in range(self.length)]\n",
    "\n",
    "        return ''.join(password)\n",
    "\n",
    "\n",
    "if __name__ == '__main__':\n",
    "    random_password = RandomPasswordGenerator()\n",
    "\n",
    "    print('Method One')\n",
    "    print(random_password.method_one())\n",
    "\n",
    "    print('\\nMethod Two')\n",
    "    print(random_password.method_two())\n",
    "\n",
    "    print('\\nMethod Three')\n",
    "    print(random_password.method_three())\n",
    "\n",
    "    print('\\nMethod Four')\n",
    "    print(random_password.method_four())"
   ]
  },
  {
   "cell_type": "code",
   "execution_count": null,
   "id": "f91ea505",
   "metadata": {},
   "outputs": [],
   "source": []
  }
 ],
 "metadata": {
  "kernelspec": {
   "display_name": "Python 3 (ipykernel)",
   "language": "python",
   "name": "python3"
  },
  "language_info": {
   "codemirror_mode": {
    "name": "ipython",
    "version": 3
   },
   "file_extension": ".py",
   "mimetype": "text/x-python",
   "name": "python",
   "nbconvert_exporter": "python",
   "pygments_lexer": "ipython3",
   "version": "3.9.12"
  }
 },
 "nbformat": 4,
 "nbformat_minor": 5
}
