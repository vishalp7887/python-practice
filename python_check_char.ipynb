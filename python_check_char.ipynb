{
 "cells": [
  {
   "cell_type": "code",
   "execution_count": 41,
   "id": "64a5162f",
   "metadata": {},
   "outputs": [
    {
     "name": "stdout",
     "output_type": "stream",
     "text": [
      "enter character : vishal PATEL\n",
      "v is in lower case\n",
      "i is in lower case\n",
      "s is in lower case\n",
      "h is in lower case\n",
      "a is in lower case\n",
      "l is in lower case\n",
      "        whitespace\n",
      "P is in upper case\n",
      "A is in upper case\n",
      "T is in upper case\n",
      "E is in upper case\n",
      "L is in upper case\n"
     ]
    }
   ],
   "source": [
    "char = input(\"enter character : \")\n",
    "\n",
    "for i in char:\n",
    "    if ord(i)>64 and ord(i)<91:\n",
    "        print(\"{} is in upper case\".format(i))\n",
    "\n",
    "    elif ord(i)>96 and ord(i)<123:\n",
    "        print(\"{} is in lower case\".format(i))\n",
    "        \n",
    "    elif i == ' ':\n",
    "        print('        whitespace')\n",
    "        \n",
    "    else:\n",
    "        print(\"{} is a number or any other character\".format(i))\n",
    "\n"
   ]
  },
  {
   "cell_type": "code",
   "execution_count": 32,
   "id": "32a593cd",
   "metadata": {},
   "outputs": [
    {
     "name": "stdout",
     "output_type": "stream",
     "text": [
      "enter one character : Z\n",
      "Z is in upper case\n"
     ]
    }
   ],
   "source": [
    "char = input(\"enter one character : \")\n",
    "\n",
    "if ord(char)>64 and ord(char)<91:\n",
    "    print(\"{} is in upper case\".format(char))\n",
    "\n",
    "elif ord(char)>96 and ord(char)<123:\n",
    "    print(\"{} is in lower case\".format(char))\n",
    "\n",
    "else:\n",
    "    print(\"{} is a number or any other character\".format(char))"
   ]
  },
  {
   "cell_type": "code",
   "execution_count": 46,
   "id": "7b736a20",
   "metadata": {},
   "outputs": [
    {
     "name": "stdout",
     "output_type": "stream",
     "text": [
      "enter character : VISHAL patel\n",
      "V is in upper case,  I is in upper case,  S is in upper case,  H is in upper case,  A is in upper case,  L is in upper case,          whitespace\n",
      "p is in lower case,  a is in lower case,  t is in lower case,  e is in lower case,  l is in lower case,  "
     ]
    }
   ],
   "source": [
    "char = input(\"enter character : \")\n",
    "\n",
    "for i in char:\n",
    "    if ord(i)>64 and ord(i)<91:\n",
    "        print(\"{} is in upper case, \".format(i), end = ' ')\n",
    "\n",
    "    elif ord(i)>96 and ord(i)<123:\n",
    "        print(\"{} is in lower case, \".format(i), end = ' ')\n",
    "        \n",
    "    elif i == ' ':\n",
    "        print('        whitespace')\n",
    "        \n",
    "    else:\n",
    "        print(\"{} is a number or any other character\".format(i))\n",
    "\n"
   ]
  },
  {
   "cell_type": "code",
   "execution_count": null,
   "id": "625a27a3",
   "metadata": {},
   "outputs": [],
   "source": []
  }
 ],
 "metadata": {
  "kernelspec": {
   "display_name": "Python 3 (ipykernel)",
   "language": "python",
   "name": "python3"
  },
  "language_info": {
   "codemirror_mode": {
    "name": "ipython",
    "version": 3
   },
   "file_extension": ".py",
   "mimetype": "text/x-python",
   "name": "python",
   "nbconvert_exporter": "python",
   "pygments_lexer": "ipython3",
   "version": "3.9.12"
  }
 },
 "nbformat": 4,
 "nbformat_minor": 5
}
