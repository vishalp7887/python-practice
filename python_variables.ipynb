{
 "cells": [
  {
   "cell_type": "markdown",
   "id": "377389c0",
   "metadata": {},
   "source": [
    "### variables\n",
    "#### variables are containers for storing data values."
   ]
  },
  {
   "cell_type": "code",
   "execution_count": 1,
   "id": "b4f58f9a",
   "metadata": {},
   "outputs": [
    {
     "name": "stdout",
     "output_type": "stream",
     "text": [
      "5\n",
      "Hello\n"
     ]
    }
   ],
   "source": [
    "# creating variables\n",
    "x = 5\n",
    "y = 'Hello'\n",
    "\n",
    "print(x)\n",
    "print(y)"
   ]
  },
  {
   "cell_type": "code",
   "execution_count": 14,
   "id": "160b732b",
   "metadata": {},
   "outputs": [
    {
     "name": "stdout",
     "output_type": "stream",
     "text": [
      "5\n",
      "5\n",
      "<class 'str'>\n",
      "<class 'int'>\n"
     ]
    }
   ],
   "source": [
    "# get the type\n",
    "print(x)     # x is of type int\n",
    "print(y)     # y is of type str\n",
    "\n",
    "print(type(x))\n",
    "print(type(y))"
   ]
  },
  {
   "cell_type": "code",
   "execution_count": 15,
   "id": "76cd44d4",
   "metadata": {},
   "outputs": [
    {
     "name": "stdout",
     "output_type": "stream",
     "text": [
      "str : 5\n",
      "int : 5\n",
      "float : 5.0\n"
     ]
    }
   ],
   "source": [
    "# casting\n",
    "x = str(5)\n",
    "y = int(5)\n",
    "z = float(5)\n",
    "\n",
    "print('str :', x)\n",
    "print('int :', y)\n",
    "print('float :',z)"
   ]
  },
  {
   "cell_type": "code",
   "execution_count": 17,
   "id": "7b47bf6f",
   "metadata": {},
   "outputs": [
    {
     "name": "stdout",
     "output_type": "stream",
     "text": [
      "Hello\n",
      "Hello\n"
     ]
    }
   ],
   "source": [
    "# single or double quotes?\n",
    "x = 'Hello'\n",
    "print(x)\n",
    "#double quotes are the same as single quotes:\n",
    "y = \"Hello\"\n",
    "print(y)"
   ]
  },
  {
   "cell_type": "code",
   "execution_count": 18,
   "id": "8651217c",
   "metadata": {},
   "outputs": [
    {
     "name": "stdout",
     "output_type": "stream",
     "text": [
      "5\n",
      "Hello\n"
     ]
    }
   ],
   "source": [
    "# case-sensitive\n",
    "# variable names are case-sensitive\n",
    "\n",
    "a = 5\n",
    "A = 'Hello'\n",
    "print(a)\n",
    "print(A)"
   ]
  },
  {
   "cell_type": "code",
   "execution_count": 21,
   "id": "bb238ced",
   "metadata": {},
   "outputs": [
    {
     "name": "stdout",
     "output_type": "stream",
     "text": [
      "Hello\n",
      "Hello\n",
      "Hello\n"
     ]
    }
   ],
   "source": [
    "# each word, expect the first, starts with a capital letter.\n",
    "# camel case\n",
    "myVariableName = 'Hello'\n",
    "print(myVariableName)\n",
    "\n",
    "# pascal case\n",
    "MyVariableName = 'Hello'\n",
    "print(MyVariableName)\n",
    "\n",
    "# snake case\n",
    "my_variable_name = 'Hello'\n",
    "print(my_variable_name)"
   ]
  },
  {
   "cell_type": "code",
   "execution_count": 22,
   "id": "f06e7680",
   "metadata": {},
   "outputs": [
    {
     "name": "stdout",
     "output_type": "stream",
     "text": [
      "abc\n",
      "bcd\n",
      "cde\n"
     ]
    }
   ],
   "source": [
    "# many values to multiple variables\n",
    "x, y, z = 'abc', 'bcd', 'cde'\n",
    "print(x)\n",
    "print(y)\n",
    "print(z)"
   ]
  },
  {
   "cell_type": "code",
   "execution_count": 23,
   "id": "6e0009be",
   "metadata": {},
   "outputs": [
    {
     "name": "stdout",
     "output_type": "stream",
     "text": [
      "abcd\n",
      "abcd\n",
      "abcd\n"
     ]
    }
   ],
   "source": [
    "# one value to multiple variables\n",
    "x = y = z = 'abcd'\n",
    "print(x)\n",
    "print(y)\n",
    "print(z)"
   ]
  },
  {
   "cell_type": "code",
   "execution_count": 24,
   "id": "2f5bc900",
   "metadata": {},
   "outputs": [
    {
     "name": "stdout",
     "output_type": "stream",
     "text": [
      "a\n",
      "b\n",
      "c\n"
     ]
    }
   ],
   "source": [
    "# unpack a collction\n",
    "abcd = ['a', 'b', 'c']\n",
    "x, y, z = abcd\n",
    "print(x)\n",
    "print(y)\n",
    "print(z)"
   ]
  },
  {
   "cell_type": "code",
   "execution_count": 26,
   "id": "1be03617",
   "metadata": {},
   "outputs": [
    {
     "name": "stdout",
     "output_type": "stream",
     "text": [
      "5 10 15\n",
      "30\n"
     ]
    }
   ],
   "source": [
    "# output variable\n",
    "x = 5\n",
    "y = 10\n",
    "z = 15\n",
    "\n",
    "print(x, y, z)     # multiple variables, separated by a comma\n",
    "print(x + y + z)   # + operator to output multiple variable"
   ]
  },
  {
   "cell_type": "code",
   "execution_count": 31,
   "id": "d7bc48a5",
   "metadata": {},
   "outputs": [
    {
     "name": "stdout",
     "output_type": "stream",
     "text": [
      "Hi, Hello\n"
     ]
    }
   ],
   "source": [
    "# global variables\n",
    "x = 'Hello'\n",
    "\n",
    "def fun():\n",
    "    print('Hi, ' + x)\n",
    "    \n",
    "fun()"
   ]
  },
  {
   "cell_type": "code",
   "execution_count": 34,
   "id": "730c88fc",
   "metadata": {},
   "outputs": [
    {
     "name": "stdout",
     "output_type": "stream",
     "text": [
      "Welcome to Ahmedabad\n",
      "Welcome to India\n"
     ]
    }
   ],
   "source": [
    "x = 'India'   # global variable\n",
    "\n",
    "def fun():\n",
    "    x =  'Ahmedabad'   # local variable\n",
    "    print('Welcome to ' + x)\n",
    "    \n",
    "fun()\n",
    "\n",
    "print('Welcome to ' + x)"
   ]
  },
  {
   "cell_type": "code",
   "execution_count": 35,
   "id": "d692d8c0",
   "metadata": {},
   "outputs": [
    {
     "name": "stdout",
     "output_type": "stream",
     "text": [
      "Hi Hello\n"
     ]
    }
   ],
   "source": [
    "# global keyword\n",
    "def fun():\n",
    "    global x\n",
    "    x = 'Hello'\n",
    "    \n",
    "fun()\n",
    "\n",
    "print('Hi ' + x)"
   ]
  },
  {
   "cell_type": "code",
   "execution_count": 36,
   "id": "f3a14c9a",
   "metadata": {},
   "outputs": [
    {
     "name": "stdout",
     "output_type": "stream",
     "text": [
      "Welcome to Ahmedabad\n",
      "Welcome to Ahmedabad\n"
     ]
    }
   ],
   "source": [
    "x = 'India'   # global variable\n",
    "\n",
    "def fun():\n",
    "    global x\n",
    "    x =  'Ahmedabad'   # local variable\n",
    "    print('Welcome to ' + x)\n",
    "    \n",
    "fun()\n",
    "\n",
    "print('Welcome to ' + x)"
   ]
  },
  {
   "cell_type": "code",
   "execution_count": null,
   "id": "98a79299",
   "metadata": {},
   "outputs": [],
   "source": []
  }
 ],
 "metadata": {
  "kernelspec": {
   "display_name": "Python 3 (ipykernel)",
   "language": "python",
   "name": "python3"
  },
  "language_info": {
   "codemirror_mode": {
    "name": "ipython",
    "version": 3
   },
   "file_extension": ".py",
   "mimetype": "text/x-python",
   "name": "python",
   "nbconvert_exporter": "python",
   "pygments_lexer": "ipython3",
   "version": "3.9.13"
  }
 },
 "nbformat": 4,
 "nbformat_minor": 5
}
