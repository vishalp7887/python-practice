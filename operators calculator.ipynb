{
 "cells": [
  {
   "cell_type": "code",
   "execution_count": 1,
   "id": "49c30445",
   "metadata": {},
   "outputs": [
    {
     "name": "stdout",
     "output_type": "stream",
     "text": [
      "enter your first number5\n",
      "enter operators (+ , - , * , % , / ,):+\n",
      "enter your second number5\n",
      "10\n"
     ]
    }
   ],
   "source": [
    "first = int(input('enter your first number'))\n",
    "operators =input('enter operators (+ , - , * , % , / ,):')\n",
    "second = int(input('enter your second number'))\n",
    "\n",
    "if operators == '+':\n",
    "    print(first + second)\n",
    "elif operators == '-':\n",
    "    print(first - second)\n",
    "elif operatoes == '*':\n",
    "    print(first * second)\n",
    "elif operatorts == '%':\n",
    "    print(first % second)\n",
    "elif operators == '/':\n",
    "    print(first / second)\n",
    "else:\n",
    "    print('invalid operators')"
   ]
  },
  {
   "cell_type": "code",
   "execution_count": 2,
   "id": "d19d7cfe",
   "metadata": {},
   "outputs": [
    {
     "name": "stdout",
     "output_type": "stream",
     "text": [
      "enter your number3\n",
      "3 * 1 = 3\n",
      "3 * 2 = 6\n",
      "3 * 3 = 9\n",
      "3 * 4 = 12\n",
      "3 * 5 = 15\n",
      "3 * 6 = 18\n",
      "3 * 7 = 21\n",
      "3 * 8 = 24\n",
      "3 * 9 = 27\n",
      "3 * 10 = 30\n"
     ]
    }
   ],
   "source": [
    "t = int(input('enter your number'))\n",
    "\n",
    "for i in range(1,11):\n",
    "    print(f'{t} * {i} = {t * i}')"
   ]
  },
  {
   "cell_type": "code",
   "execution_count": 4,
   "id": "7db29d04",
   "metadata": {},
   "outputs": [
    {
     "name": "stdout",
     "output_type": "stream",
     "text": [
      "Select operation.\n",
      "1. Add\n",
      "2. Subtract\n",
      "3. Multiply\n",
      "4. Divide\n",
      "5. Quit\n",
      "Enter choice(1/2/3/4/5): 4\n",
      "Enter first number: 10\n",
      "Enter second number: 5\n",
      "10.0 / 5.0 = 2.0\n",
      "Select operation.\n",
      "1. Add\n",
      "2. Subtract\n",
      "3. Multiply\n",
      "4. Divide\n",
      "5. Quit\n",
      "Enter choice(1/2/3/4/5): 5\n"
     ]
    }
   ],
   "source": [
    "def calculator():\n",
    "    while True:\n",
    "        print(\"Select operation.\")\n",
    "        print(\"1. Add\")\n",
    "        print(\"2. Subtract\")\n",
    "        print(\"3. Multiply\")\n",
    "        print(\"4. Divide\")\n",
    "        print(\"5. Quit\")\n",
    "\n",
    "        choice = input(\"Enter choice(1/2/3/4/5): \")\n",
    "\n",
    "        if choice == '5':\n",
    "            break\n",
    "\n",
    "        num1 = float(input(\"Enter first number: \"))\n",
    "        num2 = float(input(\"Enter second number: \"))\n",
    "\n",
    "        if choice == '1':\n",
    "            result = num1 + num2\n",
    "            print(num1, \"+\", num2, \"=\", result)\n",
    "        elif choice == '2':\n",
    "            result = num1 - num2\n",
    "            print(num1, \"-\", num2, \"=\", result)\n",
    "        elif choice == '3':\n",
    "            result = num1 * num2\n",
    "            print(num1, \"*\", num2, \"=\", result)\n",
    "        elif choice == '4':\n",
    "            result = num1 / num2\n",
    "            print(num1, \"/\", num2, \"=\", result)\n",
    "        else:\n",
    "            print(\"Invalid input\")\n",
    "\n",
    "calculator()\n"
   ]
  },
  {
   "cell_type": "code",
   "execution_count": null,
   "id": "3842df7c",
   "metadata": {},
   "outputs": [],
   "source": []
  }
 ],
 "metadata": {
  "kernelspec": {
   "display_name": "Python 3 (ipykernel)",
   "language": "python",
   "name": "python3"
  },
  "language_info": {
   "codemirror_mode": {
    "name": "ipython",
    "version": 3
   },
   "file_extension": ".py",
   "mimetype": "text/x-python",
   "name": "python",
   "nbconvert_exporter": "python",
   "pygments_lexer": "ipython3",
   "version": "3.9.13"
  },
  "vscode": {
   "interpreter": {
    "hash": "36722ccd9d33e900b5ce901e21f97f77cc13653ad0a90c4a65af2088720fca59"
   }
  }
 },
 "nbformat": 4,
 "nbformat_minor": 5
}
