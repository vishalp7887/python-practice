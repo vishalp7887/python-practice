{
 "cells": [
  {
   "cell_type": "code",
   "execution_count": 8,
   "id": "11bcede4",
   "metadata": {},
   "outputs": [],
   "source": [
    "def print_pattern(direction='triangle'):\n",
    "  if direction == 'triangle':\n",
    "    for i in range(1, 11):\n",
    "      print(' ' * (10-i) + '* ' * i)\n",
    "\n",
    "  elif direction == 'right_triangle':\n",
    "    for i in range(1, 11):\n",
    "      print('* ' * i)\n",
    "\n",
    "  elif direction == 'left_triangle':\n",
    "    for i in range(10, 0, -1):\n",
    "      print('* ' * i)\n",
    "\n",
    "  elif direction == 'reverse_triangle':\n",
    "    for i in range(6, 0, -1):\n",
    "      print(' ' * (6-i) + '* ' * i)\n",
    "      \n",
    "  elif direction == 'reverse_right_triangle':\n",
    "    for i in range(10, 0, -1):\n",
    "      print('* ' * i)\n",
    "    \n",
    "\n",
    "  elif direction == 'reverse_left_triangle':\n",
    "    for i in range(10, 0, -1):\n",
    "      print('  ' * (10-i) + '* ' * i)\n",
    "\n",
    "  elif direction == 'right_py_triangle':\n",
    "    for i in range(1, 11):\n",
    "      print('* ' * i)\n",
    "    for i in range(11, 0, -1):\n",
    "        print('* ' * i)\n",
    "\n",
    "  elif direction == 'left_py_triangle':\n",
    "    for i in range(10, 0, -1):\n",
    "      print('* ' * i)\n",
    "    for i in range(10, 0, -1):\n",
    "       print('  ' * (10-i) + '* ' * i)\n",
    "\n",
    "  else:\n",
    "    print('please give correct direction.')"
   ]
  },
  {
   "cell_type": "code",
   "execution_count": 9,
   "id": "e7ddffa2",
   "metadata": {},
   "outputs": [
    {
     "name": "stdout",
     "output_type": "stream",
     "text": [
      "         * \n",
      "        * * \n",
      "       * * * \n",
      "      * * * * \n",
      "     * * * * * \n",
      "    * * * * * * \n",
      "   * * * * * * * \n",
      "  * * * * * * * * \n",
      " * * * * * * * * * \n",
      "* * * * * * * * * * \n"
     ]
    }
   ],
   "source": [
    "print_pattern(direction='triangle')"
   ]
  },
  {
   "cell_type": "code",
   "execution_count": 10,
   "id": "7596ce3e",
   "metadata": {},
   "outputs": [
    {
     "name": "stdout",
     "output_type": "stream",
     "text": [
      "* * * * * * * * * * \n",
      "* * * * * * * * * \n",
      "* * * * * * * * \n",
      "* * * * * * * \n",
      "* * * * * * \n",
      "* * * * * \n",
      "* * * * \n",
      "* * * \n",
      "* * \n",
      "* \n",
      "* * * * * * * * * * \n",
      "  * * * * * * * * * \n",
      "    * * * * * * * * \n",
      "      * * * * * * * \n",
      "        * * * * * * \n",
      "          * * * * * \n",
      "            * * * * \n",
      "              * * * \n",
      "                * * \n",
      "                  * \n"
     ]
    }
   ],
   "source": [
    "print_pattern(direction='left_py_triangle')"
   ]
  },
  {
   "cell_type": "code",
   "execution_count": 11,
   "id": "c7f5c4bc",
   "metadata": {},
   "outputs": [
    {
     "name": "stdout",
     "output_type": "stream",
     "text": [
      "* * * * * * * * * * \n",
      "* * * * * * * * * \n",
      "* * * * * * * * \n",
      "* * * * * * * \n",
      "* * * * * * \n",
      "* * * * * \n",
      "* * * * \n",
      "* * * \n",
      "* * \n",
      "* \n"
     ]
    }
   ],
   "source": [
    "print_pattern(direction='reverse_right_triangle')"
   ]
  },
  {
   "cell_type": "code",
   "execution_count": 12,
   "id": "145f004b",
   "metadata": {},
   "outputs": [
    {
     "name": "stdout",
     "output_type": "stream",
     "text": [
      "* \n",
      "* * \n",
      "* * * \n",
      "* * * * \n",
      "* * * * * \n",
      "* * * * * * \n",
      "* * * * * * * \n",
      "* * * * * * * * \n",
      "* * * * * * * * * \n",
      "* * * * * * * * * * \n",
      "* * * * * * * * * * * \n",
      "* * * * * * * * * * \n",
      "* * * * * * * * * \n",
      "* * * * * * * * \n",
      "* * * * * * * \n",
      "* * * * * * \n",
      "* * * * * \n",
      "* * * * \n",
      "* * * \n",
      "* * \n",
      "* \n"
     ]
    }
   ],
   "source": [
    "print_pattern(direction='right_py_triangle')"
   ]
  },
  {
   "cell_type": "code",
   "execution_count": 13,
   "id": "05470439",
   "metadata": {},
   "outputs": [
    {
     "name": "stdout",
     "output_type": "stream",
     "text": [
      "* * * * * * * * * * \n",
      "  * * * * * * * * * \n",
      "    * * * * * * * * \n",
      "      * * * * * * * \n",
      "        * * * * * * \n",
      "          * * * * * \n",
      "            * * * * \n",
      "              * * * \n",
      "                * * \n",
      "                  * \n"
     ]
    }
   ],
   "source": [
    "print_pattern(direction='reverse_left_triangle')"
   ]
  },
  {
   "cell_type": "code",
   "execution_count": 14,
   "id": "25bfb625",
   "metadata": {},
   "outputs": [
    {
     "name": "stdout",
     "output_type": "stream",
     "text": [
      "* \n",
      "* * \n",
      "* * * \n",
      "* * * * \n",
      "* * * * * \n",
      "* * * * * * \n",
      "* * * * * * * \n",
      "* * * * * * * * \n",
      "* * * * * * * * * \n",
      "* * * * * * * * * * \n"
     ]
    }
   ],
   "source": [
    "print_pattern(direction='right_triangle')"
   ]
  },
  {
   "cell_type": "code",
   "execution_count": 15,
   "id": "56a3286f",
   "metadata": {},
   "outputs": [
    {
     "name": "stdout",
     "output_type": "stream",
     "text": [
      "* * * * * * \n",
      " * * * * * \n",
      "  * * * * \n",
      "   * * * \n",
      "    * * \n",
      "     * \n"
     ]
    }
   ],
   "source": [
    "print_pattern(direction='reverse_triangle')"
   ]
  },
  {
   "cell_type": "code",
   "execution_count": null,
   "id": "5302c1e5",
   "metadata": {},
   "outputs": [],
   "source": []
  }
 ],
 "metadata": {
  "kernelspec": {
   "display_name": "Python 3 (ipykernel)",
   "language": "python",
   "name": "python3"
  },
  "language_info": {
   "codemirror_mode": {
    "name": "ipython",
    "version": 3
   },
   "file_extension": ".py",
   "mimetype": "text/x-python",
   "name": "python",
   "nbconvert_exporter": "python",
   "pygments_lexer": "ipython3",
   "version": "3.9.12"
  }
 },
 "nbformat": 4,
 "nbformat_minor": 5
}
